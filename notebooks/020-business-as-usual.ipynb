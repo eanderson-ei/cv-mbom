{
 "cells": [
  {
   "cell_type": "markdown",
   "metadata": {},
   "source": [
    "# Business As Usual"
   ]
  },
  {
   "cell_type": "markdown",
   "metadata": {},
   "source": [
    "This section of the notebook uses a bootstrap approach to model the distribution of potential ecosystem service outcomes (i.e., amount of ecosystem services acquired as fields are fallowed) that can be expected with the amount of fallowing required to meet SGMA targets per region, as defined by [Medellin-Azuara, Josue et al. (2019). Water and the Future of the San Joaquin Valley, Technical Appendix C: Potential Economic Impacts of Reducing Water Use on San Joaquin Valley Agriculture. Public Policy Insitute of California.](https://www.ppic.org/publication/water-and-the-future-of-the-san-joaquin-valley/)\n",
    "\n",
    "Results are saved in tabular format for the region evaluated in the outputs/ directory of this project folder.  "
   ]
  },
  {
   "cell_type": "markdown",
   "metadata": {},
   "source": [
    "### User Inputs"
   ]
  },
  {
   "cell_type": "code",
   "execution_count": 1,
   "metadata": {},
   "outputs": [],
   "source": [
    "# User-specified inputs\n",
    "region_code = 'SW'\n",
    "\n",
    "# Path to output, use as input to future notebooks\n",
    "outname = f'../outputs/trials_{region_code}.csv'\n",
    "\n",
    "# Specify whether to save output\n",
    "save = True"
   ]
  },
  {
   "cell_type": "code",
   "execution_count": 2,
   "metadata": {},
   "outputs": [],
   "source": [
    "import pandas as pd\n",
    "import numpy as np\n",
    "import geopandas as gd\n",
    "import geopandas as gd\n",
    "import matplotlib.pyplot as plt\n",
    "import seaborn as sns"
   ]
  },
  {
   "cell_type": "code",
   "execution_count": 3,
   "metadata": {},
   "outputs": [],
   "source": [
    "# Input from 010-data-prep\n",
    "fields = gd.read_file('../outputs/fields_shape.shp')"
   ]
  },
  {
   "cell_type": "code",
   "execution_count": 4,
   "metadata": {
    "scrolled": false
   },
   "outputs": [
    {
     "data": {
      "text/html": [
       "<div>\n",
       "<style scoped>\n",
       "    .dataframe tbody tr th:only-of-type {\n",
       "        vertical-align: middle;\n",
       "    }\n",
       "\n",
       "    .dataframe tbody tr th {\n",
       "        vertical-align: top;\n",
       "    }\n",
       "\n",
       "    .dataframe thead th {\n",
       "        text-align: right;\n",
       "    }\n",
       "</style>\n",
       "<table border=\"1\" class=\"dataframe\">\n",
       "  <thead>\n",
       "    <tr style=\"text-align: right;\">\n",
       "      <th></th>\n",
       "      <th>alfalfa-pasture</th>\n",
       "      <th>corn</th>\n",
       "      <th>field-crops-grains</th>\n",
       "      <th>veg-fruits</th>\n",
       "      <th>trees-vines</th>\n",
       "    </tr>\n",
       "    <tr>\n",
       "      <th>region</th>\n",
       "      <th></th>\n",
       "      <th></th>\n",
       "      <th></th>\n",
       "      <th></th>\n",
       "      <th></th>\n",
       "    </tr>\n",
       "  </thead>\n",
       "  <tbody>\n",
       "    <tr>\n",
       "      <th>NW</th>\n",
       "      <td>21320.0</td>\n",
       "      <td>8400.0</td>\n",
       "      <td>85920.0</td>\n",
       "      <td>3880.0</td>\n",
       "      <td>3880.0</td>\n",
       "    </tr>\n",
       "    <tr>\n",
       "      <th>NE</th>\n",
       "      <td>56850.0</td>\n",
       "      <td>7750.0</td>\n",
       "      <td>23580.0</td>\n",
       "      <td>2260.0</td>\n",
       "      <td>16800.0</td>\n",
       "    </tr>\n",
       "    <tr>\n",
       "      <th>SW</th>\n",
       "      <td>36820.0</td>\n",
       "      <td>3880.0</td>\n",
       "      <td>72350.0</td>\n",
       "      <td>8400.0</td>\n",
       "      <td>7750.0</td>\n",
       "    </tr>\n",
       "    <tr>\n",
       "      <th>SE</th>\n",
       "      <td>38760.0</td>\n",
       "      <td>16150.0</td>\n",
       "      <td>124030.0</td>\n",
       "      <td>650.0</td>\n",
       "      <td>9690.0</td>\n",
       "    </tr>\n",
       "    <tr>\n",
       "      <th>KR</th>\n",
       "      <td>88500.0</td>\n",
       "      <td>54910.0</td>\n",
       "      <td>42640.0</td>\n",
       "      <td>3230.0</td>\n",
       "      <td>11630.0</td>\n",
       "    </tr>\n",
       "  </tbody>\n",
       "</table>\n",
       "</div>"
      ],
      "text/plain": [
       "        alfalfa-pasture     corn  field-crops-grains  veg-fruits  trees-vines\n",
       "region                                                                       \n",
       "NW              21320.0   8400.0             85920.0      3880.0       3880.0\n",
       "NE              56850.0   7750.0             23580.0      2260.0      16800.0\n",
       "SW              36820.0   3880.0             72350.0      8400.0       7750.0\n",
       "SE              38760.0  16150.0            124030.0       650.0       9690.0\n",
       "KR              88500.0  54910.0             42640.0      3230.0      11630.0"
      ]
     },
     "execution_count": 4,
     "metadata": {},
     "output_type": "execute_result"
    }
   ],
   "source": [
    "targets = pd.read_csv('../data/targets.csv', index_col='region', thousands=',')\n",
    "targets"
   ]
  },
  {
   "cell_type": "markdown",
   "metadata": {},
   "source": [
    "### Model Business as Usual Case"
   ]
  },
  {
   "cell_type": "code",
   "execution_count": 5,
   "metadata": {},
   "outputs": [
    {
     "data": {
      "text/plain": [
       "Index(['Crop2014', 'Acres', 'FID', 'County', 'PPIC_Regio', 'Crop_PPIC',\n",
       "       'Price', 'Rotations', 'AdjustedPr', 'FieldCropP', 'WaterConsu',\n",
       "       'SavedWater', 'SavedWat_1', 'TNC', 'Krat', 'Kitfox', 'Corridors',\n",
       "       'CPAD', 'TNC_Total', 'Krat_Total', 'Kitfox_Tot', 'Corridors_',\n",
       "       'CPAD_Total', 'geometry'],\n",
       "      dtype='object')"
      ]
     },
     "execution_count": 5,
     "metadata": {},
     "output_type": "execute_result"
    }
   ],
   "source": [
    "fields.columns"
   ]
  },
  {
   "cell_type": "code",
   "execution_count": 6,
   "metadata": {},
   "outputs": [],
   "source": [
    "#Specify list of columns to track for each repetition\n",
    "outcome_cols = ['Acres', 'FieldCropP', 'SavedWat_1', 'TNC_Total', 'Krat_Total',\n",
    "                'Kitfox_Tot', 'Corridors_', 'CPAD_Total'] "
   ]
  },
  {
   "cell_type": "code",
   "execution_count": 7,
   "metadata": {},
   "outputs": [],
   "source": [
    "# specify region, list of crop types, and list of ecosystem service outcomes to track\n",
    "# set up dataframe to store outcomes of each trial\n",
    "# for 1000 tries:\n",
    "#    set up master df (shape = 0 x number of columns of df)\n",
    "#    for crop in crop type:\n",
    "#        subset dataset, get target, check that sufficient area is available\n",
    "#        randomly sort the df\n",
    "#        subset to meet target\n",
    "#        append to master df\n",
    "#    calculate total ecosystem services accumulated and acres faLLowed in master df\n",
    "#    append outcomes to trials dataframe\n",
    "\n",
    "crop_types = targets.columns\n",
    "trials = pd.DataFrame(columns=outcome_cols)\n",
    "df = fields[fields['PPIC_Regio']==region_code]\n",
    "\n",
    "for i in range(100):\n",
    "    df_fallow = pd.DataFrame(columns=df.columns)\n",
    "    for crop in crop_types:\n",
    "        df_crop = df[df['Crop_PPIC'] == crop]\n",
    "        target = targets.loc[region_code, crop]\n",
    "        df_crop_shuffle = df_crop.sample(n=df_crop.shape[0])\n",
    "        df_crop_shuffle.sort_values('AdjustedPr', inplace=True)\n",
    "        # Identify fields up to target\n",
    "        df_fallow_bool = df_crop_shuffle['Acres'].cumsum() < target\n",
    "        # Get one additional field by updating value from False to True where \n",
    "        # first instance of False is located\n",
    "        if not df_fallow_bool[df_fallow_bool!=True].empty:\n",
    "            index = df_fallow_bool[df_fallow_bool!=True].index[0]\n",
    "            df_fallow_bool.at[index]=True        \n",
    "        df_crop_fallow = df_crop_shuffle[df_fallow_bool]\n",
    "        df_fallow = df_fallow.append(df_crop_fallow, ignore_index=True)\n",
    "    outcomes = pd.DataFrame(df_fallow[outcome_cols].sum()).T\n",
    "    areas = df_fallow[['Acres','Crop_PPIC']].groupby('Crop_PPIC').sum().T\n",
    "    areas.reset_index(drop=True, inplace=True)\n",
    "    output = pd.concat([outcomes, areas], axis=1, sort=False)\n",
    "    trials = trials.append(output, ignore_index=True, sort=False)"
   ]
  },
  {
   "cell_type": "code",
   "execution_count": 8,
   "metadata": {},
   "outputs": [
    {
     "data": {
      "text/plain": [
       "trees-vines           7974\n",
       "veg-fruits            2176\n",
       "corn                  1716\n",
       "field-crops-grains    1642\n",
       "alfalfa-pasture       1516\n",
       "Name: Crop_PPIC, dtype: int64"
      ]
     },
     "execution_count": 8,
     "metadata": {},
     "output_type": "execute_result"
    }
   ],
   "source": [
    "df['Crop_PPIC'].value_counts()"
   ]
  },
  {
   "cell_type": "code",
   "execution_count": 9,
   "metadata": {},
   "outputs": [
    {
     "data": {
      "text/html": [
       "<div>\n",
       "<style scoped>\n",
       "    .dataframe tbody tr th:only-of-type {\n",
       "        vertical-align: middle;\n",
       "    }\n",
       "\n",
       "    .dataframe tbody tr th {\n",
       "        vertical-align: top;\n",
       "    }\n",
       "\n",
       "    .dataframe thead th {\n",
       "        text-align: right;\n",
       "    }\n",
       "</style>\n",
       "<table border=\"1\" class=\"dataframe\">\n",
       "  <thead>\n",
       "    <tr style=\"text-align: right;\">\n",
       "      <th></th>\n",
       "      <th>Acres</th>\n",
       "      <th>FieldCropP</th>\n",
       "      <th>SavedWat_1</th>\n",
       "      <th>TNC_Total</th>\n",
       "      <th>Krat_Total</th>\n",
       "      <th>Kitfox_Tot</th>\n",
       "      <th>Corridors_</th>\n",
       "      <th>CPAD_Total</th>\n",
       "      <th>alfalfa-pasture</th>\n",
       "      <th>corn</th>\n",
       "      <th>field-crops-grains</th>\n",
       "      <th>trees-vines</th>\n",
       "      <th>veg-fruits</th>\n",
       "    </tr>\n",
       "  </thead>\n",
       "  <tbody>\n",
       "    <tr>\n",
       "      <th>0</th>\n",
       "      <td>129332.196758</td>\n",
       "      <td>2.152674e+08</td>\n",
       "      <td>16864.493396</td>\n",
       "      <td>3134.534534</td>\n",
       "      <td>1279.332668</td>\n",
       "      <td>7187.620294</td>\n",
       "      <td>9257.270522</td>\n",
       "      <td>21545.218497</td>\n",
       "      <td>36826.351257</td>\n",
       "      <td>3884.417951</td>\n",
       "      <td>72416.958533</td>\n",
       "      <td>7786.462761</td>\n",
       "      <td>8418.006256</td>\n",
       "    </tr>\n",
       "    <tr>\n",
       "      <th>1</th>\n",
       "      <td>129551.629060</td>\n",
       "      <td>2.155434e+08</td>\n",
       "      <td>16917.627238</td>\n",
       "      <td>3889.770561</td>\n",
       "      <td>1259.124231</td>\n",
       "      <td>6913.290185</td>\n",
       "      <td>9615.195214</td>\n",
       "      <td>19246.823971</td>\n",
       "      <td>36948.682437</td>\n",
       "      <td>3912.993505</td>\n",
       "      <td>72507.907221</td>\n",
       "      <td>7769.054536</td>\n",
       "      <td>8412.991361</td>\n",
       "    </tr>\n",
       "    <tr>\n",
       "      <th>2</th>\n",
       "      <td>129361.345455</td>\n",
       "      <td>2.154555e+08</td>\n",
       "      <td>16895.237982</td>\n",
       "      <td>3489.154172</td>\n",
       "      <td>1107.901764</td>\n",
       "      <td>6962.040054</td>\n",
       "      <td>9787.097672</td>\n",
       "      <td>20406.812255</td>\n",
       "      <td>36824.602812</td>\n",
       "      <td>3886.726568</td>\n",
       "      <td>72449.658008</td>\n",
       "      <td>7755.065399</td>\n",
       "      <td>8445.292669</td>\n",
       "    </tr>\n",
       "    <tr>\n",
       "      <th>3</th>\n",
       "      <td>129636.503164</td>\n",
       "      <td>2.162264e+08</td>\n",
       "      <td>16913.123510</td>\n",
       "      <td>4281.572162</td>\n",
       "      <td>1388.509834</td>\n",
       "      <td>6932.232910</td>\n",
       "      <td>9243.858522</td>\n",
       "      <td>20921.434579</td>\n",
       "      <td>36824.339005</td>\n",
       "      <td>3969.620993</td>\n",
       "      <td>72561.982303</td>\n",
       "      <td>7811.223956</td>\n",
       "      <td>8469.336908</td>\n",
       "    </tr>\n",
       "    <tr>\n",
       "      <th>4</th>\n",
       "      <td>129283.761645</td>\n",
       "      <td>2.151180e+08</td>\n",
       "      <td>16877.987043</td>\n",
       "      <td>3966.136061</td>\n",
       "      <td>1254.188258</td>\n",
       "      <td>6658.697405</td>\n",
       "      <td>9972.624031</td>\n",
       "      <td>20856.067027</td>\n",
       "      <td>36838.989530</td>\n",
       "      <td>3906.226376</td>\n",
       "      <td>72367.219815</td>\n",
       "      <td>7757.483096</td>\n",
       "      <td>8413.842827</td>\n",
       "    </tr>\n",
       "    <tr>\n",
       "      <th>5</th>\n",
       "      <td>129556.908910</td>\n",
       "      <td>2.159562e+08</td>\n",
       "      <td>16904.262973</td>\n",
       "      <td>3557.043743</td>\n",
       "      <td>1017.454658</td>\n",
       "      <td>6019.968354</td>\n",
       "      <td>8631.792504</td>\n",
       "      <td>18642.978140</td>\n",
       "      <td>36837.159648</td>\n",
       "      <td>3912.096576</td>\n",
       "      <td>72577.949112</td>\n",
       "      <td>7764.459841</td>\n",
       "      <td>8465.243733</td>\n",
       "    </tr>\n",
       "    <tr>\n",
       "      <th>6</th>\n",
       "      <td>129342.330067</td>\n",
       "      <td>2.155419e+08</td>\n",
       "      <td>16890.040900</td>\n",
       "      <td>3704.534344</td>\n",
       "      <td>1210.898068</td>\n",
       "      <td>6593.973264</td>\n",
       "      <td>8903.805985</td>\n",
       "      <td>19830.617991</td>\n",
       "      <td>36867.809467</td>\n",
       "      <td>3892.864773</td>\n",
       "      <td>72357.939638</td>\n",
       "      <td>7754.582957</td>\n",
       "      <td>8469.133232</td>\n",
       "    </tr>\n",
       "    <tr>\n",
       "      <th>7</th>\n",
       "      <td>129744.312175</td>\n",
       "      <td>2.165872e+08</td>\n",
       "      <td>16918.534334</td>\n",
       "      <td>2979.191072</td>\n",
       "      <td>1263.548840</td>\n",
       "      <td>7071.027735</td>\n",
       "      <td>9904.876379</td>\n",
       "      <td>20382.111882</td>\n",
       "      <td>36851.568621</td>\n",
       "      <td>4005.343558</td>\n",
       "      <td>72625.603396</td>\n",
       "      <td>7755.206742</td>\n",
       "      <td>8506.589858</td>\n",
       "    </tr>\n",
       "    <tr>\n",
       "      <th>8</th>\n",
       "      <td>129438.628142</td>\n",
       "      <td>2.155647e+08</td>\n",
       "      <td>16898.468268</td>\n",
       "      <td>3585.690013</td>\n",
       "      <td>1056.110720</td>\n",
       "      <td>6698.043614</td>\n",
       "      <td>8815.996912</td>\n",
       "      <td>18799.275789</td>\n",
       "      <td>36866.292634</td>\n",
       "      <td>3906.817869</td>\n",
       "      <td>72459.610644</td>\n",
       "      <td>7764.600577</td>\n",
       "      <td>8441.306418</td>\n",
       "    </tr>\n",
       "    <tr>\n",
       "      <th>9</th>\n",
       "      <td>129637.274542</td>\n",
       "      <td>2.158238e+08</td>\n",
       "      <td>16927.449373</td>\n",
       "      <td>3996.976154</td>\n",
       "      <td>1339.436493</td>\n",
       "      <td>7766.565240</td>\n",
       "      <td>9362.976305</td>\n",
       "      <td>21761.395597</td>\n",
       "      <td>36889.104813</td>\n",
       "      <td>3881.009966</td>\n",
       "      <td>72671.742163</td>\n",
       "      <td>7766.531818</td>\n",
       "      <td>8428.885783</td>\n",
       "    </tr>\n",
       "  </tbody>\n",
       "</table>\n",
       "</div>"
      ],
      "text/plain": [
       "           Acres    FieldCropP    SavedWat_1    TNC_Total   Krat_Total  \\\n",
       "0  129332.196758  2.152674e+08  16864.493396  3134.534534  1279.332668   \n",
       "1  129551.629060  2.155434e+08  16917.627238  3889.770561  1259.124231   \n",
       "2  129361.345455  2.154555e+08  16895.237982  3489.154172  1107.901764   \n",
       "3  129636.503164  2.162264e+08  16913.123510  4281.572162  1388.509834   \n",
       "4  129283.761645  2.151180e+08  16877.987043  3966.136061  1254.188258   \n",
       "5  129556.908910  2.159562e+08  16904.262973  3557.043743  1017.454658   \n",
       "6  129342.330067  2.155419e+08  16890.040900  3704.534344  1210.898068   \n",
       "7  129744.312175  2.165872e+08  16918.534334  2979.191072  1263.548840   \n",
       "8  129438.628142  2.155647e+08  16898.468268  3585.690013  1056.110720   \n",
       "9  129637.274542  2.158238e+08  16927.449373  3996.976154  1339.436493   \n",
       "\n",
       "    Kitfox_Tot   Corridors_    CPAD_Total  alfalfa-pasture         corn  \\\n",
       "0  7187.620294  9257.270522  21545.218497     36826.351257  3884.417951   \n",
       "1  6913.290185  9615.195214  19246.823971     36948.682437  3912.993505   \n",
       "2  6962.040054  9787.097672  20406.812255     36824.602812  3886.726568   \n",
       "3  6932.232910  9243.858522  20921.434579     36824.339005  3969.620993   \n",
       "4  6658.697405  9972.624031  20856.067027     36838.989530  3906.226376   \n",
       "5  6019.968354  8631.792504  18642.978140     36837.159648  3912.096576   \n",
       "6  6593.973264  8903.805985  19830.617991     36867.809467  3892.864773   \n",
       "7  7071.027735  9904.876379  20382.111882     36851.568621  4005.343558   \n",
       "8  6698.043614  8815.996912  18799.275789     36866.292634  3906.817869   \n",
       "9  7766.565240  9362.976305  21761.395597     36889.104813  3881.009966   \n",
       "\n",
       "   field-crops-grains  trees-vines   veg-fruits  \n",
       "0        72416.958533  7786.462761  8418.006256  \n",
       "1        72507.907221  7769.054536  8412.991361  \n",
       "2        72449.658008  7755.065399  8445.292669  \n",
       "3        72561.982303  7811.223956  8469.336908  \n",
       "4        72367.219815  7757.483096  8413.842827  \n",
       "5        72577.949112  7764.459841  8465.243733  \n",
       "6        72357.939638  7754.582957  8469.133232  \n",
       "7        72625.603396  7755.206742  8506.589858  \n",
       "8        72459.610644  7764.600577  8441.306418  \n",
       "9        72671.742163  7766.531818  8428.885783  "
      ]
     },
     "execution_count": 9,
     "metadata": {},
     "output_type": "execute_result"
    }
   ],
   "source": [
    "trials.head(10)"
   ]
  },
  {
   "cell_type": "markdown",
   "metadata": {},
   "source": [
    "#### Save output"
   ]
  },
  {
   "cell_type": "code",
   "execution_count": 10,
   "metadata": {},
   "outputs": [],
   "source": [
    "trials['PPIC_Regio'] = region_code"
   ]
  },
  {
   "cell_type": "code",
   "execution_count": 11,
   "metadata": {},
   "outputs": [],
   "source": [
    "if save:\n",
    "    trials.to_csv(outname)"
   ]
  },
  {
   "cell_type": "markdown",
   "metadata": {},
   "source": [
    "### Visualize results"
   ]
  },
  {
   "cell_type": "markdown",
   "metadata": {},
   "source": [
    "#### Compare to PPIC Report"
   ]
  },
  {
   "cell_type": "code",
   "execution_count": 12,
   "metadata": {},
   "outputs": [
    {
     "name": "stdout",
     "output_type": "stream",
     "text": [
      "$215,720,757.10\n"
     ]
    }
   ],
   "source": [
    "# Average revenue loss\n",
    "value = trials['FieldCropP'].mean()\n",
    "print (f'${value:,.2f}')"
   ]
  },
  {
   "cell_type": "markdown",
   "metadata": {},
   "source": [
    "#### Ensure sufficient acreage fallowed"
   ]
  },
  {
   "cell_type": "code",
   "execution_count": 13,
   "metadata": {},
   "outputs": [],
   "source": [
    "# Bar chart with each crop type on x-axis, acreage fallowed as bars, and targets as dots. Visualize difference between\n",
    "# acreage fallowed and target for each crop type in one chart."
   ]
  },
  {
   "cell_type": "code",
   "execution_count": 14,
   "metadata": {},
   "outputs": [
    {
     "name": "stderr",
     "output_type": "stream",
     "text": [
      "C:\\Users\\Erik\\Anaconda3\\lib\\site-packages\\seaborn\\distributions.py:214: MatplotlibDeprecationWarning: \n",
      "The 'normed' kwarg was deprecated in Matplotlib 2.1 and will be removed in 3.1. Use 'density' instead.\n",
      "  color=hist_color, **hist_kws)\n"
     ]
    },
    {
     "data": {
      "image/png": "[encoded data removed]",
      "text/plain": [
       "<Figure size 432x288 with 1 Axes>"
      ]
     },
     "metadata": {
      "needs_background": "light"
     },
     "output_type": "display_data"
    }
   ],
   "source": [
    "crop_type = 'veg-fruits'\n",
    "sns.distplot(trials[crop_type]-targets.loc[region_code, crop_type], rug=True)\n",
    "sns.despine()"
   ]
  },
  {
   "cell_type": "code",
   "execution_count": 15,
   "metadata": {},
   "outputs": [
    {
     "data": {
      "image/png": "[encoded data removed]",
      "text/plain": [
       "<Figure size 432x288 with 1 Axes>"
      ]
     },
     "metadata": {
      "needs_background": "light"
     },
     "output_type": "display_data"
    }
   ],
   "source": [
    "sns.distplot(trials['Corridors_'], rug=True)\n",
    "sns.despine()"
   ]
  },
  {
   "cell_type": "code",
   "execution_count": 16,
   "metadata": {},
   "outputs": [
    {
     "data": {
      "image/png": "[encoded data removed]",
      "text/plain": [
       "<Figure size 432x288 with 1 Axes>"
      ]
     },
     "metadata": {
      "needs_background": "light"
     },
     "output_type": "display_data"
    }
   ],
   "source": [
    "sns.distplot(trials['FieldCropP'], rug=True)\n",
    "sns.despine()"
   ]
  },
  {
   "cell_type": "code",
   "execution_count": null,
   "metadata": {},
   "outputs": [],
   "source": []
  }
 ],
 "metadata": {
  "kernelspec": {
   "display_name": "Python 3",
   "language": "python",
   "name": "python3"
  },
  "language_info": {
   "codemirror_mode": {
    "name": "ipython",
    "version": 3
   },
   "file_extension": ".py",
   "mimetype": "text/x-python",
   "name": "python",
   "nbconvert_exporter": "python",
   "pygments_lexer": "ipython3",
   "version": "3.7.3"
  }
 },
 "nbformat": 4,
 "nbformat_minor": 2
}
