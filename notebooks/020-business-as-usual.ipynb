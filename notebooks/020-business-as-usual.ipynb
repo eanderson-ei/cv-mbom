{
 "cells": [
  {
   "cell_type": "markdown",
   "metadata": {},
   "source": [
    "# Business As Usual"
   ]
  },
  {
   "cell_type": "markdown",
   "metadata": {},
   "source": [
    "This section of the notebook uses a bootstrap approach to model the distribution of potential ecosystem service outcomes (i.e., amount of ecosystem services acquired as fields are fallowed) that can be expected with the amount of fallowing required to meet SGMA targets per region, as defined by [Medellin-Azuara, Josue et al. (2019). Water and the Future of the San Joaquin Valley, Technical Appendix C: Potential Economic Impacts of Reducing Water Use on San Joaquin Valley Agriculture. Public Policy Insitute of California.](https://www.ppic.org/publication/water-and-the-future-of-the-san-joaquin-valley/)\n",
    "\n",
    "Results are saved in tabular format for the region evaluated in the outputs/ directory of this project folder.  "
   ]
  },
  {
   "cell_type": "markdown",
   "metadata": {},
   "source": [
    "### User Inputs"
   ]
  },
  {
   "cell_type": "code",
   "execution_count": 1,
   "metadata": {},
   "outputs": [],
   "source": [
    "# User-specified inputs\n",
    "region_code = 'SW'\n",
    "\n",
    "# Path to output, use as input to future notebooks\n",
    "outname = f'../outputs/trials_{region_code}.csv'"
   ]
  },
  {
   "cell_type": "code",
   "execution_count": 2,
   "metadata": {},
   "outputs": [],
   "source": [
    "import pandas as pd\n",
    "import numpy as np\n",
    "import geopandas as gd\n",
    "import geopandas as gd\n",
    "import matplotlib.pyplot as plt\n",
    "import seaborn as sns"
   ]
  },
  {
   "cell_type": "code",
   "execution_count": 3,
   "metadata": {},
   "outputs": [],
   "source": [
    "# Input from 010-data-prep\n",
    "fields = gd.read_file('../outputs/fields_shape.shp')"
   ]
  },
  {
   "cell_type": "code",
   "execution_count": 4,
   "metadata": {
    "scrolled": false
   },
   "outputs": [
    {
     "data": {
      "text/html": [
       "<div>\n",
       "<style scoped>\n",
       "    .dataframe tbody tr th:only-of-type {\n",
       "        vertical-align: middle;\n",
       "    }\n",
       "\n",
       "    .dataframe tbody tr th {\n",
       "        vertical-align: top;\n",
       "    }\n",
       "\n",
       "    .dataframe thead th {\n",
       "        text-align: right;\n",
       "    }\n",
       "</style>\n",
       "<table border=\"1\" class=\"dataframe\">\n",
       "  <thead>\n",
       "    <tr style=\"text-align: right;\">\n",
       "      <th></th>\n",
       "      <th>alfalfa-pasture</th>\n",
       "      <th>corn</th>\n",
       "      <th>field-crops-grains</th>\n",
       "      <th>veg-fruits</th>\n",
       "      <th>trees-vines</th>\n",
       "    </tr>\n",
       "    <tr>\n",
       "      <th>region</th>\n",
       "      <th></th>\n",
       "      <th></th>\n",
       "      <th></th>\n",
       "      <th></th>\n",
       "      <th></th>\n",
       "    </tr>\n",
       "  </thead>\n",
       "  <tbody>\n",
       "    <tr>\n",
       "      <th>NW</th>\n",
       "      <td>21320.0</td>\n",
       "      <td>8400.0</td>\n",
       "      <td>85920.0</td>\n",
       "      <td>3880.0</td>\n",
       "      <td>3880.0</td>\n",
       "    </tr>\n",
       "    <tr>\n",
       "      <th>NE</th>\n",
       "      <td>56850.0</td>\n",
       "      <td>7750.0</td>\n",
       "      <td>23580.0</td>\n",
       "      <td>2260.0</td>\n",
       "      <td>16800.0</td>\n",
       "    </tr>\n",
       "    <tr>\n",
       "      <th>SW</th>\n",
       "      <td>36820.0</td>\n",
       "      <td>3880.0</td>\n",
       "      <td>72350.0</td>\n",
       "      <td>8400.0</td>\n",
       "      <td>7750.0</td>\n",
       "    </tr>\n",
       "    <tr>\n",
       "      <th>SE</th>\n",
       "      <td>38760.0</td>\n",
       "      <td>16150.0</td>\n",
       "      <td>124030.0</td>\n",
       "      <td>650.0</td>\n",
       "      <td>9690.0</td>\n",
       "    </tr>\n",
       "    <tr>\n",
       "      <th>KR</th>\n",
       "      <td>88500.0</td>\n",
       "      <td>54910.0</td>\n",
       "      <td>42640.0</td>\n",
       "      <td>3230.0</td>\n",
       "      <td>11630.0</td>\n",
       "    </tr>\n",
       "  </tbody>\n",
       "</table>\n",
       "</div>"
      ],
      "text/plain": [
       "        alfalfa-pasture     corn  field-crops-grains  veg-fruits  trees-vines\n",
       "region                                                                       \n",
       "NW              21320.0   8400.0             85920.0      3880.0       3880.0\n",
       "NE              56850.0   7750.0             23580.0      2260.0      16800.0\n",
       "SW              36820.0   3880.0             72350.0      8400.0       7750.0\n",
       "SE              38760.0  16150.0            124030.0       650.0       9690.0\n",
       "KR              88500.0  54910.0             42640.0      3230.0      11630.0"
      ]
     },
     "execution_count": 4,
     "metadata": {},
     "output_type": "execute_result"
    }
   ],
   "source": [
    "targets = pd.read_csv('../data/targets.csv', index_col='region', thousands=',')\n",
    "targets"
   ]
  },
  {
   "cell_type": "markdown",
   "metadata": {},
   "source": [
    "### Model Business as Usual Case"
   ]
  },
  {
   "cell_type": "code",
   "execution_count": 5,
   "metadata": {},
   "outputs": [
    {
     "data": {
      "text/plain": [
       "Index(['Crop2014', 'Acres', 'FID', 'County', 'PPIC_Regio', 'Crop_PPIC',\n",
       "       'Price', 'Rotations', 'AdjustedPr', 'FieldCropP', 'WaterConsu',\n",
       "       'SavedWater', 'SavedWat_1', 'TNC', 'Krat', 'Kitfox', 'Corridors',\n",
       "       'CPAD', 'TNC_Total', 'Krat_Total', 'Kitfox_Tot', 'Corridors_',\n",
       "       'CPAD_Total', 'geometry'],\n",
       "      dtype='object')"
      ]
     },
     "execution_count": 5,
     "metadata": {},
     "output_type": "execute_result"
    }
   ],
   "source": [
    "fields.columns"
   ]
  },
  {
   "cell_type": "code",
   "execution_count": 6,
   "metadata": {},
   "outputs": [],
   "source": [
    "#Specify list of columns to track for each repetition\n",
    "outcome_cols = ['Acres', 'FieldCropP', 'SavedWat_1', 'TNC_Total', 'Krat_Total',\n",
    "                'Kitfox_Tot', 'Corridors_', 'CPAD_Total'] "
   ]
  },
  {
   "cell_type": "code",
   "execution_count": 7,
   "metadata": {},
   "outputs": [],
   "source": [
    "# specify region, list of crop types, and list of ecosystem service outcomes to track\n",
    "# set up dataframe to store outcomes of each trial\n",
    "# for 1000 tries:\n",
    "#    set up master df (shape = 0 x number of columns of df)\n",
    "#    for crop in crop type:\n",
    "#        subset dataset, get target, check that sufficient area is available\n",
    "#        randomly sort the df\n",
    "#        subset to meet target\n",
    "#        append to master df\n",
    "#    calculate total ecosystem services accumulated and acres faLLowed in master df\n",
    "#    append outcomes to trials dataframe\n",
    "\n",
    "crop_types = targets.columns\n",
    "trials = pd.DataFrame(columns=outcome_cols)\n",
    "df = fields[fields['PPIC_Regio']==region_code]\n",
    "\n",
    "for i in range(100):\n",
    "    df_fallow = pd.DataFrame(columns=df.columns)\n",
    "    for crop in crop_types:\n",
    "        df_crop = df[df['Crop_PPIC'] == crop]\n",
    "        target = targets.loc[region_code, crop]\n",
    "        df_crop_shuffle = df_crop.sample(n=df_crop.shape[0])\n",
    "        df_crop_shuffle.sort_values('AdjustedPr', inplace=True)\n",
    "        # Identify fields up to target\n",
    "        df_fallow_bool = df_crop_shuffle['Acres'].cumsum() < target\n",
    "        # Get one additional field by updating value from False to True where \n",
    "        # first instance of False is located\n",
    "        if not df_fallow_bool[df_fallow_bool!=True].empty:\n",
    "            index = df_fallow_bool[df_fallow_bool!=True].index[0]\n",
    "            df_fallow_bool.at[index]=True        \n",
    "        df_crop_fallow = df_crop_shuffle[df_fallow_bool]\n",
    "        df_fallow = df_fallow.append(df_crop_fallow, ignore_index=True)\n",
    "    outcomes = pd.DataFrame(df_fallow[outcome_cols].sum()).T\n",
    "    areas = df_fallow[['Acres','Crop_PPIC']].groupby('Crop_PPIC').sum().T\n",
    "    areas.reset_index(drop=True, inplace=True)\n",
    "    output = pd.concat([outcomes, areas], axis=1, sort=False)\n",
    "    trials = trials.append(output, ignore_index=True, sort=False)"
   ]
  },
  {
   "cell_type": "code",
   "execution_count": 8,
   "metadata": {},
   "outputs": [
    {
     "data": {
      "text/plain": [
       "trees-vines           7974\n",
       "veg-fruits            2176\n",
       "corn                  1716\n",
       "field-crops-grains    1642\n",
       "alfalfa-pasture       1516\n",
       "Name: Crop_PPIC, dtype: int64"
      ]
     },
     "execution_count": 8,
     "metadata": {},
     "output_type": "execute_result"
    }
   ],
   "source": [
    "df['Crop_PPIC'].value_counts()"
   ]
  },
  {
   "cell_type": "code",
   "execution_count": 9,
   "metadata": {},
   "outputs": [
    {
     "data": {
      "text/html": [
       "<div>\n",
       "<style scoped>\n",
       "    .dataframe tbody tr th:only-of-type {\n",
       "        vertical-align: middle;\n",
       "    }\n",
       "\n",
       "    .dataframe tbody tr th {\n",
       "        vertical-align: top;\n",
       "    }\n",
       "\n",
       "    .dataframe thead th {\n",
       "        text-align: right;\n",
       "    }\n",
       "</style>\n",
       "<table border=\"1\" class=\"dataframe\">\n",
       "  <thead>\n",
       "    <tr style=\"text-align: right;\">\n",
       "      <th></th>\n",
       "      <th>Acres</th>\n",
       "      <th>FieldCropP</th>\n",
       "      <th>SavedWat_1</th>\n",
       "      <th>TNC_Total</th>\n",
       "      <th>Krat_Total</th>\n",
       "      <th>Kitfox_Tot</th>\n",
       "      <th>Corridors_</th>\n",
       "      <th>CPAD_Total</th>\n",
       "      <th>alfalfa-pasture</th>\n",
       "      <th>corn</th>\n",
       "      <th>field-crops-grains</th>\n",
       "      <th>trees-vines</th>\n",
       "      <th>veg-fruits</th>\n",
       "    </tr>\n",
       "  </thead>\n",
       "  <tbody>\n",
       "    <tr>\n",
       "      <th>0</th>\n",
       "      <td>129507.129127</td>\n",
       "      <td>2.156985e+08</td>\n",
       "      <td>16917.293593</td>\n",
       "      <td>4628.323272</td>\n",
       "      <td>1237.097414</td>\n",
       "      <td>6980.119712</td>\n",
       "      <td>9688.171243</td>\n",
       "      <td>20593.866427</td>\n",
       "      <td>36842.183852</td>\n",
       "      <td>3896.086904</td>\n",
       "      <td>72533.135421</td>\n",
       "      <td>7802.656848</td>\n",
       "      <td>8433.066102</td>\n",
       "    </tr>\n",
       "    <tr>\n",
       "      <th>1</th>\n",
       "      <td>129525.034623</td>\n",
       "      <td>2.157140e+08</td>\n",
       "      <td>16952.487879</td>\n",
       "      <td>3724.713771</td>\n",
       "      <td>1067.123943</td>\n",
       "      <td>6452.418942</td>\n",
       "      <td>8383.487636</td>\n",
       "      <td>19665.292199</td>\n",
       "      <td>36919.126974</td>\n",
       "      <td>3907.913798</td>\n",
       "      <td>72488.866294</td>\n",
       "      <td>7763.020304</td>\n",
       "      <td>8446.107253</td>\n",
       "    </tr>\n",
       "    <tr>\n",
       "      <th>2</th>\n",
       "      <td>129435.228018</td>\n",
       "      <td>2.153589e+08</td>\n",
       "      <td>16866.650711</td>\n",
       "      <td>3306.495638</td>\n",
       "      <td>956.637372</td>\n",
       "      <td>6262.876405</td>\n",
       "      <td>9657.604566</td>\n",
       "      <td>21597.009687</td>\n",
       "      <td>36917.340562</td>\n",
       "      <td>3898.355255</td>\n",
       "      <td>72443.374263</td>\n",
       "      <td>7758.841967</td>\n",
       "      <td>8417.315972</td>\n",
       "    </tr>\n",
       "    <tr>\n",
       "      <th>3</th>\n",
       "      <td>129637.427327</td>\n",
       "      <td>2.161558e+08</td>\n",
       "      <td>16901.746421</td>\n",
       "      <td>3406.379269</td>\n",
       "      <td>1107.995654</td>\n",
       "      <td>6788.546954</td>\n",
       "      <td>9081.213398</td>\n",
       "      <td>20576.024246</td>\n",
       "      <td>36842.114942</td>\n",
       "      <td>3903.502228</td>\n",
       "      <td>72603.461452</td>\n",
       "      <td>7825.904157</td>\n",
       "      <td>8462.444549</td>\n",
       "    </tr>\n",
       "    <tr>\n",
       "      <th>4</th>\n",
       "      <td>129514.877305</td>\n",
       "      <td>2.156553e+08</td>\n",
       "      <td>16910.217864</td>\n",
       "      <td>3718.580195</td>\n",
       "      <td>1146.914792</td>\n",
       "      <td>6848.467016</td>\n",
       "      <td>9969.168845</td>\n",
       "      <td>18395.934400</td>\n",
       "      <td>36828.233765</td>\n",
       "      <td>4023.683840</td>\n",
       "      <td>72483.294884</td>\n",
       "      <td>7759.218957</td>\n",
       "      <td>8420.445859</td>\n",
       "    </tr>\n",
       "    <tr>\n",
       "      <th>5</th>\n",
       "      <td>129500.186865</td>\n",
       "      <td>2.156407e+08</td>\n",
       "      <td>16893.119529</td>\n",
       "      <td>3893.037775</td>\n",
       "      <td>1208.346424</td>\n",
       "      <td>7183.015934</td>\n",
       "      <td>8394.991739</td>\n",
       "      <td>19546.670115</td>\n",
       "      <td>36856.980798</td>\n",
       "      <td>3928.763474</td>\n",
       "      <td>72528.413194</td>\n",
       "      <td>7750.719199</td>\n",
       "      <td>8435.310200</td>\n",
       "    </tr>\n",
       "    <tr>\n",
       "      <th>6</th>\n",
       "      <td>129559.572084</td>\n",
       "      <td>2.161197e+08</td>\n",
       "      <td>16887.786904</td>\n",
       "      <td>3576.379135</td>\n",
       "      <td>1103.333547</td>\n",
       "      <td>6660.037427</td>\n",
       "      <td>10521.154291</td>\n",
       "      <td>19930.112366</td>\n",
       "      <td>36850.478591</td>\n",
       "      <td>3951.380683</td>\n",
       "      <td>72513.472567</td>\n",
       "      <td>7753.268966</td>\n",
       "      <td>8490.971278</td>\n",
       "    </tr>\n",
       "    <tr>\n",
       "      <th>7</th>\n",
       "      <td>129364.400627</td>\n",
       "      <td>2.155530e+08</td>\n",
       "      <td>16864.620408</td>\n",
       "      <td>3489.181793</td>\n",
       "      <td>1335.754123</td>\n",
       "      <td>7231.802478</td>\n",
       "      <td>9319.312037</td>\n",
       "      <td>21464.028608</td>\n",
       "      <td>36820.746041</td>\n",
       "      <td>3887.835223</td>\n",
       "      <td>72424.379948</td>\n",
       "      <td>7776.327799</td>\n",
       "      <td>8455.111616</td>\n",
       "    </tr>\n",
       "    <tr>\n",
       "      <th>8</th>\n",
       "      <td>129608.971505</td>\n",
       "      <td>2.156067e+08</td>\n",
       "      <td>16915.947641</td>\n",
       "      <td>3889.287885</td>\n",
       "      <td>1206.718214</td>\n",
       "      <td>6704.670055</td>\n",
       "      <td>9437.293977</td>\n",
       "      <td>21326.629410</td>\n",
       "      <td>36913.489382</td>\n",
       "      <td>3891.276433</td>\n",
       "      <td>72624.896691</td>\n",
       "      <td>7776.779962</td>\n",
       "      <td>8402.529039</td>\n",
       "    </tr>\n",
       "    <tr>\n",
       "      <th>9</th>\n",
       "      <td>129310.521758</td>\n",
       "      <td>2.152036e+08</td>\n",
       "      <td>16897.676336</td>\n",
       "      <td>3708.758941</td>\n",
       "      <td>980.878022</td>\n",
       "      <td>6660.807735</td>\n",
       "      <td>8879.958257</td>\n",
       "      <td>19463.105663</td>\n",
       "      <td>36859.456487</td>\n",
       "      <td>3908.437905</td>\n",
       "      <td>72360.839927</td>\n",
       "      <td>7760.609152</td>\n",
       "      <td>8421.178287</td>\n",
       "    </tr>\n",
       "  </tbody>\n",
       "</table>\n",
       "</div>"
      ],
      "text/plain": [
       "           Acres    FieldCropP    SavedWat_1    TNC_Total   Krat_Total  \\\n",
       "0  129507.129127  2.156985e+08  16917.293593  4628.323272  1237.097414   \n",
       "1  129525.034623  2.157140e+08  16952.487879  3724.713771  1067.123943   \n",
       "2  129435.228018  2.153589e+08  16866.650711  3306.495638   956.637372   \n",
       "3  129637.427327  2.161558e+08  16901.746421  3406.379269  1107.995654   \n",
       "4  129514.877305  2.156553e+08  16910.217864  3718.580195  1146.914792   \n",
       "5  129500.186865  2.156407e+08  16893.119529  3893.037775  1208.346424   \n",
       "6  129559.572084  2.161197e+08  16887.786904  3576.379135  1103.333547   \n",
       "7  129364.400627  2.155530e+08  16864.620408  3489.181793  1335.754123   \n",
       "8  129608.971505  2.156067e+08  16915.947641  3889.287885  1206.718214   \n",
       "9  129310.521758  2.152036e+08  16897.676336  3708.758941   980.878022   \n",
       "\n",
       "    Kitfox_Tot    Corridors_    CPAD_Total  alfalfa-pasture         corn  \\\n",
       "0  6980.119712   9688.171243  20593.866427     36842.183852  3896.086904   \n",
       "1  6452.418942   8383.487636  19665.292199     36919.126974  3907.913798   \n",
       "2  6262.876405   9657.604566  21597.009687     36917.340562  3898.355255   \n",
       "3  6788.546954   9081.213398  20576.024246     36842.114942  3903.502228   \n",
       "4  6848.467016   9969.168845  18395.934400     36828.233765  4023.683840   \n",
       "5  7183.015934   8394.991739  19546.670115     36856.980798  3928.763474   \n",
       "6  6660.037427  10521.154291  19930.112366     36850.478591  3951.380683   \n",
       "7  7231.802478   9319.312037  21464.028608     36820.746041  3887.835223   \n",
       "8  6704.670055   9437.293977  21326.629410     36913.489382  3891.276433   \n",
       "9  6660.807735   8879.958257  19463.105663     36859.456487  3908.437905   \n",
       "\n",
       "   field-crops-grains  trees-vines   veg-fruits  \n",
       "0        72533.135421  7802.656848  8433.066102  \n",
       "1        72488.866294  7763.020304  8446.107253  \n",
       "2        72443.374263  7758.841967  8417.315972  \n",
       "3        72603.461452  7825.904157  8462.444549  \n",
       "4        72483.294884  7759.218957  8420.445859  \n",
       "5        72528.413194  7750.719199  8435.310200  \n",
       "6        72513.472567  7753.268966  8490.971278  \n",
       "7        72424.379948  7776.327799  8455.111616  \n",
       "8        72624.896691  7776.779962  8402.529039  \n",
       "9        72360.839927  7760.609152  8421.178287  "
      ]
     },
     "execution_count": 9,
     "metadata": {},
     "output_type": "execute_result"
    }
   ],
   "source": [
    "trials.head(10)"
   ]
  },
  {
   "cell_type": "markdown",
   "metadata": {},
   "source": [
    "#### Save output"
   ]
  },
  {
   "cell_type": "code",
   "execution_count": 10,
   "metadata": {},
   "outputs": [],
   "source": [
    "trials.to_csv(outname)"
   ]
  },
  {
   "cell_type": "markdown",
   "metadata": {},
   "source": [
    "### Visualize results"
   ]
  },
  {
   "cell_type": "markdown",
   "metadata": {},
   "source": [
    "#### Compare to PPIC Report"
   ]
  },
  {
   "cell_type": "code",
   "execution_count": 11,
   "metadata": {},
   "outputs": [
    {
     "name": "stdout",
     "output_type": "stream",
     "text": [
      "$215,769,013.51\n"
     ]
    }
   ],
   "source": [
    "# Average revenue loss\n",
    "value = trials['FieldCropP'].mean()\n",
    "print (f'${value:,.2f}')"
   ]
  },
  {
   "cell_type": "markdown",
   "metadata": {},
   "source": [
    "#### Ensure sufficient acreage fallowed"
   ]
  },
  {
   "cell_type": "code",
   "execution_count": 12,
   "metadata": {},
   "outputs": [],
   "source": [
    "# Bar chart with each crop type on x-axis, acreage fallowed as bars, and targets as dots. Visualize difference between\n",
    "# acreage fallowed and target for each crop type in one chart."
   ]
  },
  {
   "cell_type": "code",
   "execution_count": 13,
   "metadata": {},
   "outputs": [
    {
     "name": "stderr",
     "output_type": "stream",
     "text": [
      "C:\\Users\\Erik\\Anaconda3\\lib\\site-packages\\seaborn\\distributions.py:214: MatplotlibDeprecationWarning: \n",
      "The 'normed' kwarg was deprecated in Matplotlib 2.1 and will be removed in 3.1. Use 'density' instead.\n",
      "  color=hist_color, **hist_kws)\n"
     ]
    },
    {
     "data": {
      "image/png": "[encoded data removed]",
      "text/plain": [
       "<Figure size 432x288 with 1 Axes>"
      ]
     },
     "metadata": {
      "needs_background": "light"
     },
     "output_type": "display_data"
    }
   ],
   "source": [
    "crop_type = 'veg-fruits'\n",
    "sns.distplot(trials[crop_type]-targets.loc[region_code, crop_type], rug=True)\n",
    "sns.despine()"
   ]
  },
  {
   "cell_type": "code",
   "execution_count": 14,
   "metadata": {},
   "outputs": [
    {
     "data": {
      "image/png": "[encoded data removed]",
      "text/plain": [
       "<Figure size 432x288 with 1 Axes>"
      ]
     },
     "metadata": {
      "needs_background": "light"
     },
     "output_type": "display_data"
    }
   ],
   "source": [
    "sns.distplot(trials['Corridors_'], rug=True)\n",
    "sns.despine()"
   ]
  },
  {
   "cell_type": "code",
   "execution_count": 15,
   "metadata": {},
   "outputs": [
    {
     "data": {
      "image/png": "[encoded data removed]",
      "text/plain": [
       "<Figure size 432x288 with 1 Axes>"
      ]
     },
     "metadata": {
      "needs_background": "light"
     },
     "output_type": "display_data"
    }
   ],
   "source": [
    "sns.distplot(trials['FieldCropP'], rug=True)\n",
    "sns.despine()"
   ]
  },
  {
   "cell_type": "code",
   "execution_count": null,
   "metadata": {},
   "outputs": [],
   "source": []
  }
 ],
 "metadata": {
  "kernelspec": {
   "display_name": "Python 3",
   "language": "python",
   "name": "python3"
  },
  "language_info": {
   "codemirror_mode": {
    "name": "ipython",
    "version": 3
   },
   "file_extension": ".py",
   "mimetype": "text/x-python",
   "name": "python",
   "nbconvert_exporter": "python",
   "pygments_lexer": "ipython3",
   "version": "3.6.8"
  }
 },
 "nbformat": 4,
 "nbformat_minor": 2
}
