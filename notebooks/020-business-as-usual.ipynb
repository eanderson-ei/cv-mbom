{
 "cells": [
  {
   "cell_type": "markdown",
   "metadata": {},
   "source": [
    "# Business As Usual"
   ]
  },
  {
   "cell_type": "markdown",
   "metadata": {},
   "source": [
    "This section of the notebook uses a bootstrap approach to model the distribution of potential ecosystem service outcomes (i.e., amount of ecosystem services acquired as fields are fallowed) that can be expected with the amount of fallowing required to meet SGMA targets per region, as defined by [Medellin-Azuara, Josue et al. (2019). Water and the Future of the San Joaquin Valley, Technical Appendix C: Potential Economic Impacts of Reducing Water Use on San Joaquin Valley Agriculture. Public Policy Insitute of California.](https://www.ppic.org/publication/water-and-the-future-of-the-san-joaquin-valley/)\n",
    "\n",
    "Results are saved in tabular format for the region evaluated in the outputs/ directory of this project folder.  "
   ]
  },
  {
   "cell_type": "code",
   "execution_count": 1,
   "metadata": {},
   "outputs": [],
   "source": [
    "import pandas as pd\n",
    "import numpy as np\n",
    "from collections import OrderedDict\n",
    "import matplotlib.pyplot as plt\n",
    "import seaborn as sns"
   ]
  },
  {
   "cell_type": "code",
   "execution_count": null,
   "metadata": {},
   "outputs": [],
   "source": [
    "# User-specified inputs\n",
    "region_code = 'KR'"
   ]
  },
  {
   "cell_type": "markdown",
   "metadata": {},
   "source": [
    "<hr></hr>"
   ]
  },
  {
   "cell_type": "code",
   "execution_count": null,
   "metadata": {},
   "outputs": [],
   "source": [
    "# Input from 010-data-prep\n",
    "df = '../outputs/df_' + region_code +'.csv'"
   ]
  },
  {
   "cell_type": "code",
   "execution_count": null,
   "metadata": {},
   "outputs": [],
   "source": [
    "# Path to output, use as input to future notebooks\n",
    "outname = '../outputs/' + 'trials_' + region_code +'.csv'"
   ]
  },
  {
   "cell_type": "markdown",
   "metadata": {},
   "source": [
    "### Model Business as Usual Case"
   ]
  },
  {
   "cell_type": "code",
   "execution_count": 19,
   "metadata": {},
   "outputs": [
    {
     "data": {
      "text/plain": [
       "Index(['FID', 'Area', 'Crop', 'FieldCropPrice', 'SavedWater', 'Recharge',\n",
       "       'Kitfox', 'TiptonKRat', 'GiantGarterSnake', 'TNC', 'HabCorridors',\n",
       "       'ConservationAreas', 'ImpBirdAreas', 'Nitrate', 'ModSAGBI',\n",
       "       'Prox2Wetlands', 'Depth2GroundWater', 'Crop_PPIC', 'PricePerAcre',\n",
       "       'SavedWater_Norm', 'Recharge_Norm', 'Depth2GroundWater_Norm',\n",
       "       'Kitfox_Total', 'TiptonKRat_Total', 'GiantGarterSnake_Total',\n",
       "       'TNC_Total', 'HabCorridors_Total', 'ConservationAreas_Total',\n",
       "       'ImpBirdAreas_Total', 'Nitrate_Total', 'ModSAGBI_Total',\n",
       "       'Prox2Wetlands_Total', 'Depth2GroundWater_Norm_Total'],\n",
       "      dtype='object')"
      ]
     },
     "execution_count": 19,
     "metadata": {},
     "output_type": "execute_result"
    }
   ],
   "source": [
    "df.columns"
   ]
  },
  {
   "cell_type": "code",
   "execution_count": 20,
   "metadata": {},
   "outputs": [],
   "source": [
    "#Get list of columns to track for each repetition\n",
    "outcome_cols = ['Area', 'FieldCropPrice', 'SavedWater_Norm', 'Recharge_Norm', 'Kitfox_Total',\n",
    "                'TiptonKRat_Total', 'GiantGarterSnake_Total', 'TNC_Total', 'HabCorridors_Total',\n",
    "                'ConservationAreas_Total', 'ImpBirdAreas_Total', 'Nitrate_Total', 'ModSAGBI_Total',\n",
    "                'Prox2Wetlands_Total', 'Depth2GroundWater_Norm_Total'] "
   ]
  },
  {
   "cell_type": "code",
   "execution_count": 21,
   "metadata": {},
   "outputs": [],
   "source": [
    "# specify region, list of crop types, and list of ecosystem service outcomes to track\n",
    "# set up dataframe to store outcomes of each trial\n",
    "# for 1000 tries:\n",
    "#    set up master df (shape = 0 x number of columns of df)\n",
    "#    for crop in crop type:\n",
    "#        subset dataset, get target, check that sufficient area is available\n",
    "#        randomly sort the df\n",
    "#        subset to meet target\n",
    "#        append to master df\n",
    "#    calculate total ecosystem services accumulated and acres faLLowed in master df\n",
    "#    append outcomes to trials dataframe\n",
    "\n",
    "region = region_code\n",
    "crop_types = targets.columns\n",
    "trials = pd.DataFrame(columns=outcome_cols)\n",
    "\n",
    "for i in range(100):\n",
    "    df_fallow = pd.DataFrame(columns=df.columns)\n",
    "    for crop in crop_types:\n",
    "        df_crop = df[df['Crop_PPIC'] == crop]\n",
    "        target = targets.loc[region, crop]\n",
    "        df_crop_shuffle = df_crop.sample(n=df_crop.shape[0])\n",
    "        df_crop_shuffle.sort_values('PricePerAcre', inplace=True)\n",
    "        # Identify fields up to target\n",
    "        df_fallow_bool = df_crop_shuffle['Area'].cumsum() < target\n",
    "        # Get one additional field by updating value from False to True where \n",
    "        # first instance of False is located\n",
    "        if not df_fallow_bool[df_fallow_bool!=True].empty:\n",
    "            index = df_fallow_bool[df_fallow_bool!=True].index[0]\n",
    "            df_fallow_bool.at[index]=True        \n",
    "        df_crop_fallow = df_crop_shuffle[df_fallow_bool]\n",
    "        df_fallow = df_fallow.append(df_crop_fallow, ignore_index=True)\n",
    "    outcomes = pd.DataFrame(df_fallow[outcome_cols].sum()).T\n",
    "    areas = df_fallow[['Area','Crop_PPIC']].groupby('Crop_PPIC').sum().T\n",
    "    areas.reset_index(drop=True, inplace=True)\n",
    "    output = pd.concat([outcomes, areas], axis=1, sort=False)\n",
    "    trials = trials.append(output, ignore_index=True, sort=False)"
   ]
  },
  {
   "cell_type": "code",
   "execution_count": 22,
   "metadata": {},
   "outputs": [
    {
     "data": {
      "text/html": [
       "<div>\n",
       "<style scoped>\n",
       "    .dataframe tbody tr th:only-of-type {\n",
       "        vertical-align: middle;\n",
       "    }\n",
       "\n",
       "    .dataframe tbody tr th {\n",
       "        vertical-align: top;\n",
       "    }\n",
       "\n",
       "    .dataframe thead th {\n",
       "        text-align: right;\n",
       "    }\n",
       "</style>\n",
       "<table border=\"1\" class=\"dataframe\">\n",
       "  <thead>\n",
       "    <tr style=\"text-align: right;\">\n",
       "      <th></th>\n",
       "      <th>Area</th>\n",
       "      <th>FieldCropPrice</th>\n",
       "      <th>SavedWater_Norm</th>\n",
       "      <th>Recharge_Norm</th>\n",
       "      <th>Kitfox_Total</th>\n",
       "      <th>TiptonKRat_Total</th>\n",
       "      <th>GiantGarterSnake_Total</th>\n",
       "      <th>TNC_Total</th>\n",
       "      <th>HabCorridors_Total</th>\n",
       "      <th>ConservationAreas_Total</th>\n",
       "      <th>ImpBirdAreas_Total</th>\n",
       "      <th>Nitrate_Total</th>\n",
       "      <th>ModSAGBI_Total</th>\n",
       "      <th>Prox2Wetlands_Total</th>\n",
       "      <th>Depth2GroundWater_Norm_Total</th>\n",
       "      <th>alfalfa-pasture</th>\n",
       "      <th>corn</th>\n",
       "      <th>field-crops-grains</th>\n",
       "      <th>trees-vines</th>\n",
       "      <th>veg-fruits</th>\n",
       "    </tr>\n",
       "  </thead>\n",
       "  <tbody>\n",
       "    <tr>\n",
       "      <th>0</th>\n",
       "      <td>162089.315557</td>\n",
       "      <td>2.649492e+08</td>\n",
       "      <td>29028.165373</td>\n",
       "      <td>18112.028958</td>\n",
       "      <td>161942.529581</td>\n",
       "      <td>142132.799014</td>\n",
       "      <td>52297.951553</td>\n",
       "      <td>26810.445759</td>\n",
       "      <td>4298.866499</td>\n",
       "      <td>111509.038770</td>\n",
       "      <td>34313.335050</td>\n",
       "      <td>122813.892669</td>\n",
       "      <td>65936.863297</td>\n",
       "      <td>90811.738884</td>\n",
       "      <td>121466.393771</td>\n",
       "      <td>80767.856997</td>\n",
       "      <td>23740.216326</td>\n",
       "      <td>42673.957616</td>\n",
       "      <td>11656.813904</td>\n",
       "      <td>3250.470714</td>\n",
       "    </tr>\n",
       "    <tr>\n",
       "      <th>1</th>\n",
       "      <td>162055.415085</td>\n",
       "      <td>2.648247e+08</td>\n",
       "      <td>29022.366606</td>\n",
       "      <td>18151.666564</td>\n",
       "      <td>161908.629110</td>\n",
       "      <td>142909.550728</td>\n",
       "      <td>53499.380237</td>\n",
       "      <td>26480.441397</td>\n",
       "      <td>4622.279876</td>\n",
       "      <td>109965.456635</td>\n",
       "      <td>33735.159771</td>\n",
       "      <td>122506.814326</td>\n",
       "      <td>65429.113219</td>\n",
       "      <td>89834.987291</td>\n",
       "      <td>121461.572447</td>\n",
       "      <td>80767.856997</td>\n",
       "      <td>23740.216326</td>\n",
       "      <td>42659.817786</td>\n",
       "      <td>11633.750075</td>\n",
       "      <td>3253.773902</td>\n",
       "    </tr>\n",
       "    <tr>\n",
       "      <th>2</th>\n",
       "      <td>162148.679053</td>\n",
       "      <td>2.650050e+08</td>\n",
       "      <td>29035.103202</td>\n",
       "      <td>18028.182199</td>\n",
       "      <td>162001.893077</td>\n",
       "      <td>142980.191389</td>\n",
       "      <td>54371.320498</td>\n",
       "      <td>26738.969506</td>\n",
       "      <td>4432.300507</td>\n",
       "      <td>111133.131197</td>\n",
       "      <td>34613.213544</td>\n",
       "      <td>123206.681234</td>\n",
       "      <td>65254.607177</td>\n",
       "      <td>91200.119325</td>\n",
       "      <td>121022.796411</td>\n",
       "      <td>80767.856997</td>\n",
       "      <td>23740.216326</td>\n",
       "      <td>42728.213054</td>\n",
       "      <td>11673.528387</td>\n",
       "      <td>3238.864288</td>\n",
       "    </tr>\n",
       "    <tr>\n",
       "      <th>3</th>\n",
       "      <td>162160.354782</td>\n",
       "      <td>2.655084e+08</td>\n",
       "      <td>29046.917293</td>\n",
       "      <td>18043.497581</td>\n",
       "      <td>162013.568806</td>\n",
       "      <td>143352.939069</td>\n",
       "      <td>53224.704785</td>\n",
       "      <td>27180.088803</td>\n",
       "      <td>4701.927422</td>\n",
       "      <td>110418.891216</td>\n",
       "      <td>33914.394875</td>\n",
       "      <td>123124.091141</td>\n",
       "      <td>65128.447429</td>\n",
       "      <td>91056.201884</td>\n",
       "      <td>121285.831899</td>\n",
       "      <td>80767.856997</td>\n",
       "      <td>23740.216326</td>\n",
       "      <td>42647.309922</td>\n",
       "      <td>11755.405297</td>\n",
       "      <td>3249.566240</td>\n",
       "    </tr>\n",
       "    <tr>\n",
       "      <th>4</th>\n",
       "      <td>162264.573142</td>\n",
       "      <td>2.651974e+08</td>\n",
       "      <td>29045.179591</td>\n",
       "      <td>18116.495207</td>\n",
       "      <td>162117.787167</td>\n",
       "      <td>143515.155823</td>\n",
       "      <td>53288.001767</td>\n",
       "      <td>26747.028917</td>\n",
       "      <td>4565.197505</td>\n",
       "      <td>109945.381232</td>\n",
       "      <td>34160.683088</td>\n",
       "      <td>123164.051656</td>\n",
       "      <td>64650.248576</td>\n",
       "      <td>90206.374086</td>\n",
       "      <td>121600.050601</td>\n",
       "      <td>80767.856997</td>\n",
       "      <td>23740.216326</td>\n",
       "      <td>42833.865562</td>\n",
       "      <td>11667.938742</td>\n",
       "      <td>3254.695515</td>\n",
       "    </tr>\n",
       "    <tr>\n",
       "      <th>5</th>\n",
       "      <td>162070.418099</td>\n",
       "      <td>2.650156e+08</td>\n",
       "      <td>29025.506921</td>\n",
       "      <td>18073.195482</td>\n",
       "      <td>161923.632123</td>\n",
       "      <td>143673.211106</td>\n",
       "      <td>54142.104545</td>\n",
       "      <td>26251.105759</td>\n",
       "      <td>4844.706851</td>\n",
       "      <td>110214.635922</td>\n",
       "      <td>33931.248241</td>\n",
       "      <td>123464.240609</td>\n",
       "      <td>65897.912577</td>\n",
       "      <td>90613.570406</td>\n",
       "      <td>121054.430289</td>\n",
       "      <td>80767.856997</td>\n",
       "      <td>23740.216326</td>\n",
       "      <td>42647.532540</td>\n",
       "      <td>11642.925493</td>\n",
       "      <td>3271.886744</td>\n",
       "    </tr>\n",
       "    <tr>\n",
       "      <th>6</th>\n",
       "      <td>162195.880073</td>\n",
       "      <td>2.656436e+08</td>\n",
       "      <td>29044.295073</td>\n",
       "      <td>18135.615862</td>\n",
       "      <td>162049.094097</td>\n",
       "      <td>142683.987620</td>\n",
       "      <td>53702.966763</td>\n",
       "      <td>26421.095364</td>\n",
       "      <td>4663.604833</td>\n",
       "      <td>110845.297035</td>\n",
       "      <td>33539.204994</td>\n",
       "      <td>122441.728932</td>\n",
       "      <td>65551.120450</td>\n",
       "      <td>90457.502592</td>\n",
       "      <td>121677.270529</td>\n",
       "      <td>80767.856997</td>\n",
       "      <td>23740.216326</td>\n",
       "      <td>42686.847256</td>\n",
       "      <td>11693.760806</td>\n",
       "      <td>3307.198689</td>\n",
       "    </tr>\n",
       "    <tr>\n",
       "      <th>7</th>\n",
       "      <td>162118.544227</td>\n",
       "      <td>2.651901e+08</td>\n",
       "      <td>29035.418382</td>\n",
       "      <td>18091.603371</td>\n",
       "      <td>161971.758252</td>\n",
       "      <td>143323.545343</td>\n",
       "      <td>53584.705579</td>\n",
       "      <td>25998.402696</td>\n",
       "      <td>4760.368591</td>\n",
       "      <td>110986.121199</td>\n",
       "      <td>34194.677878</td>\n",
       "      <td>123349.294985</td>\n",
       "      <td>65274.369746</td>\n",
       "      <td>90341.841379</td>\n",
       "      <td>121070.214691</td>\n",
       "      <td>80767.856997</td>\n",
       "      <td>23740.216326</td>\n",
       "      <td>42662.991084</td>\n",
       "      <td>11692.296581</td>\n",
       "      <td>3255.183240</td>\n",
       "    </tr>\n",
       "    <tr>\n",
       "      <th>8</th>\n",
       "      <td>162126.310966</td>\n",
       "      <td>2.651607e+08</td>\n",
       "      <td>29034.219511</td>\n",
       "      <td>18086.208402</td>\n",
       "      <td>161979.524991</td>\n",
       "      <td>143084.712000</td>\n",
       "      <td>53685.582366</td>\n",
       "      <td>26688.873995</td>\n",
       "      <td>4642.965671</td>\n",
       "      <td>110263.696787</td>\n",
       "      <td>34137.067595</td>\n",
       "      <td>122428.436574</td>\n",
       "      <td>65188.653220</td>\n",
       "      <td>90292.783468</td>\n",
       "      <td>121353.137247</td>\n",
       "      <td>80767.856997</td>\n",
       "      <td>23740.216326</td>\n",
       "      <td>42680.775346</td>\n",
       "      <td>11675.562561</td>\n",
       "      <td>3261.899737</td>\n",
       "    </tr>\n",
       "    <tr>\n",
       "      <th>9</th>\n",
       "      <td>162090.259964</td>\n",
       "      <td>2.648178e+08</td>\n",
       "      <td>29026.640779</td>\n",
       "      <td>18078.056615</td>\n",
       "      <td>161943.473989</td>\n",
       "      <td>143504.922887</td>\n",
       "      <td>53389.032686</td>\n",
       "      <td>26756.371195</td>\n",
       "      <td>4951.727722</td>\n",
       "      <td>110232.645015</td>\n",
       "      <td>33781.926674</td>\n",
       "      <td>122431.336291</td>\n",
       "      <td>65654.457012</td>\n",
       "      <td>90934.171980</td>\n",
       "      <td>121651.560960</td>\n",
       "      <td>80767.856997</td>\n",
       "      <td>23740.216326</td>\n",
       "      <td>42696.000668</td>\n",
       "      <td>11647.495691</td>\n",
       "      <td>3238.690282</td>\n",
       "    </tr>\n",
       "  </tbody>\n",
       "</table>\n",
       "</div>"
      ],
      "text/plain": [
       "            Area  FieldCropPrice  SavedWater_Norm  Recharge_Norm  \\\n",
       "0  162089.315557    2.649492e+08     29028.165373   18112.028958   \n",
       "1  162055.415085    2.648247e+08     29022.366606   18151.666564   \n",
       "2  162148.679053    2.650050e+08     29035.103202   18028.182199   \n",
       "3  162160.354782    2.655084e+08     29046.917293   18043.497581   \n",
       "4  162264.573142    2.651974e+08     29045.179591   18116.495207   \n",
       "5  162070.418099    2.650156e+08     29025.506921   18073.195482   \n",
       "6  162195.880073    2.656436e+08     29044.295073   18135.615862   \n",
       "7  162118.544227    2.651901e+08     29035.418382   18091.603371   \n",
       "8  162126.310966    2.651607e+08     29034.219511   18086.208402   \n",
       "9  162090.259964    2.648178e+08     29026.640779   18078.056615   \n",
       "\n",
       "    Kitfox_Total  TiptonKRat_Total  GiantGarterSnake_Total     TNC_Total  \\\n",
       "0  161942.529581     142132.799014            52297.951553  26810.445759   \n",
       "1  161908.629110     142909.550728            53499.380237  26480.441397   \n",
       "2  162001.893077     142980.191389            54371.320498  26738.969506   \n",
       "3  162013.568806     143352.939069            53224.704785  27180.088803   \n",
       "4  162117.787167     143515.155823            53288.001767  26747.028917   \n",
       "5  161923.632123     143673.211106            54142.104545  26251.105759   \n",
       "6  162049.094097     142683.987620            53702.966763  26421.095364   \n",
       "7  161971.758252     143323.545343            53584.705579  25998.402696   \n",
       "8  161979.524991     143084.712000            53685.582366  26688.873995   \n",
       "9  161943.473989     143504.922887            53389.032686  26756.371195   \n",
       "\n",
       "   HabCorridors_Total  ConservationAreas_Total  ImpBirdAreas_Total  \\\n",
       "0         4298.866499            111509.038770        34313.335050   \n",
       "1         4622.279876            109965.456635        33735.159771   \n",
       "2         4432.300507            111133.131197        34613.213544   \n",
       "3         4701.927422            110418.891216        33914.394875   \n",
       "4         4565.197505            109945.381232        34160.683088   \n",
       "5         4844.706851            110214.635922        33931.248241   \n",
       "6         4663.604833            110845.297035        33539.204994   \n",
       "7         4760.368591            110986.121199        34194.677878   \n",
       "8         4642.965671            110263.696787        34137.067595   \n",
       "9         4951.727722            110232.645015        33781.926674   \n",
       "\n",
       "   Nitrate_Total  ModSAGBI_Total  Prox2Wetlands_Total  \\\n",
       "0  122813.892669    65936.863297         90811.738884   \n",
       "1  122506.814326    65429.113219         89834.987291   \n",
       "2  123206.681234    65254.607177         91200.119325   \n",
       "3  123124.091141    65128.447429         91056.201884   \n",
       "4  123164.051656    64650.248576         90206.374086   \n",
       "5  123464.240609    65897.912577         90613.570406   \n",
       "6  122441.728932    65551.120450         90457.502592   \n",
       "7  123349.294985    65274.369746         90341.841379   \n",
       "8  122428.436574    65188.653220         90292.783468   \n",
       "9  122431.336291    65654.457012         90934.171980   \n",
       "\n",
       "   Depth2GroundWater_Norm_Total  alfalfa-pasture          corn  \\\n",
       "0                 121466.393771     80767.856997  23740.216326   \n",
       "1                 121461.572447     80767.856997  23740.216326   \n",
       "2                 121022.796411     80767.856997  23740.216326   \n",
       "3                 121285.831899     80767.856997  23740.216326   \n",
       "4                 121600.050601     80767.856997  23740.216326   \n",
       "5                 121054.430289     80767.856997  23740.216326   \n",
       "6                 121677.270529     80767.856997  23740.216326   \n",
       "7                 121070.214691     80767.856997  23740.216326   \n",
       "8                 121353.137247     80767.856997  23740.216326   \n",
       "9                 121651.560960     80767.856997  23740.216326   \n",
       "\n",
       "   field-crops-grains   trees-vines   veg-fruits  \n",
       "0        42673.957616  11656.813904  3250.470714  \n",
       "1        42659.817786  11633.750075  3253.773902  \n",
       "2        42728.213054  11673.528387  3238.864288  \n",
       "3        42647.309922  11755.405297  3249.566240  \n",
       "4        42833.865562  11667.938742  3254.695515  \n",
       "5        42647.532540  11642.925493  3271.886744  \n",
       "6        42686.847256  11693.760806  3307.198689  \n",
       "7        42662.991084  11692.296581  3255.183240  \n",
       "8        42680.775346  11675.562561  3261.899737  \n",
       "9        42696.000668  11647.495691  3238.690282  "
      ]
     },
     "execution_count": 22,
     "metadata": {},
     "output_type": "execute_result"
    }
   ],
   "source": [
    "trials.head(10)"
   ]
  },
  {
   "cell_type": "markdown",
   "metadata": {},
   "source": [
    "#### Save output"
   ]
  },
  {
   "cell_type": "code",
   "execution_count": 23,
   "metadata": {},
   "outputs": [],
   "source": [
    "trials.to_csv(outname)"
   ]
  },
  {
   "cell_type": "markdown",
   "metadata": {},
   "source": [
    "### Visualize results"
   ]
  },
  {
   "cell_type": "markdown",
   "metadata": {},
   "source": [
    "#### Compare to PPIC Report"
   ]
  },
  {
   "cell_type": "code",
   "execution_count": 24,
   "metadata": {},
   "outputs": [
    {
     "name": "stdout",
     "output_type": "stream",
     "text": [
      "$265,050,308.22\n"
     ]
    }
   ],
   "source": [
    "# Average revenue loss\n",
    "value = trials['FieldCropPrice'].mean()\n",
    "print (f'${value:,.2f}')"
   ]
  },
  {
   "cell_type": "markdown",
   "metadata": {},
   "source": [
    "#### Ensure sufficient acreage fallowed"
   ]
  },
  {
   "cell_type": "code",
   "execution_count": 25,
   "metadata": {},
   "outputs": [],
   "source": [
    "# Bar chart with each crop type on x-axis, acreage fallowed as bars, and targets as dots. Visualize difference between\n",
    "# acreage fallowed and target for each crop type in one chart."
   ]
  },
  {
   "cell_type": "code",
   "execution_count": 26,
   "metadata": {},
   "outputs": [
    {
     "data": {
      "image/png": "[encoded data removed]",
      "text/plain": [
       "<Figure size 864x360 with 1 Axes>"
      ]
     },
     "metadata": {},
     "output_type": "display_data"
    }
   ],
   "source": [
    "crop_type = 'veg-fruits'\n",
    "sns.distplot(trials[crop_type]-targets.loc[region, crop_type], rug=True)\n",
    "sns.despine()"
   ]
  },
  {
   "cell_type": "code",
   "execution_count": 27,
   "metadata": {},
   "outputs": [
    {
     "data": {
      "image/png": "[encoded data removed]",
      "text/plain": [
       "<Figure size 864x360 with 1 Axes>"
      ]
     },
     "metadata": {},
     "output_type": "display_data"
    }
   ],
   "source": [
    "sns.distplot(trials['GiantGarterSnake_Total'], rug=True)\n",
    "sns.despine()"
   ]
  },
  {
   "cell_type": "code",
   "execution_count": 28,
   "metadata": {},
   "outputs": [
    {
     "data": {
      "image/png": "[encoded data removed]",
      "text/plain": [
       "<Figure size 864x360 with 1 Axes>"
      ]
     },
     "metadata": {},
     "output_type": "display_data"
    }
   ],
   "source": [
    "sns.distplot(trials['FieldCropPrice'], rug=True)\n",
    "sns.despine()"
   ]
  },
  {
   "cell_type": "code",
   "execution_count": null,
   "metadata": {},
   "outputs": [],
   "source": []
  }
 ],
 "metadata": {
  "kernelspec": {
   "display_name": "Python 3",
   "language": "python",
   "name": "python3"
  },
  "language_info": {
   "codemirror_mode": {
    "name": "ipython",
    "version": 3
   },
   "file_extension": ".py",
   "mimetype": "text/x-python",
   "name": "python",
   "nbconvert_exporter": "python",
   "pygments_lexer": "ipython3",
   "version": "3.6.8"
  }
 },
 "nbformat": 4,
 "nbformat_minor": 2
}
