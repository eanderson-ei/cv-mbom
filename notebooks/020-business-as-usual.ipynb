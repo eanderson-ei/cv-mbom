{
 "cells": [
  {
   "cell_type": "markdown",
   "metadata": {},
   "source": [
    "# Business As Usual"
   ]
  },
  {
   "cell_type": "markdown",
   "metadata": {},
   "source": [
    "This section of the notebook uses a bootstrap approach to model the distribution of potential ecosystem service outcomes (i.e., amount of ecosystem services acquired as fields are fallowed) that can be expected with the amount of fallowing required to meet SGMA targets per region, as defined by [Medellin-Azuara, Josue et al. (2019). Water and the Future of the San Joaquin Valley, Technical Appendix C: Potential Economic Impacts of Reducing Water Use on San Joaquin Valley Agriculture. Public Policy Insitute of California.](https://www.ppic.org/publication/water-and-the-future-of-the-san-joaquin-valley/)\n",
    "\n",
    "Results are saved in tabular format for the region evaluated in the outputs/ directory of this project folder.  "
   ]
  },
  {
   "cell_type": "code",
   "execution_count": 1,
   "metadata": {},
   "outputs": [],
   "source": [
    "import pandas as pd\n",
    "import numpy as np\n",
    "from collections import OrderedDict\n",
    "import matplotlib.pyplot as plt\n",
    "import seaborn as sns"
   ]
  },
  {
   "cell_type": "code",
   "execution_count": 2,
   "metadata": {},
   "outputs": [],
   "source": [
    "# User-specified inputs\n",
    "region_code = 'KR'"
   ]
  },
  {
   "cell_type": "markdown",
   "metadata": {},
   "source": [
    "<hr></hr>"
   ]
  },
  {
   "cell_type": "code",
   "execution_count": 3,
   "metadata": {},
   "outputs": [],
   "source": [
    "# Input from 010-data-prep\n",
    "df = pd.read_csv('../outputs/df_' + region_code +'.csv')"
   ]
  },
  {
   "cell_type": "code",
   "execution_count": 4,
   "metadata": {},
   "outputs": [],
   "source": [
    "# Path to output, use as input to future notebooks\n",
    "outname = '../outputs/' + 'trials_' + region_code +'.csv'"
   ]
  },
  {
   "cell_type": "code",
   "execution_count": 5,
   "metadata": {
    "scrolled": false
   },
   "outputs": [
    {
     "data": {
      "text/html": [
       "<div>\n",
       "<style scoped>\n",
       "    .dataframe tbody tr th:only-of-type {\n",
       "        vertical-align: middle;\n",
       "    }\n",
       "\n",
       "    .dataframe tbody tr th {\n",
       "        vertical-align: top;\n",
       "    }\n",
       "\n",
       "    .dataframe thead th {\n",
       "        text-align: right;\n",
       "    }\n",
       "</style>\n",
       "<table border=\"1\" class=\"dataframe\">\n",
       "  <thead>\n",
       "    <tr style=\"text-align: right;\">\n",
       "      <th></th>\n",
       "      <th>alfalfa-pasture</th>\n",
       "      <th>corn</th>\n",
       "      <th>field-crops-grains</th>\n",
       "      <th>veg-fruits</th>\n",
       "      <th>trees-vines</th>\n",
       "    </tr>\n",
       "    <tr>\n",
       "      <th>region</th>\n",
       "      <th></th>\n",
       "      <th></th>\n",
       "      <th></th>\n",
       "      <th></th>\n",
       "      <th></th>\n",
       "    </tr>\n",
       "  </thead>\n",
       "  <tbody>\n",
       "    <tr>\n",
       "      <th>NW</th>\n",
       "      <td>21320.0</td>\n",
       "      <td>8400.0</td>\n",
       "      <td>85920.0</td>\n",
       "      <td>3880.0</td>\n",
       "      <td>3880.0</td>\n",
       "    </tr>\n",
       "    <tr>\n",
       "      <th>NE</th>\n",
       "      <td>56850.0</td>\n",
       "      <td>7750.0</td>\n",
       "      <td>23580.0</td>\n",
       "      <td>2260.0</td>\n",
       "      <td>16800.0</td>\n",
       "    </tr>\n",
       "    <tr>\n",
       "      <th>SW</th>\n",
       "      <td>36820.0</td>\n",
       "      <td>3880.0</td>\n",
       "      <td>72350.0</td>\n",
       "      <td>8400.0</td>\n",
       "      <td>7750.0</td>\n",
       "    </tr>\n",
       "    <tr>\n",
       "      <th>SE</th>\n",
       "      <td>38760.0</td>\n",
       "      <td>16150.0</td>\n",
       "      <td>124030.0</td>\n",
       "      <td>650.0</td>\n",
       "      <td>9690.0</td>\n",
       "    </tr>\n",
       "    <tr>\n",
       "      <th>KR</th>\n",
       "      <td>88500.0</td>\n",
       "      <td>54910.0</td>\n",
       "      <td>42640.0</td>\n",
       "      <td>3230.0</td>\n",
       "      <td>11630.0</td>\n",
       "    </tr>\n",
       "  </tbody>\n",
       "</table>\n",
       "</div>"
      ],
      "text/plain": [
       "        alfalfa-pasture     corn  field-crops-grains  veg-fruits  trees-vines\n",
       "region                                                                       \n",
       "NW              21320.0   8400.0             85920.0      3880.0       3880.0\n",
       "NE              56850.0   7750.0             23580.0      2260.0      16800.0\n",
       "SW              36820.0   3880.0             72350.0      8400.0       7750.0\n",
       "SE              38760.0  16150.0            124030.0       650.0       9690.0\n",
       "KR              88500.0  54910.0             42640.0      3230.0      11630.0"
      ]
     },
     "execution_count": 5,
     "metadata": {},
     "output_type": "execute_result"
    }
   ],
   "source": [
    "targets = pd.read_csv('../data/targets.csv', index_col='region', thousands=',')\n",
    "targets"
   ]
  },
  {
   "cell_type": "markdown",
   "metadata": {},
   "source": [
    "### Model Business as Usual Case"
   ]
  },
  {
   "cell_type": "code",
   "execution_count": 6,
   "metadata": {},
   "outputs": [
    {
     "data": {
      "text/plain": [
       "Index(['FID', 'Area', 'Crop', 'FieldCropPrice', 'SavedWater', 'Recharge',\n",
       "       'Kitfox', 'TiptonKRat', 'GiantGarterSnake', 'TNC', 'HabCorridors',\n",
       "       'ConservationAreas', 'ImpBirdAreas', 'Nitrate', 'ModSAGBI',\n",
       "       'Prox2Wetlands', 'Depth2GroundWater', 'Crop_PPIC', 'PricePerAcre',\n",
       "       'SavedWater_Norm', 'Recharge_Norm', 'Depth2GroundWater_Norm',\n",
       "       'Kitfox_Total', 'TiptonKRat_Total', 'GiantGarterSnake_Total',\n",
       "       'TNC_Total', 'HabCorridors_Total', 'ConservationAreas_Total',\n",
       "       'ImpBirdAreas_Total', 'Nitrate_Total', 'ModSAGBI_Total',\n",
       "       'Prox2Wetlands_Total', 'Depth2GroundWater_Norm_Total'],\n",
       "      dtype='object')"
      ]
     },
     "execution_count": 6,
     "metadata": {},
     "output_type": "execute_result"
    }
   ],
   "source": [
    "df.columns"
   ]
  },
  {
   "cell_type": "code",
   "execution_count": 7,
   "metadata": {},
   "outputs": [],
   "source": [
    "#Get list of columns to track for each repetition\n",
    "outcome_cols = ['Area', 'FieldCropPrice', 'SavedWater_Norm', 'Recharge_Norm', 'Kitfox_Total',\n",
    "                'TiptonKRat_Total', 'GiantGarterSnake_Total', 'TNC_Total', 'HabCorridors_Total',\n",
    "                'ConservationAreas_Total', 'ImpBirdAreas_Total', 'Nitrate_Total', 'ModSAGBI_Total',\n",
    "                'Prox2Wetlands_Total', 'Depth2GroundWater_Norm_Total'] "
   ]
  },
  {
   "cell_type": "code",
   "execution_count": 8,
   "metadata": {},
   "outputs": [],
   "source": [
    "# specify region, list of crop types, and list of ecosystem service outcomes to track\n",
    "# set up dataframe to store outcomes of each trial\n",
    "# for 1000 tries:\n",
    "#    set up master df (shape = 0 x number of columns of df)\n",
    "#    for crop in crop type:\n",
    "#        subset dataset, get target, check that sufficient area is available\n",
    "#        randomly sort the df\n",
    "#        subset to meet target\n",
    "#        append to master df\n",
    "#    calculate total ecosystem services accumulated and acres faLLowed in master df\n",
    "#    append outcomes to trials dataframe\n",
    "\n",
    "crop_types = targets.columns\n",
    "trials = pd.DataFrame(columns=outcome_cols)\n",
    "\n",
    "for i in range(100):\n",
    "    df_fallow = pd.DataFrame(columns=df.columns)\n",
    "    for crop in crop_types:\n",
    "        df_crop = df[df['Crop_PPIC'] == crop]\n",
    "        target = targets.loc[region_code, crop]\n",
    "        df_crop_shuffle = df_crop.sample(n=df_crop.shape[0])\n",
    "        df_crop_shuffle.sort_values('PricePerAcre', inplace=True)\n",
    "        # Identify fields up to target\n",
    "        df_fallow_bool = df_crop_shuffle['Area'].cumsum() < target\n",
    "        # Get one additional field by updating value from False to True where \n",
    "        # first instance of False is located\n",
    "        if not df_fallow_bool[df_fallow_bool!=True].empty:\n",
    "            index = df_fallow_bool[df_fallow_bool!=True].index[0]\n",
    "            df_fallow_bool.at[index]=True        \n",
    "        df_crop_fallow = df_crop_shuffle[df_fallow_bool]\n",
    "        df_fallow = df_fallow.append(df_crop_fallow, ignore_index=True)\n",
    "    outcomes = pd.DataFrame(df_fallow[outcome_cols].sum()).T\n",
    "    areas = df_fallow[['Area','Crop_PPIC']].groupby('Crop_PPIC').sum().T\n",
    "    areas.reset_index(drop=True, inplace=True)\n",
    "    output = pd.concat([outcomes, areas], axis=1, sort=False)\n",
    "    trials = trials.append(output, ignore_index=True, sort=False)"
   ]
  },
  {
   "cell_type": "code",
   "execution_count": 9,
   "metadata": {},
   "outputs": [
    {
     "data": {
      "text/html": [
       "<div>\n",
       "<style scoped>\n",
       "    .dataframe tbody tr th:only-of-type {\n",
       "        vertical-align: middle;\n",
       "    }\n",
       "\n",
       "    .dataframe tbody tr th {\n",
       "        vertical-align: top;\n",
       "    }\n",
       "\n",
       "    .dataframe thead th {\n",
       "        text-align: right;\n",
       "    }\n",
       "</style>\n",
       "<table border=\"1\" class=\"dataframe\">\n",
       "  <thead>\n",
       "    <tr style=\"text-align: right;\">\n",
       "      <th></th>\n",
       "      <th>Area</th>\n",
       "      <th>FieldCropPrice</th>\n",
       "      <th>SavedWater_Norm</th>\n",
       "      <th>Recharge_Norm</th>\n",
       "      <th>Kitfox_Total</th>\n",
       "      <th>TiptonKRat_Total</th>\n",
       "      <th>GiantGarterSnake_Total</th>\n",
       "      <th>TNC_Total</th>\n",
       "      <th>HabCorridors_Total</th>\n",
       "      <th>ConservationAreas_Total</th>\n",
       "      <th>ImpBirdAreas_Total</th>\n",
       "      <th>Nitrate_Total</th>\n",
       "      <th>ModSAGBI_Total</th>\n",
       "      <th>Prox2Wetlands_Total</th>\n",
       "      <th>Depth2GroundWater_Norm_Total</th>\n",
       "      <th>alfalfa-pasture</th>\n",
       "      <th>corn</th>\n",
       "      <th>field-crops-grains</th>\n",
       "      <th>trees-vines</th>\n",
       "      <th>veg-fruits</th>\n",
       "    </tr>\n",
       "  </thead>\n",
       "  <tbody>\n",
       "    <tr>\n",
       "      <th>0</th>\n",
       "      <td>156569.188779</td>\n",
       "      <td>2.516832e+08</td>\n",
       "      <td>28517.871307</td>\n",
       "      <td>17533.714758</td>\n",
       "      <td>156422.402804</td>\n",
       "      <td>138078.328436</td>\n",
       "      <td>51348.832680</td>\n",
       "      <td>25132.401278</td>\n",
       "      <td>4249.589956</td>\n",
       "      <td>107355.316965</td>\n",
       "      <td>32820.867619</td>\n",
       "      <td>118789.739492</td>\n",
       "      <td>63443.301842</td>\n",
       "      <td>86458.973612</td>\n",
       "      <td>117267.562199</td>\n",
       "      <td>75261.390188</td>\n",
       "      <td>23740.216326</td>\n",
       "      <td>42640.013696</td>\n",
       "      <td>11697.495433</td>\n",
       "      <td>3230.073137</td>\n",
       "    </tr>\n",
       "    <tr>\n",
       "      <th>1</th>\n",
       "      <td>156654.344175</td>\n",
       "      <td>2.518378e+08</td>\n",
       "      <td>28525.283516</td>\n",
       "      <td>17397.972079</td>\n",
       "      <td>156507.558199</td>\n",
       "      <td>138166.707045</td>\n",
       "      <td>51099.679632</td>\n",
       "      <td>26091.069855</td>\n",
       "      <td>4117.862698</td>\n",
       "      <td>107015.102502</td>\n",
       "      <td>33401.290769</td>\n",
       "      <td>118857.763064</td>\n",
       "      <td>63902.025355</td>\n",
       "      <td>87529.276980</td>\n",
       "      <td>117607.701510</td>\n",
       "      <td>75261.390188</td>\n",
       "      <td>23740.216326</td>\n",
       "      <td>42715.983447</td>\n",
       "      <td>11692.823273</td>\n",
       "      <td>3243.930941</td>\n",
       "    </tr>\n",
       "    <tr>\n",
       "      <th>2</th>\n",
       "      <td>156753.544211</td>\n",
       "      <td>2.519511e+08</td>\n",
       "      <td>28532.798384</td>\n",
       "      <td>17476.139050</td>\n",
       "      <td>156606.758235</td>\n",
       "      <td>138302.509487</td>\n",
       "      <td>51690.783708</td>\n",
       "      <td>25784.554819</td>\n",
       "      <td>3779.534489</td>\n",
       "      <td>107003.324601</td>\n",
       "      <td>32617.747137</td>\n",
       "      <td>118780.786442</td>\n",
       "      <td>63181.502816</td>\n",
       "      <td>89007.091122</td>\n",
       "      <td>117159.930254</td>\n",
       "      <td>75261.390188</td>\n",
       "      <td>23740.216326</td>\n",
       "      <td>42816.028087</td>\n",
       "      <td>11679.643863</td>\n",
       "      <td>3256.265747</td>\n",
       "    </tr>\n",
       "    <tr>\n",
       "      <th>3</th>\n",
       "      <td>156606.942536</td>\n",
       "      <td>2.519895e+08</td>\n",
       "      <td>28518.992154</td>\n",
       "      <td>17430.338296</td>\n",
       "      <td>156460.156561</td>\n",
       "      <td>136994.618632</td>\n",
       "      <td>51220.422023</td>\n",
       "      <td>25973.988494</td>\n",
       "      <td>4015.975231</td>\n",
       "      <td>107060.906758</td>\n",
       "      <td>32993.493162</td>\n",
       "      <td>118674.304430</td>\n",
       "      <td>63905.384358</td>\n",
       "      <td>87800.750739</td>\n",
       "      <td>117814.929825</td>\n",
       "      <td>75261.390188</td>\n",
       "      <td>23740.216326</td>\n",
       "      <td>42650.464731</td>\n",
       "      <td>11662.431949</td>\n",
       "      <td>3292.439343</td>\n",
       "    </tr>\n",
       "    <tr>\n",
       "      <th>4</th>\n",
       "      <td>156527.052312</td>\n",
       "      <td>2.513693e+08</td>\n",
       "      <td>28506.026634</td>\n",
       "      <td>17498.346986</td>\n",
       "      <td>156380.266337</td>\n",
       "      <td>137375.272173</td>\n",
       "      <td>51090.108161</td>\n",
       "      <td>26046.665054</td>\n",
       "      <td>4250.298330</td>\n",
       "      <td>107652.991022</td>\n",
       "      <td>33769.724211</td>\n",
       "      <td>118533.435194</td>\n",
       "      <td>63471.527767</td>\n",
       "      <td>88205.845363</td>\n",
       "      <td>117165.282561</td>\n",
       "      <td>75261.390188</td>\n",
       "      <td>23740.216326</td>\n",
       "      <td>42655.708096</td>\n",
       "      <td>11631.036858</td>\n",
       "      <td>3238.700845</td>\n",
       "    </tr>\n",
       "    <tr>\n",
       "      <th>5</th>\n",
       "      <td>156698.508353</td>\n",
       "      <td>2.517114e+08</td>\n",
       "      <td>28526.755679</td>\n",
       "      <td>17490.217350</td>\n",
       "      <td>156551.722377</td>\n",
       "      <td>137929.981058</td>\n",
       "      <td>51560.469720</td>\n",
       "      <td>25543.943769</td>\n",
       "      <td>4320.719071</td>\n",
       "      <td>106195.528250</td>\n",
       "      <td>32715.903293</td>\n",
       "      <td>118500.757917</td>\n",
       "      <td>63094.629349</td>\n",
       "      <td>87666.670998</td>\n",
       "      <td>117811.554312</td>\n",
       "      <td>75261.390188</td>\n",
       "      <td>23740.216326</td>\n",
       "      <td>42787.941309</td>\n",
       "      <td>11677.219557</td>\n",
       "      <td>3231.740973</td>\n",
       "    </tr>\n",
       "    <tr>\n",
       "      <th>6</th>\n",
       "      <td>156612.956993</td>\n",
       "      <td>2.519060e+08</td>\n",
       "      <td>28522.461553</td>\n",
       "      <td>17586.419835</td>\n",
       "      <td>156466.171018</td>\n",
       "      <td>137259.484307</td>\n",
       "      <td>50643.527869</td>\n",
       "      <td>25072.631092</td>\n",
       "      <td>4437.201956</td>\n",
       "      <td>106994.765986</td>\n",
       "      <td>32685.364690</td>\n",
       "      <td>118575.824082</td>\n",
       "      <td>63298.395753</td>\n",
       "      <td>86237.983313</td>\n",
       "      <td>117888.180601</td>\n",
       "      <td>75261.390188</td>\n",
       "      <td>23740.216326</td>\n",
       "      <td>42658.978577</td>\n",
       "      <td>11695.722514</td>\n",
       "      <td>3256.649389</td>\n",
       "    </tr>\n",
       "    <tr>\n",
       "      <th>7</th>\n",
       "      <td>156561.894649</td>\n",
       "      <td>2.516547e+08</td>\n",
       "      <td>28513.345824</td>\n",
       "      <td>17548.600236</td>\n",
       "      <td>156415.108674</td>\n",
       "      <td>137591.694240</td>\n",
       "      <td>50364.161458</td>\n",
       "      <td>25320.890308</td>\n",
       "      <td>4232.296763</td>\n",
       "      <td>106924.649008</td>\n",
       "      <td>33126.846388</td>\n",
       "      <td>118775.131433</td>\n",
       "      <td>62706.707188</td>\n",
       "      <td>87176.853354</td>\n",
       "      <td>117550.060441</td>\n",
       "      <td>75261.390188</td>\n",
       "      <td>23740.216326</td>\n",
       "      <td>42646.731927</td>\n",
       "      <td>11660.374382</td>\n",
       "      <td>3253.181826</td>\n",
       "    </tr>\n",
       "    <tr>\n",
       "      <th>8</th>\n",
       "      <td>156784.342798</td>\n",
       "      <td>2.527726e+08</td>\n",
       "      <td>28539.908402</td>\n",
       "      <td>17487.295354</td>\n",
       "      <td>156637.556822</td>\n",
       "      <td>137816.005177</td>\n",
       "      <td>51329.454192</td>\n",
       "      <td>25547.255451</td>\n",
       "      <td>4058.195247</td>\n",
       "      <td>107695.579946</td>\n",
       "      <td>33363.641819</td>\n",
       "      <td>119471.091481</td>\n",
       "      <td>63240.321096</td>\n",
       "      <td>87551.683114</td>\n",
       "      <td>116870.220493</td>\n",
       "      <td>75261.390188</td>\n",
       "      <td>23740.216326</td>\n",
       "      <td>42735.529333</td>\n",
       "      <td>11683.889656</td>\n",
       "      <td>3363.317296</td>\n",
       "    </tr>\n",
       "    <tr>\n",
       "      <th>9</th>\n",
       "      <td>156569.739548</td>\n",
       "      <td>2.515773e+08</td>\n",
       "      <td>28514.009927</td>\n",
       "      <td>17361.426818</td>\n",
       "      <td>156422.953572</td>\n",
       "      <td>138451.825405</td>\n",
       "      <td>51709.773354</td>\n",
       "      <td>25588.735699</td>\n",
       "      <td>4368.730209</td>\n",
       "      <td>107015.995569</td>\n",
       "      <td>33169.977601</td>\n",
       "      <td>119135.720754</td>\n",
       "      <td>63502.668386</td>\n",
       "      <td>87884.598191</td>\n",
       "      <td>117615.445217</td>\n",
       "      <td>75261.390188</td>\n",
       "      <td>23740.216326</td>\n",
       "      <td>42665.157135</td>\n",
       "      <td>11664.260982</td>\n",
       "      <td>3238.714918</td>\n",
       "    </tr>\n",
       "  </tbody>\n",
       "</table>\n",
       "</div>"
      ],
      "text/plain": [
       "            Area  FieldCropPrice  SavedWater_Norm  Recharge_Norm  \\\n",
       "0  156569.188779    2.516832e+08     28517.871307   17533.714758   \n",
       "1  156654.344175    2.518378e+08     28525.283516   17397.972079   \n",
       "2  156753.544211    2.519511e+08     28532.798384   17476.139050   \n",
       "3  156606.942536    2.519895e+08     28518.992154   17430.338296   \n",
       "4  156527.052312    2.513693e+08     28506.026634   17498.346986   \n",
       "5  156698.508353    2.517114e+08     28526.755679   17490.217350   \n",
       "6  156612.956993    2.519060e+08     28522.461553   17586.419835   \n",
       "7  156561.894649    2.516547e+08     28513.345824   17548.600236   \n",
       "8  156784.342798    2.527726e+08     28539.908402   17487.295354   \n",
       "9  156569.739548    2.515773e+08     28514.009927   17361.426818   \n",
       "\n",
       "    Kitfox_Total  TiptonKRat_Total  GiantGarterSnake_Total     TNC_Total  \\\n",
       "0  156422.402804     138078.328436            51348.832680  25132.401278   \n",
       "1  156507.558199     138166.707045            51099.679632  26091.069855   \n",
       "2  156606.758235     138302.509487            51690.783708  25784.554819   \n",
       "3  156460.156561     136994.618632            51220.422023  25973.988494   \n",
       "4  156380.266337     137375.272173            51090.108161  26046.665054   \n",
       "5  156551.722377     137929.981058            51560.469720  25543.943769   \n",
       "6  156466.171018     137259.484307            50643.527869  25072.631092   \n",
       "7  156415.108674     137591.694240            50364.161458  25320.890308   \n",
       "8  156637.556822     137816.005177            51329.454192  25547.255451   \n",
       "9  156422.953572     138451.825405            51709.773354  25588.735699   \n",
       "\n",
       "   HabCorridors_Total  ConservationAreas_Total  ImpBirdAreas_Total  \\\n",
       "0         4249.589956            107355.316965        32820.867619   \n",
       "1         4117.862698            107015.102502        33401.290769   \n",
       "2         3779.534489            107003.324601        32617.747137   \n",
       "3         4015.975231            107060.906758        32993.493162   \n",
       "4         4250.298330            107652.991022        33769.724211   \n",
       "5         4320.719071            106195.528250        32715.903293   \n",
       "6         4437.201956            106994.765986        32685.364690   \n",
       "7         4232.296763            106924.649008        33126.846388   \n",
       "8         4058.195247            107695.579946        33363.641819   \n",
       "9         4368.730209            107015.995569        33169.977601   \n",
       "\n",
       "   Nitrate_Total  ModSAGBI_Total  Prox2Wetlands_Total  \\\n",
       "0  118789.739492    63443.301842         86458.973612   \n",
       "1  118857.763064    63902.025355         87529.276980   \n",
       "2  118780.786442    63181.502816         89007.091122   \n",
       "3  118674.304430    63905.384358         87800.750739   \n",
       "4  118533.435194    63471.527767         88205.845363   \n",
       "5  118500.757917    63094.629349         87666.670998   \n",
       "6  118575.824082    63298.395753         86237.983313   \n",
       "7  118775.131433    62706.707188         87176.853354   \n",
       "8  119471.091481    63240.321096         87551.683114   \n",
       "9  119135.720754    63502.668386         87884.598191   \n",
       "\n",
       "   Depth2GroundWater_Norm_Total  alfalfa-pasture          corn  \\\n",
       "0                 117267.562199     75261.390188  23740.216326   \n",
       "1                 117607.701510     75261.390188  23740.216326   \n",
       "2                 117159.930254     75261.390188  23740.216326   \n",
       "3                 117814.929825     75261.390188  23740.216326   \n",
       "4                 117165.282561     75261.390188  23740.216326   \n",
       "5                 117811.554312     75261.390188  23740.216326   \n",
       "6                 117888.180601     75261.390188  23740.216326   \n",
       "7                 117550.060441     75261.390188  23740.216326   \n",
       "8                 116870.220493     75261.390188  23740.216326   \n",
       "9                 117615.445217     75261.390188  23740.216326   \n",
       "\n",
       "   field-crops-grains   trees-vines   veg-fruits  \n",
       "0        42640.013696  11697.495433  3230.073137  \n",
       "1        42715.983447  11692.823273  3243.930941  \n",
       "2        42816.028087  11679.643863  3256.265747  \n",
       "3        42650.464731  11662.431949  3292.439343  \n",
       "4        42655.708096  11631.036858  3238.700845  \n",
       "5        42787.941309  11677.219557  3231.740973  \n",
       "6        42658.978577  11695.722514  3256.649389  \n",
       "7        42646.731927  11660.374382  3253.181826  \n",
       "8        42735.529333  11683.889656  3363.317296  \n",
       "9        42665.157135  11664.260982  3238.714918  "
      ]
     },
     "execution_count": 9,
     "metadata": {},
     "output_type": "execute_result"
    }
   ],
   "source": [
    "trials.head(10)"
   ]
  },
  {
   "cell_type": "markdown",
   "metadata": {},
   "source": [
    "#### Save output"
   ]
  },
  {
   "cell_type": "code",
   "execution_count": 10,
   "metadata": {},
   "outputs": [],
   "source": [
    "trials.to_csv(outname)"
   ]
  },
  {
   "cell_type": "markdown",
   "metadata": {},
   "source": [
    "### Visualize results"
   ]
  },
  {
   "cell_type": "markdown",
   "metadata": {},
   "source": [
    "#### Compare to PPIC Report"
   ]
  },
  {
   "cell_type": "code",
   "execution_count": 11,
   "metadata": {},
   "outputs": [
    {
     "name": "stdout",
     "output_type": "stream",
     "text": [
      "$251,770,570.94\n"
     ]
    }
   ],
   "source": [
    "# Average revenue loss\n",
    "value = trials['FieldCropPrice'].mean()\n",
    "print (f'${value:,.2f}')"
   ]
  },
  {
   "cell_type": "markdown",
   "metadata": {},
   "source": [
    "#### Ensure sufficient acreage fallowed"
   ]
  },
  {
   "cell_type": "code",
   "execution_count": 12,
   "metadata": {},
   "outputs": [],
   "source": [
    "# Bar chart with each crop type on x-axis, acreage fallowed as bars, and targets as dots. Visualize difference between\n",
    "# acreage fallowed and target for each crop type in one chart."
   ]
  },
  {
   "cell_type": "code",
   "execution_count": 14,
   "metadata": {},
   "outputs": [
    {
     "name": "stderr",
     "output_type": "stream",
     "text": [
      "C:\\Users\\Erik\\Anaconda3\\lib\\site-packages\\seaborn\\distributions.py:214: MatplotlibDeprecationWarning: \n",
      "The 'normed' kwarg was deprecated in Matplotlib 2.1 and will be removed in 3.1. Use 'density' instead.\n",
      "  color=hist_color, **hist_kws)\n"
     ]
    },
    {
     "data": {
      "image/png": "[encoded data removed]",
      "text/plain": [
       "<Figure size 432x288 with 1 Axes>"
      ]
     },
     "metadata": {
      "needs_background": "light"
     },
     "output_type": "display_data"
    }
   ],
   "source": [
    "crop_type = 'veg-fruits'\n",
    "sns.distplot(trials[crop_type]-targets.loc[region_code, crop_type], rug=True)\n",
    "sns.despine()"
   ]
  },
  {
   "cell_type": "code",
   "execution_count": 15,
   "metadata": {},
   "outputs": [
    {
     "data": {
      "image/png": "[encoded data removed]",
      "text/plain": [
       "<Figure size 432x288 with 1 Axes>"
      ]
     },
     "metadata": {
      "needs_background": "light"
     },
     "output_type": "display_data"
    }
   ],
   "source": [
    "sns.distplot(trials['GiantGarterSnake_Total'], rug=True)\n",
    "sns.despine()"
   ]
  },
  {
   "cell_type": "code",
   "execution_count": 16,
   "metadata": {},
   "outputs": [
    {
     "data": {
      "image/png": "[encoded data removed]",
      "text/plain": [
       "<Figure size 432x288 with 1 Axes>"
      ]
     },
     "metadata": {
      "needs_background": "light"
     },
     "output_type": "display_data"
    }
   ],
   "source": [
    "sns.distplot(trials['FieldCropPrice'], rug=True)\n",
    "sns.despine()"
   ]
  },
  {
   "cell_type": "code",
   "execution_count": null,
   "metadata": {},
   "outputs": [],
   "source": []
  }
 ],
 "metadata": {
  "kernelspec": {
   "display_name": "Python 3",
   "language": "python",
   "name": "python3"
  },
  "language_info": {
   "codemirror_mode": {
    "name": "ipython",
    "version": 3
   },
   "file_extension": ".py",
   "mimetype": "text/x-python",
   "name": "python",
   "nbconvert_exporter": "python",
   "pygments_lexer": "ipython3",
   "version": "3.6.8"
  }
 },
 "nbformat": 4,
 "nbformat_minor": 2
}
