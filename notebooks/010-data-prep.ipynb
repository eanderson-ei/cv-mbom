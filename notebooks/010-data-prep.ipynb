{
 "cells": [
  {
   "cell_type": "markdown",
   "metadata": {},
   "source": [
    "# Data Preparation\n",
    "Prepare data from GIS output for optimization model. Requires data by PPIC region (Kern County, Southeast, or Southwest are within analysis scope).\n",
    "\n",
    "### Inputs:\n",
    "* Shapefiles of ag fields with crop type ('Crop2014'), area in acres ('Acres'), field identifier ('FID_*County*'). \n",
    "    * Expected in `../spatial/` with County name ('Fresno', 'Tulare', 'Kings', 'Kern') appended to `'_fields'` (e.g, `'Fresno_fields.shp`').\n",
    "* csv of conservation factor scores ('FID_*County*', 'TNC', 'Krat', 'Kitfox', 'Corridors', 'CPAD'). \n",
    "    * Expected in `../data/` with County name ('Fresno', 'Tulare', 'Kings', 'Kern') appended to `'_score'` (e.g, `'Fresno_score.csv'`).\n",
    "* PPIC region shapefile with region code ('PPIC_Region': 'KR', 'NE', 'NW', 'SE', 'SW')\n",
    "    * Expected in `../spatial/PPIC_Region.shp`\n",
    "* csv to crosswalk LandIQ crop types with PPIC crop types\n",
    "    * Expected in `../data/crop_x.csv`\n",
    "* csv of rotation-adjusted price per acre ('AdjustedPrice'). Note these data were developed for Kern county and other counties are assumed to be equivalent.\n",
    "    * Expected in`../data/crop_price.csv`\n",
    "* csv of crop water consumption per acre ('*County*_AW').\n",
    "    * Expected in`../data/crop_water.csv`\n",
    "\n",
    "### Output:\n",
    "* shapefile with per field ag data and conservation factor scores for entire analysis area.\n",
    "\n",
    "### Process Overview:\n",
    "1. Spatial join the county ag field shapefiles with PPIC region shapefile\n",
    "2. For each region in the PPIC regions ('KR', 'SW', 'SE'):\n",
    "    1. Lookup PPIC crop code from crop_x table\n",
    "    2. Calculate price per acre\n",
    "    3. Normalize conservation factors not already on a 1 - 100 scale\n",
    "    4. Calculate area-weighted conservation production per field"
   ]
  },
  {
   "cell_type": "markdown",
   "metadata": {},
   "source": [
    "## Inputs"
   ]
  },
  {
   "cell_type": "markdown",
   "metadata": {},
   "source": [
    "Confirm the inputs"
   ]
  },
  {
   "cell_type": "code",
   "execution_count": 1,
   "metadata": {},
   "outputs": [],
   "source": [
    "# Inputs\n",
    "counties = ['Fresno', 'Tulare', 'Kings', 'Kern']\n",
    "regions = ['KR', 'SE', 'SW']\n",
    "ppic = r'../spatial/PPIC_Region.shp'\n",
    "crop_x_table = r'../data/crop_x.csv'\n",
    "crop_price_table = r'../data/crop_price.csv'\n",
    "crop_water_table = r'../data/crop_water.csv'\n",
    "\n",
    "\n",
    "# Path to output, use as input to future notebooks\n",
    "out_shp = r'../outputs/fields_shape.shp'"
   ]
  },
  {
   "cell_type": "markdown",
   "metadata": {},
   "source": [
    "## Processing"
   ]
  },
  {
   "cell_type": "code",
   "execution_count": 2,
   "metadata": {},
   "outputs": [],
   "source": [
    "# Import statements\n",
    "import pandas as pd\n",
    "import numpy as np\n",
    "import geopandas as gd\n",
    "import matplotlib.pyplot as plt\n",
    "import seaborn as sns"
   ]
  },
  {
   "cell_type": "code",
   "execution_count": 3,
   "metadata": {},
   "outputs": [],
   "source": [
    "sns.set_style(\"white\")"
   ]
  },
  {
   "cell_type": "code",
   "execution_count": 4,
   "metadata": {},
   "outputs": [],
   "source": [
    "plt.rcParams[\"figure.figsize\"] = (12,5)"
   ]
  },
  {
   "cell_type": "markdown",
   "metadata": {},
   "source": [
    "## Read in Data"
   ]
  },
  {
   "cell_type": "markdown",
   "metadata": {},
   "source": [
    "### Read in Conservation Factor Data"
   ]
  },
  {
   "cell_type": "code",
   "execution_count": 5,
   "metadata": {},
   "outputs": [
    {
     "data": {
      "text/html": [
       "<div>\n",
       "<style scoped>\n",
       "    .dataframe tbody tr th:only-of-type {\n",
       "        vertical-align: middle;\n",
       "    }\n",
       "\n",
       "    .dataframe tbody tr th {\n",
       "        vertical-align: top;\n",
       "    }\n",
       "\n",
       "    .dataframe thead th {\n",
       "        text-align: right;\n",
       "    }\n",
       "</style>\n",
       "<table border=\"1\" class=\"dataframe\">\n",
       "  <thead>\n",
       "    <tr style=\"text-align: right;\">\n",
       "      <th></th>\n",
       "      <th>FID</th>\n",
       "      <th>TNC</th>\n",
       "      <th>Krat</th>\n",
       "      <th>Kitfox</th>\n",
       "      <th>Corridors</th>\n",
       "      <th>CPAD</th>\n",
       "      <th>County</th>\n",
       "    </tr>\n",
       "  </thead>\n",
       "  <tbody>\n",
       "    <tr>\n",
       "      <th>0</th>\n",
       "      <td>0</td>\n",
       "      <td>0.0</td>\n",
       "      <td>0.0</td>\n",
       "      <td>0.0</td>\n",
       "      <td>0.0</td>\n",
       "      <td>0.0</td>\n",
       "      <td>Fresno</td>\n",
       "    </tr>\n",
       "    <tr>\n",
       "      <th>1</th>\n",
       "      <td>1</td>\n",
       "      <td>0.0</td>\n",
       "      <td>0.0</td>\n",
       "      <td>0.0</td>\n",
       "      <td>0.0</td>\n",
       "      <td>0.0</td>\n",
       "      <td>Fresno</td>\n",
       "    </tr>\n",
       "    <tr>\n",
       "      <th>2</th>\n",
       "      <td>2</td>\n",
       "      <td>0.0</td>\n",
       "      <td>0.0</td>\n",
       "      <td>0.0</td>\n",
       "      <td>0.0</td>\n",
       "      <td>0.0</td>\n",
       "      <td>Fresno</td>\n",
       "    </tr>\n",
       "    <tr>\n",
       "      <th>3</th>\n",
       "      <td>3</td>\n",
       "      <td>0.0</td>\n",
       "      <td>0.0</td>\n",
       "      <td>0.0</td>\n",
       "      <td>0.0</td>\n",
       "      <td>0.0</td>\n",
       "      <td>Fresno</td>\n",
       "    </tr>\n",
       "    <tr>\n",
       "      <th>4</th>\n",
       "      <td>4</td>\n",
       "      <td>0.0</td>\n",
       "      <td>0.0</td>\n",
       "      <td>0.0</td>\n",
       "      <td>0.0</td>\n",
       "      <td>0.0</td>\n",
       "      <td>Fresno</td>\n",
       "    </tr>\n",
       "  </tbody>\n",
       "</table>\n",
       "</div>"
      ],
      "text/plain": [
       "   FID  TNC  Krat  Kitfox  Corridors  CPAD  County\n",
       "0    0  0.0   0.0     0.0        0.0   0.0  Fresno\n",
       "1    1  0.0   0.0     0.0        0.0   0.0  Fresno\n",
       "2    2  0.0   0.0     0.0        0.0   0.0  Fresno\n",
       "3    3  0.0   0.0     0.0        0.0   0.0  Fresno\n",
       "4    4  0.0   0.0     0.0        0.0   0.0  Fresno"
      ]
     },
     "execution_count": 5,
     "metadata": {},
     "output_type": "execute_result"
    }
   ],
   "source": [
    "# Read in conservation factor scores, create new County column to identify county, \n",
    "# standardize all FID columns to 'FID', and combine\n",
    "field_dfs = []\n",
    "for county in counties:\n",
    "    df = pd.read_csv('../data/' + county + '_score.csv')\n",
    "    df.rename(columns={f'FID_{county}_fields': 'FID'}, inplace=True)\n",
    "    df['County'] = county\n",
    "    field_dfs.append(df)\n",
    "df = pd.concat(field_dfs, sort=False)\n",
    "df.head()"
   ]
  },
  {
   "cell_type": "markdown",
   "metadata": {},
   "source": [
    "### Read in Field Spatial Data"
   ]
  },
  {
   "cell_type": "code",
   "execution_count": 6,
   "metadata": {},
   "outputs": [],
   "source": [
    "# Read in field shapefiles, drop extraneous columns, create new County column to identify county, \n",
    "# standardize all FID columns to 'FID', and combine\n",
    "shp_list = []\n",
    "\n",
    "for county in counties:\n",
    "    shp = gd.read_file(f'../spatial/{county}_fields.shp')\n",
    "    shp = shp[['Crop2014', 'Acres', f'FID_{county}', 'geometry']]\n",
    "    shp.rename(columns={f'FID_{county}': 'FID'}, inplace=True)\n",
    "    shp['County'] = county\n",
    "    shp_list.append(shp)\n",
    "    \n",
    "fields = gd.GeoDataFrame(pd.concat(shp_list, ignore_index=True, sort=False))\n",
    "fields.crs = {'init': 'epsg:6414'}\n",
    "fields = fields.to_crs(epsg=3857)"
   ]
  },
  {
   "cell_type": "code",
   "execution_count": 7,
   "metadata": {},
   "outputs": [
    {
     "data": {
      "text/plain": [
       "{'init': 'epsg:3857', 'no_defs': True}"
      ]
     },
     "execution_count": 7,
     "metadata": {},
     "output_type": "execute_result"
    }
   ],
   "source": [
    "fields.crs"
   ]
  },
  {
   "cell_type": "code",
   "execution_count": 8,
   "metadata": {},
   "outputs": [
    {
     "data": {
      "text/html": [
       "<div>\n",
       "<style scoped>\n",
       "    .dataframe tbody tr th:only-of-type {\n",
       "        vertical-align: middle;\n",
       "    }\n",
       "\n",
       "    .dataframe tbody tr th {\n",
       "        vertical-align: top;\n",
       "    }\n",
       "\n",
       "    .dataframe thead th {\n",
       "        text-align: right;\n",
       "    }\n",
       "</style>\n",
       "<table border=\"1\" class=\"dataframe\">\n",
       "  <thead>\n",
       "    <tr style=\"text-align: right;\">\n",
       "      <th></th>\n",
       "      <th>Crop2014</th>\n",
       "      <th>Acres</th>\n",
       "      <th>FID</th>\n",
       "      <th>geometry</th>\n",
       "      <th>County</th>\n",
       "    </tr>\n",
       "  </thead>\n",
       "  <tbody>\n",
       "    <tr>\n",
       "      <th>0</th>\n",
       "      <td>Grapes</td>\n",
       "      <td>43.474109</td>\n",
       "      <td>0</td>\n",
       "      <td>POLYGON Z ((-13355020.09666443 4407864.0678736...</td>\n",
       "      <td>Fresno</td>\n",
       "    </tr>\n",
       "    <tr>\n",
       "      <th>1</th>\n",
       "      <td>Grapes</td>\n",
       "      <td>93.723265</td>\n",
       "      <td>1</td>\n",
       "      <td>POLYGON Z ((-13331506.86330624 4374173.2907541...</td>\n",
       "      <td>Fresno</td>\n",
       "    </tr>\n",
       "    <tr>\n",
       "      <th>2</th>\n",
       "      <td>Peaches/Nectarines</td>\n",
       "      <td>6.409884</td>\n",
       "      <td>2</td>\n",
       "      <td>POLYGON Z ((-13304207.15885581 4380620.8643907...</td>\n",
       "      <td>Fresno</td>\n",
       "    </tr>\n",
       "    <tr>\n",
       "      <th>3</th>\n",
       "      <td>Grapes</td>\n",
       "      <td>17.461519</td>\n",
       "      <td>3</td>\n",
       "      <td>POLYGON Z ((-13331417.48071155 4381217.4603662...</td>\n",
       "      <td>Fresno</td>\n",
       "    </tr>\n",
       "    <tr>\n",
       "      <th>4</th>\n",
       "      <td>Grapes</td>\n",
       "      <td>9.365854</td>\n",
       "      <td>4</td>\n",
       "      <td>POLYGON Z ((-13339076.40436587 4383454.6129433...</td>\n",
       "      <td>Fresno</td>\n",
       "    </tr>\n",
       "  </tbody>\n",
       "</table>\n",
       "</div>"
      ],
      "text/plain": [
       "             Crop2014      Acres  FID  \\\n",
       "0              Grapes  43.474109    0   \n",
       "1              Grapes  93.723265    1   \n",
       "2  Peaches/Nectarines   6.409884    2   \n",
       "3              Grapes  17.461519    3   \n",
       "4              Grapes   9.365854    4   \n",
       "\n",
       "                                            geometry  County  \n",
       "0  POLYGON Z ((-13355020.09666443 4407864.0678736...  Fresno  \n",
       "1  POLYGON Z ((-13331506.86330624 4374173.2907541...  Fresno  \n",
       "2  POLYGON Z ((-13304207.15885581 4380620.8643907...  Fresno  \n",
       "3  POLYGON Z ((-13331417.48071155 4381217.4603662...  Fresno  \n",
       "4  POLYGON Z ((-13339076.40436587 4383454.6129433...  Fresno  "
      ]
     },
     "execution_count": 8,
     "metadata": {},
     "output_type": "execute_result"
    }
   ],
   "source": [
    "fields.head()"
   ]
  },
  {
   "cell_type": "markdown",
   "metadata": {},
   "source": [
    "### Read in PPIC Spatial Data "
   ]
  },
  {
   "cell_type": "code",
   "execution_count": 9,
   "metadata": {},
   "outputs": [
    {
     "data": {
      "text/html": [
       "<div>\n",
       "<style scoped>\n",
       "    .dataframe tbody tr th:only-of-type {\n",
       "        vertical-align: middle;\n",
       "    }\n",
       "\n",
       "    .dataframe tbody tr th {\n",
       "        vertical-align: top;\n",
       "    }\n",
       "\n",
       "    .dataframe thead th {\n",
       "        text-align: right;\n",
       "    }\n",
       "</style>\n",
       "<table border=\"1\" class=\"dataframe\">\n",
       "  <thead>\n",
       "    <tr style=\"text-align: right;\">\n",
       "      <th></th>\n",
       "      <th>OBJECTID</th>\n",
       "      <th>PPIC_Regio</th>\n",
       "      <th>Shape_Leng</th>\n",
       "      <th>Shape_Area</th>\n",
       "      <th>geometry</th>\n",
       "    </tr>\n",
       "  </thead>\n",
       "  <tbody>\n",
       "    <tr>\n",
       "      <th>0</th>\n",
       "      <td>1</td>\n",
       "      <td>KR</td>\n",
       "      <td>1.029789e+06</td>\n",
       "      <td>1.212854e+10</td>\n",
       "      <td>POLYGON ((-13247038.307 4287718.055399997, -13...</td>\n",
       "    </tr>\n",
       "    <tr>\n",
       "      <th>1</th>\n",
       "      <td>2</td>\n",
       "      <td>NE</td>\n",
       "      <td>8.712062e+05</td>\n",
       "      <td>1.149217e+10</td>\n",
       "      <td>POLYGON ((-13501488.6241 4565348.2922, -135001...</td>\n",
       "    </tr>\n",
       "    <tr>\n",
       "      <th>2</th>\n",
       "      <td>3</td>\n",
       "      <td>NW</td>\n",
       "      <td>7.630251e+05</td>\n",
       "      <td>4.508380e+09</td>\n",
       "      <td>POLYGON ((-13502420.0527 4535907.504600001, -1...</td>\n",
       "    </tr>\n",
       "    <tr>\n",
       "      <th>3</th>\n",
       "      <td>4</td>\n",
       "      <td>SE</td>\n",
       "      <td>1.069165e+06</td>\n",
       "      <td>9.642920e+09</td>\n",
       "      <td>POLYGON ((-13325232.1049 4434083.094999996, -1...</td>\n",
       "    </tr>\n",
       "    <tr>\n",
       "      <th>4</th>\n",
       "      <td>5</td>\n",
       "      <td>SW</td>\n",
       "      <td>8.410650e+05</td>\n",
       "      <td>1.094927e+10</td>\n",
       "      <td>POLYGON ((-13371112.014 4413205.373400005, -13...</td>\n",
       "    </tr>\n",
       "  </tbody>\n",
       "</table>\n",
       "</div>"
      ],
      "text/plain": [
       "   OBJECTID PPIC_Regio    Shape_Leng    Shape_Area  \\\n",
       "0         1         KR  1.029789e+06  1.212854e+10   \n",
       "1         2         NE  8.712062e+05  1.149217e+10   \n",
       "2         3         NW  7.630251e+05  4.508380e+09   \n",
       "3         4         SE  1.069165e+06  9.642920e+09   \n",
       "4         5         SW  8.410650e+05  1.094927e+10   \n",
       "\n",
       "                                            geometry  \n",
       "0  POLYGON ((-13247038.307 4287718.055399997, -13...  \n",
       "1  POLYGON ((-13501488.6241 4565348.2922, -135001...  \n",
       "2  POLYGON ((-13502420.0527 4535907.504600001, -1...  \n",
       "3  POLYGON ((-13325232.1049 4434083.094999996, -1...  \n",
       "4  POLYGON ((-13371112.014 4413205.373400005, -13...  "
      ]
     },
     "execution_count": 9,
     "metadata": {},
     "output_type": "execute_result"
    }
   ],
   "source": [
    "ppic_regions = gd.read_file(ppic)\n",
    "ppic_regions = ppic_regions.to_crs(epsg=3857)\n",
    "ppic_regions"
   ]
  },
  {
   "cell_type": "markdown",
   "metadata": {},
   "source": [
    "### Read in Crop Crosswalk to PPIC table"
   ]
  },
  {
   "cell_type": "code",
   "execution_count": 10,
   "metadata": {},
   "outputs": [
    {
     "data": {
      "text/html": [
       "<div>\n",
       "<style scoped>\n",
       "    .dataframe tbody tr th:only-of-type {\n",
       "        vertical-align: middle;\n",
       "    }\n",
       "\n",
       "    .dataframe tbody tr th {\n",
       "        vertical-align: top;\n",
       "    }\n",
       "\n",
       "    .dataframe thead th {\n",
       "        text-align: right;\n",
       "    }\n",
       "</style>\n",
       "<table border=\"1\" class=\"dataframe\">\n",
       "  <thead>\n",
       "    <tr style=\"text-align: right;\">\n",
       "      <th></th>\n",
       "      <th>Crop</th>\n",
       "      <th>Crop_PPIC</th>\n",
       "    </tr>\n",
       "  </thead>\n",
       "  <tbody>\n",
       "    <tr>\n",
       "      <th>0</th>\n",
       "      <td>AlfalfaandAlfalfaMixtures</td>\n",
       "      <td>alfalfa-pasture</td>\n",
       "    </tr>\n",
       "    <tr>\n",
       "      <th>1</th>\n",
       "      <td>Almonds</td>\n",
       "      <td>trees-vines</td>\n",
       "    </tr>\n",
       "    <tr>\n",
       "      <th>2</th>\n",
       "      <td>Apples</td>\n",
       "      <td>veg-fruits</td>\n",
       "    </tr>\n",
       "    <tr>\n",
       "      <th>3</th>\n",
       "      <td>Avocados</td>\n",
       "      <td>trees-vines</td>\n",
       "    </tr>\n",
       "    <tr>\n",
       "      <th>4</th>\n",
       "      <td>Beans(Dry)</td>\n",
       "      <td>veg-fruits</td>\n",
       "    </tr>\n",
       "  </tbody>\n",
       "</table>\n",
       "</div>"
      ],
      "text/plain": [
       "                        Crop        Crop_PPIC\n",
       "0  AlfalfaandAlfalfaMixtures  alfalfa-pasture\n",
       "1                    Almonds      trees-vines\n",
       "2                     Apples       veg-fruits\n",
       "3                   Avocados      trees-vines\n",
       "4                 Beans(Dry)       veg-fruits"
      ]
     },
     "execution_count": 10,
     "metadata": {},
     "output_type": "execute_result"
    }
   ],
   "source": [
    "crop_x = pd.read_csv(crop_x_table)\n",
    "crop_x.head() "
   ]
  },
  {
   "cell_type": "markdown",
   "metadata": {},
   "source": [
    "### Read in Crop Info Table"
   ]
  },
  {
   "cell_type": "code",
   "execution_count": 11,
   "metadata": {},
   "outputs": [
    {
     "data": {
      "text/html": [
       "<div>\n",
       "<style scoped>\n",
       "    .dataframe tbody tr th:only-of-type {\n",
       "        vertical-align: middle;\n",
       "    }\n",
       "\n",
       "    .dataframe tbody tr th {\n",
       "        vertical-align: top;\n",
       "    }\n",
       "\n",
       "    .dataframe thead th {\n",
       "        text-align: right;\n",
       "    }\n",
       "</style>\n",
       "<table border=\"1\" class=\"dataframe\">\n",
       "  <thead>\n",
       "    <tr style=\"text-align: right;\">\n",
       "      <th></th>\n",
       "      <th>Crop</th>\n",
       "      <th>Price</th>\n",
       "      <th>Rotations</th>\n",
       "      <th>AdjustedPrice</th>\n",
       "    </tr>\n",
       "  </thead>\n",
       "  <tbody>\n",
       "    <tr>\n",
       "      <th>0</th>\n",
       "      <td>AlfalfaandAlfalfaMixtures</td>\n",
       "      <td>1113.653444</td>\n",
       "      <td>1.000000</td>\n",
       "      <td>1113.653444</td>\n",
       "    </tr>\n",
       "    <tr>\n",
       "      <th>1</th>\n",
       "      <td>Almonds</td>\n",
       "      <td>5995.531797</td>\n",
       "      <td>1.000000</td>\n",
       "      <td>5995.531797</td>\n",
       "    </tr>\n",
       "    <tr>\n",
       "      <th>2</th>\n",
       "      <td>Apples</td>\n",
       "      <td>1657.747573</td>\n",
       "      <td>1.000000</td>\n",
       "      <td>1657.747573</td>\n",
       "    </tr>\n",
       "    <tr>\n",
       "      <th>3</th>\n",
       "      <td>Avocados</td>\n",
       "      <td>13099.103230</td>\n",
       "      <td>1.000000</td>\n",
       "      <td>13099.103230</td>\n",
       "    </tr>\n",
       "    <tr>\n",
       "      <th>4</th>\n",
       "      <td>Beans(Dry)</td>\n",
       "      <td>1060.225352</td>\n",
       "      <td>1.935484</td>\n",
       "      <td>2052.049069</td>\n",
       "    </tr>\n",
       "  </tbody>\n",
       "</table>\n",
       "</div>"
      ],
      "text/plain": [
       "                        Crop         Price  Rotations  AdjustedPrice\n",
       "0  AlfalfaandAlfalfaMixtures   1113.653444   1.000000    1113.653444\n",
       "1                    Almonds   5995.531797   1.000000    5995.531797\n",
       "2                     Apples   1657.747573   1.000000    1657.747573\n",
       "3                   Avocados  13099.103230   1.000000   13099.103230\n",
       "4                 Beans(Dry)   1060.225352   1.935484    2052.049069"
      ]
     },
     "execution_count": 11,
     "metadata": {},
     "output_type": "execute_result"
    }
   ],
   "source": [
    "crop_price = pd.read_csv(crop_price_table)\n",
    "crop_price.head()"
   ]
  },
  {
   "cell_type": "code",
   "execution_count": 12,
   "metadata": {},
   "outputs": [
    {
     "data": {
      "text/html": [
       "<div>\n",
       "<style scoped>\n",
       "    .dataframe tbody tr th:only-of-type {\n",
       "        vertical-align: middle;\n",
       "    }\n",
       "\n",
       "    .dataframe tbody tr th {\n",
       "        vertical-align: top;\n",
       "    }\n",
       "\n",
       "    .dataframe thead th {\n",
       "        text-align: right;\n",
       "    }\n",
       "</style>\n",
       "<table border=\"1\" class=\"dataframe\">\n",
       "  <thead>\n",
       "    <tr style=\"text-align: right;\">\n",
       "      <th></th>\n",
       "      <th>Crop</th>\n",
       "      <th>Kern_AW</th>\n",
       "      <th>Fresno_AW</th>\n",
       "      <th>Kings_AW</th>\n",
       "      <th>Tulare_AW</th>\n",
       "    </tr>\n",
       "  </thead>\n",
       "  <tbody>\n",
       "    <tr>\n",
       "      <th>0</th>\n",
       "      <td>AlfalfaandAlfalfaMixtures</td>\n",
       "      <td>5.08</td>\n",
       "      <td>4.589778</td>\n",
       "      <td>4.945137</td>\n",
       "      <td>5.125525</td>\n",
       "    </tr>\n",
       "    <tr>\n",
       "      <th>1</th>\n",
       "      <td>Almonds</td>\n",
       "      <td>4.54</td>\n",
       "      <td>3.521685</td>\n",
       "      <td>3.884410</td>\n",
       "      <td>3.889192</td>\n",
       "    </tr>\n",
       "    <tr>\n",
       "      <th>2</th>\n",
       "      <td>Apples</td>\n",
       "      <td>3.63</td>\n",
       "      <td>3.795877</td>\n",
       "      <td>3.985478</td>\n",
       "      <td>3.767993</td>\n",
       "    </tr>\n",
       "    <tr>\n",
       "      <th>3</th>\n",
       "      <td>Avocados</td>\n",
       "      <td>3.53</td>\n",
       "      <td>2.773072</td>\n",
       "      <td>3.172853</td>\n",
       "      <td>3.117050</td>\n",
       "    </tr>\n",
       "    <tr>\n",
       "      <th>4</th>\n",
       "      <td>Beans(Dry)</td>\n",
       "      <td>3.26</td>\n",
       "      <td>2.137108</td>\n",
       "      <td>2.784316</td>\n",
       "      <td>3.071122</td>\n",
       "    </tr>\n",
       "  </tbody>\n",
       "</table>\n",
       "</div>"
      ],
      "text/plain": [
       "                        Crop  Kern_AW  Fresno_AW  Kings_AW  Tulare_AW\n",
       "0  AlfalfaandAlfalfaMixtures     5.08   4.589778  4.945137   5.125525\n",
       "1                    Almonds     4.54   3.521685  3.884410   3.889192\n",
       "2                     Apples     3.63   3.795877  3.985478   3.767993\n",
       "3                   Avocados     3.53   2.773072  3.172853   3.117050\n",
       "4                 Beans(Dry)     3.26   2.137108  2.784316   3.071122"
      ]
     },
     "execution_count": 12,
     "metadata": {},
     "output_type": "execute_result"
    }
   ],
   "source": [
    "crop_water = pd.read_csv(crop_water_table)\n",
    "crop_water.head()"
   ]
  },
  {
   "cell_type": "markdown",
   "metadata": {},
   "source": [
    "## Set Up Analysis"
   ]
  },
  {
   "cell_type": "markdown",
   "metadata": {},
   "source": [
    "### Identify PPIC region"
   ]
  },
  {
   "cell_type": "code",
   "execution_count": 13,
   "metadata": {},
   "outputs": [],
   "source": [
    "fields = gd.sjoin(fields, ppic_regions)"
   ]
  },
  {
   "cell_type": "code",
   "execution_count": 14,
   "metadata": {},
   "outputs": [
    {
     "data": {
      "text/plain": [
       "PPIC_Regio  County\n",
       "KR          Kern      18651\n",
       "            Tulare      707\n",
       "            Kings         2\n",
       "NW          Fresno     2381\n",
       "SE          Tulare    29679\n",
       "            Fresno    20113\n",
       "            Kings      1487\n",
       "            Kern         20\n",
       "SW          Fresno    11178\n",
       "            Kings      7100\n",
       "            Kern         43\n",
       "            Tulare       18\n",
       "Name: County, dtype: int64"
      ]
     },
     "execution_count": 14,
     "metadata": {},
     "output_type": "execute_result"
    }
   ],
   "source": [
    "fields.groupby('PPIC_Regio')['County'].value_counts()"
   ]
  },
  {
   "cell_type": "code",
   "execution_count": 15,
   "metadata": {},
   "outputs": [],
   "source": [
    "fields = fields[['Crop2014', 'Acres', 'FID', 'geometry', 'County', 'PPIC_Regio']]"
   ]
  },
  {
   "cell_type": "code",
   "execution_count": 16,
   "metadata": {},
   "outputs": [
    {
     "data": {
      "text/html": [
       "<div>\n",
       "<style scoped>\n",
       "    .dataframe tbody tr th:only-of-type {\n",
       "        vertical-align: middle;\n",
       "    }\n",
       "\n",
       "    .dataframe tbody tr th {\n",
       "        vertical-align: top;\n",
       "    }\n",
       "\n",
       "    .dataframe thead th {\n",
       "        text-align: right;\n",
       "    }\n",
       "</style>\n",
       "<table border=\"1\" class=\"dataframe\">\n",
       "  <thead>\n",
       "    <tr style=\"text-align: right;\">\n",
       "      <th></th>\n",
       "      <th>Crop2014</th>\n",
       "      <th>Acres</th>\n",
       "      <th>FID</th>\n",
       "      <th>geometry</th>\n",
       "      <th>County</th>\n",
       "      <th>PPIC_Regio</th>\n",
       "    </tr>\n",
       "  </thead>\n",
       "  <tbody>\n",
       "    <tr>\n",
       "      <th>0</th>\n",
       "      <td>Grapes</td>\n",
       "      <td>43.474109</td>\n",
       "      <td>0</td>\n",
       "      <td>POLYGON Z ((-13355020.09666443 4407864.0678736...</td>\n",
       "      <td>Fresno</td>\n",
       "      <td>SE</td>\n",
       "    </tr>\n",
       "    <tr>\n",
       "      <th>1</th>\n",
       "      <td>Grapes</td>\n",
       "      <td>93.723265</td>\n",
       "      <td>1</td>\n",
       "      <td>POLYGON Z ((-13331506.86330624 4374173.2907541...</td>\n",
       "      <td>Fresno</td>\n",
       "      <td>SE</td>\n",
       "    </tr>\n",
       "    <tr>\n",
       "      <th>2</th>\n",
       "      <td>Peaches/Nectarines</td>\n",
       "      <td>6.409884</td>\n",
       "      <td>2</td>\n",
       "      <td>POLYGON Z ((-13304207.15885581 4380620.8643907...</td>\n",
       "      <td>Fresno</td>\n",
       "      <td>SE</td>\n",
       "    </tr>\n",
       "    <tr>\n",
       "      <th>3</th>\n",
       "      <td>Grapes</td>\n",
       "      <td>17.461519</td>\n",
       "      <td>3</td>\n",
       "      <td>POLYGON Z ((-13331417.48071155 4381217.4603662...</td>\n",
       "      <td>Fresno</td>\n",
       "      <td>SE</td>\n",
       "    </tr>\n",
       "    <tr>\n",
       "      <th>4</th>\n",
       "      <td>Grapes</td>\n",
       "      <td>9.365854</td>\n",
       "      <td>4</td>\n",
       "      <td>POLYGON Z ((-13339076.40436587 4383454.6129433...</td>\n",
       "      <td>Fresno</td>\n",
       "      <td>SE</td>\n",
       "    </tr>\n",
       "  </tbody>\n",
       "</table>\n",
       "</div>"
      ],
      "text/plain": [
       "             Crop2014      Acres  FID  \\\n",
       "0              Grapes  43.474109    0   \n",
       "1              Grapes  93.723265    1   \n",
       "2  Peaches/Nectarines   6.409884    2   \n",
       "3              Grapes  17.461519    3   \n",
       "4              Grapes   9.365854    4   \n",
       "\n",
       "                                            geometry  County PPIC_Regio  \n",
       "0  POLYGON Z ((-13355020.09666443 4407864.0678736...  Fresno         SE  \n",
       "1  POLYGON Z ((-13331506.86330624 4374173.2907541...  Fresno         SE  \n",
       "2  POLYGON Z ((-13304207.15885581 4380620.8643907...  Fresno         SE  \n",
       "3  POLYGON Z ((-13331417.48071155 4381217.4603662...  Fresno         SE  \n",
       "4  POLYGON Z ((-13339076.40436587 4383454.6129433...  Fresno         SE  "
      ]
     },
     "execution_count": 16,
     "metadata": {},
     "output_type": "execute_result"
    }
   ],
   "source": [
    "fields.head()"
   ]
  },
  {
   "cell_type": "markdown",
   "metadata": {},
   "source": [
    "### Cross-walk crop type to PPIC crop type"
   ]
  },
  {
   "cell_type": "code",
   "execution_count": 17,
   "metadata": {},
   "outputs": [],
   "source": [
    "# Set up a list to track the columns that will be aggregated/optimized for ecosystem service benefits\n",
    "eco_service_cols = np.array([])"
   ]
  },
  {
   "cell_type": "code",
   "execution_count": 18,
   "metadata": {},
   "outputs": [],
   "source": [
    "fields = fields.join(crop_x.set_index('Crop'), on='Crop2014')"
   ]
  },
  {
   "cell_type": "code",
   "execution_count": 19,
   "metadata": {},
   "outputs": [
    {
     "data": {
      "text/html": [
       "<div>\n",
       "<style scoped>\n",
       "    .dataframe tbody tr th:only-of-type {\n",
       "        vertical-align: middle;\n",
       "    }\n",
       "\n",
       "    .dataframe tbody tr th {\n",
       "        vertical-align: top;\n",
       "    }\n",
       "\n",
       "    .dataframe thead th {\n",
       "        text-align: right;\n",
       "    }\n",
       "</style>\n",
       "<table border=\"1\" class=\"dataframe\">\n",
       "  <thead>\n",
       "    <tr style=\"text-align: right;\">\n",
       "      <th></th>\n",
       "      <th>Crop2014</th>\n",
       "      <th>Acres</th>\n",
       "      <th>FID</th>\n",
       "      <th>geometry</th>\n",
       "      <th>County</th>\n",
       "      <th>PPIC_Regio</th>\n",
       "      <th>Crop_PPIC</th>\n",
       "    </tr>\n",
       "  </thead>\n",
       "  <tbody>\n",
       "    <tr>\n",
       "      <th>0</th>\n",
       "      <td>Grapes</td>\n",
       "      <td>43.474109</td>\n",
       "      <td>0</td>\n",
       "      <td>POLYGON Z ((-13355020.09666443 4407864.0678736...</td>\n",
       "      <td>Fresno</td>\n",
       "      <td>SE</td>\n",
       "      <td>trees-vines</td>\n",
       "    </tr>\n",
       "    <tr>\n",
       "      <th>1</th>\n",
       "      <td>Grapes</td>\n",
       "      <td>93.723265</td>\n",
       "      <td>1</td>\n",
       "      <td>POLYGON Z ((-13331506.86330624 4374173.2907541...</td>\n",
       "      <td>Fresno</td>\n",
       "      <td>SE</td>\n",
       "      <td>trees-vines</td>\n",
       "    </tr>\n",
       "    <tr>\n",
       "      <th>2</th>\n",
       "      <td>Peaches/Nectarines</td>\n",
       "      <td>6.409884</td>\n",
       "      <td>2</td>\n",
       "      <td>POLYGON Z ((-13304207.15885581 4380620.8643907...</td>\n",
       "      <td>Fresno</td>\n",
       "      <td>SE</td>\n",
       "      <td>trees-vines</td>\n",
       "    </tr>\n",
       "    <tr>\n",
       "      <th>3</th>\n",
       "      <td>Grapes</td>\n",
       "      <td>17.461519</td>\n",
       "      <td>3</td>\n",
       "      <td>POLYGON Z ((-13331417.48071155 4381217.4603662...</td>\n",
       "      <td>Fresno</td>\n",
       "      <td>SE</td>\n",
       "      <td>trees-vines</td>\n",
       "    </tr>\n",
       "    <tr>\n",
       "      <th>4</th>\n",
       "      <td>Grapes</td>\n",
       "      <td>9.365854</td>\n",
       "      <td>4</td>\n",
       "      <td>POLYGON Z ((-13339076.40436587 4383454.6129433...</td>\n",
       "      <td>Fresno</td>\n",
       "      <td>SE</td>\n",
       "      <td>trees-vines</td>\n",
       "    </tr>\n",
       "  </tbody>\n",
       "</table>\n",
       "</div>"
      ],
      "text/plain": [
       "             Crop2014      Acres  FID  \\\n",
       "0              Grapes  43.474109    0   \n",
       "1              Grapes  93.723265    1   \n",
       "2  Peaches/Nectarines   6.409884    2   \n",
       "3              Grapes  17.461519    3   \n",
       "4              Grapes   9.365854    4   \n",
       "\n",
       "                                            geometry  County PPIC_Regio  \\\n",
       "0  POLYGON Z ((-13355020.09666443 4407864.0678736...  Fresno         SE   \n",
       "1  POLYGON Z ((-13331506.86330624 4374173.2907541...  Fresno         SE   \n",
       "2  POLYGON Z ((-13304207.15885581 4380620.8643907...  Fresno         SE   \n",
       "3  POLYGON Z ((-13331417.48071155 4381217.4603662...  Fresno         SE   \n",
       "4  POLYGON Z ((-13339076.40436587 4383454.6129433...  Fresno         SE   \n",
       "\n",
       "     Crop_PPIC  \n",
       "0  trees-vines  \n",
       "1  trees-vines  \n",
       "2  trees-vines  \n",
       "3  trees-vines  \n",
       "4  trees-vines  "
      ]
     },
     "execution_count": 19,
     "metadata": {},
     "output_type": "execute_result"
    }
   ],
   "source": [
    "fields.head()"
   ]
  },
  {
   "cell_type": "code",
   "execution_count": 20,
   "metadata": {},
   "outputs": [],
   "source": [
    "#fields.to_file('../outputs/temp_fields.shp')"
   ]
  },
  {
   "cell_type": "code",
   "execution_count": 21,
   "metadata": {},
   "outputs": [],
   "source": [
    "#fields = gd.read_file('../outputs/temp_fields.shp')"
   ]
  },
  {
   "cell_type": "markdown",
   "metadata": {},
   "source": [
    "### Calculate Price per Acre"
   ]
  },
  {
   "cell_type": "code",
   "execution_count": 22,
   "metadata": {},
   "outputs": [],
   "source": [
    "fields = fields.join(crop_price.set_index('Crop'), on='Crop2014')"
   ]
  },
  {
   "cell_type": "markdown",
   "metadata": {},
   "source": [
    "#### Calculate FieldCropPrice column\n",
    "Will be used to sort crop types within each PPIC crop type to select lowest revenue crops first when fallowing fields"
   ]
  },
  {
   "cell_type": "code",
   "execution_count": 23,
   "metadata": {},
   "outputs": [],
   "source": [
    "fields['FieldCropPrice'] = round(fields['AdjustedPrice'] * fields['Acres'],2)"
   ]
  },
  {
   "cell_type": "markdown",
   "metadata": {},
   "source": [
    "### Calculate Water Consumption"
   ]
  },
  {
   "cell_type": "code",
   "execution_count": 24,
   "metadata": {},
   "outputs": [],
   "source": [
    "for county in counties:\n",
    "    for crop in crop_water['Crop']:\n",
    "        fields.loc[(fields['County']==county) & (fields['Crop2014']==crop), 'WaterConsumption'] = crop_water.loc[(crop_water['Crop']==crop), f'{county}_AW'].item()\n",
    "        "
   ]
  },
  {
   "cell_type": "code",
   "execution_count": 25,
   "metadata": {},
   "outputs": [
    {
     "data": {
      "text/html": [
       "<div>\n",
       "<style scoped>\n",
       "    .dataframe tbody tr th:only-of-type {\n",
       "        vertical-align: middle;\n",
       "    }\n",
       "\n",
       "    .dataframe tbody tr th {\n",
       "        vertical-align: top;\n",
       "    }\n",
       "\n",
       "    .dataframe thead th {\n",
       "        text-align: right;\n",
       "    }\n",
       "</style>\n",
       "<table border=\"1\" class=\"dataframe\">\n",
       "  <thead>\n",
       "    <tr style=\"text-align: right;\">\n",
       "      <th></th>\n",
       "      <th>Crop2014</th>\n",
       "      <th>Acres</th>\n",
       "      <th>FID</th>\n",
       "      <th>geometry</th>\n",
       "      <th>County</th>\n",
       "      <th>PPIC_Regio</th>\n",
       "      <th>Crop_PPIC</th>\n",
       "      <th>Price</th>\n",
       "      <th>Rotations</th>\n",
       "      <th>AdjustedPrice</th>\n",
       "      <th>FieldCropPrice</th>\n",
       "      <th>WaterConsumption</th>\n",
       "    </tr>\n",
       "  </thead>\n",
       "  <tbody>\n",
       "    <tr>\n",
       "      <th>0</th>\n",
       "      <td>Grapes</td>\n",
       "      <td>43.474109</td>\n",
       "      <td>0</td>\n",
       "      <td>POLYGON Z ((-13355020.09666443 4407864.0678736...</td>\n",
       "      <td>Fresno</td>\n",
       "      <td>SE</td>\n",
       "      <td>trees-vines</td>\n",
       "      <td>15833.67278</td>\n",
       "      <td>1.0</td>\n",
       "      <td>15833.67278</td>\n",
       "      <td>688354.81</td>\n",
       "      <td>2.444929</td>\n",
       "    </tr>\n",
       "    <tr>\n",
       "      <th>1</th>\n",
       "      <td>Grapes</td>\n",
       "      <td>93.723265</td>\n",
       "      <td>1</td>\n",
       "      <td>POLYGON Z ((-13331506.86330624 4374173.2907541...</td>\n",
       "      <td>Fresno</td>\n",
       "      <td>SE</td>\n",
       "      <td>trees-vines</td>\n",
       "      <td>15833.67278</td>\n",
       "      <td>1.0</td>\n",
       "      <td>15833.67278</td>\n",
       "      <td>1483983.52</td>\n",
       "      <td>2.444929</td>\n",
       "    </tr>\n",
       "    <tr>\n",
       "      <th>2</th>\n",
       "      <td>Peaches/Nectarines</td>\n",
       "      <td>6.409884</td>\n",
       "      <td>2</td>\n",
       "      <td>POLYGON Z ((-13304207.15885581 4380620.8643907...</td>\n",
       "      <td>Fresno</td>\n",
       "      <td>SE</td>\n",
       "      <td>trees-vines</td>\n",
       "      <td>15869.78488</td>\n",
       "      <td>1.0</td>\n",
       "      <td>15869.78488</td>\n",
       "      <td>101723.48</td>\n",
       "      <td>3.795877</td>\n",
       "    </tr>\n",
       "    <tr>\n",
       "      <th>3</th>\n",
       "      <td>Grapes</td>\n",
       "      <td>17.461519</td>\n",
       "      <td>3</td>\n",
       "      <td>POLYGON Z ((-13331417.48071155 4381217.4603662...</td>\n",
       "      <td>Fresno</td>\n",
       "      <td>SE</td>\n",
       "      <td>trees-vines</td>\n",
       "      <td>15833.67278</td>\n",
       "      <td>1.0</td>\n",
       "      <td>15833.67278</td>\n",
       "      <td>276479.98</td>\n",
       "      <td>2.444929</td>\n",
       "    </tr>\n",
       "    <tr>\n",
       "      <th>4</th>\n",
       "      <td>Grapes</td>\n",
       "      <td>9.365854</td>\n",
       "      <td>4</td>\n",
       "      <td>POLYGON Z ((-13339076.40436587 4383454.6129433...</td>\n",
       "      <td>Fresno</td>\n",
       "      <td>SE</td>\n",
       "      <td>trees-vines</td>\n",
       "      <td>15833.67278</td>\n",
       "      <td>1.0</td>\n",
       "      <td>15833.67278</td>\n",
       "      <td>148295.87</td>\n",
       "      <td>2.444929</td>\n",
       "    </tr>\n",
       "  </tbody>\n",
       "</table>\n",
       "</div>"
      ],
      "text/plain": [
       "             Crop2014      Acres  FID  \\\n",
       "0              Grapes  43.474109    0   \n",
       "1              Grapes  93.723265    1   \n",
       "2  Peaches/Nectarines   6.409884    2   \n",
       "3              Grapes  17.461519    3   \n",
       "4              Grapes   9.365854    4   \n",
       "\n",
       "                                            geometry  County PPIC_Regio  \\\n",
       "0  POLYGON Z ((-13355020.09666443 4407864.0678736...  Fresno         SE   \n",
       "1  POLYGON Z ((-13331506.86330624 4374173.2907541...  Fresno         SE   \n",
       "2  POLYGON Z ((-13304207.15885581 4380620.8643907...  Fresno         SE   \n",
       "3  POLYGON Z ((-13331417.48071155 4381217.4603662...  Fresno         SE   \n",
       "4  POLYGON Z ((-13339076.40436587 4383454.6129433...  Fresno         SE   \n",
       "\n",
       "     Crop_PPIC        Price  Rotations  AdjustedPrice  FieldCropPrice  \\\n",
       "0  trees-vines  15833.67278        1.0    15833.67278       688354.81   \n",
       "1  trees-vines  15833.67278        1.0    15833.67278      1483983.52   \n",
       "2  trees-vines  15869.78488        1.0    15869.78488       101723.48   \n",
       "3  trees-vines  15833.67278        1.0    15833.67278       276479.98   \n",
       "4  trees-vines  15833.67278        1.0    15833.67278       148295.87   \n",
       "\n",
       "   WaterConsumption  \n",
       "0          2.444929  \n",
       "1          2.444929  \n",
       "2          3.795877  \n",
       "3          2.444929  \n",
       "4          2.444929  "
      ]
     },
     "execution_count": 25,
     "metadata": {},
     "output_type": "execute_result"
    }
   ],
   "source": [
    "fields.head()"
   ]
  },
  {
   "cell_type": "markdown",
   "metadata": {},
   "source": [
    "####  Calculate SavedWater column"
   ]
  },
  {
   "cell_type": "code",
   "execution_count": 26,
   "metadata": {},
   "outputs": [],
   "source": [
    "fields['SavedWater'] = round(fields['WaterConsumption'] * fields['Acres'], 2)"
   ]
  },
  {
   "cell_type": "code",
   "execution_count": 27,
   "metadata": {},
   "outputs": [
    {
     "data": {
      "text/html": [
       "<div>\n",
       "<style scoped>\n",
       "    .dataframe tbody tr th:only-of-type {\n",
       "        vertical-align: middle;\n",
       "    }\n",
       "\n",
       "    .dataframe tbody tr th {\n",
       "        vertical-align: top;\n",
       "    }\n",
       "\n",
       "    .dataframe thead th {\n",
       "        text-align: right;\n",
       "    }\n",
       "</style>\n",
       "<table border=\"1\" class=\"dataframe\">\n",
       "  <thead>\n",
       "    <tr style=\"text-align: right;\">\n",
       "      <th></th>\n",
       "      <th>Crop2014</th>\n",
       "      <th>Acres</th>\n",
       "      <th>FID</th>\n",
       "      <th>geometry</th>\n",
       "      <th>County</th>\n",
       "      <th>PPIC_Regio</th>\n",
       "      <th>Crop_PPIC</th>\n",
       "      <th>Price</th>\n",
       "      <th>Rotations</th>\n",
       "      <th>AdjustedPrice</th>\n",
       "      <th>FieldCropPrice</th>\n",
       "      <th>WaterConsumption</th>\n",
       "      <th>SavedWater</th>\n",
       "    </tr>\n",
       "  </thead>\n",
       "  <tbody>\n",
       "    <tr>\n",
       "      <th>0</th>\n",
       "      <td>Grapes</td>\n",
       "      <td>43.474109</td>\n",
       "      <td>0</td>\n",
       "      <td>POLYGON Z ((-13355020.09666443 4407864.0678736...</td>\n",
       "      <td>Fresno</td>\n",
       "      <td>SE</td>\n",
       "      <td>trees-vines</td>\n",
       "      <td>15833.67278</td>\n",
       "      <td>1.0</td>\n",
       "      <td>15833.67278</td>\n",
       "      <td>688354.81</td>\n",
       "      <td>2.444929</td>\n",
       "      <td>106.29</td>\n",
       "    </tr>\n",
       "    <tr>\n",
       "      <th>1</th>\n",
       "      <td>Grapes</td>\n",
       "      <td>93.723265</td>\n",
       "      <td>1</td>\n",
       "      <td>POLYGON Z ((-13331506.86330624 4374173.2907541...</td>\n",
       "      <td>Fresno</td>\n",
       "      <td>SE</td>\n",
       "      <td>trees-vines</td>\n",
       "      <td>15833.67278</td>\n",
       "      <td>1.0</td>\n",
       "      <td>15833.67278</td>\n",
       "      <td>1483983.52</td>\n",
       "      <td>2.444929</td>\n",
       "      <td>229.15</td>\n",
       "    </tr>\n",
       "    <tr>\n",
       "      <th>2</th>\n",
       "      <td>Peaches/Nectarines</td>\n",
       "      <td>6.409884</td>\n",
       "      <td>2</td>\n",
       "      <td>POLYGON Z ((-13304207.15885581 4380620.8643907...</td>\n",
       "      <td>Fresno</td>\n",
       "      <td>SE</td>\n",
       "      <td>trees-vines</td>\n",
       "      <td>15869.78488</td>\n",
       "      <td>1.0</td>\n",
       "      <td>15869.78488</td>\n",
       "      <td>101723.48</td>\n",
       "      <td>3.795877</td>\n",
       "      <td>24.33</td>\n",
       "    </tr>\n",
       "    <tr>\n",
       "      <th>3</th>\n",
       "      <td>Grapes</td>\n",
       "      <td>17.461519</td>\n",
       "      <td>3</td>\n",
       "      <td>POLYGON Z ((-13331417.48071155 4381217.4603662...</td>\n",
       "      <td>Fresno</td>\n",
       "      <td>SE</td>\n",
       "      <td>trees-vines</td>\n",
       "      <td>15833.67278</td>\n",
       "      <td>1.0</td>\n",
       "      <td>15833.67278</td>\n",
       "      <td>276479.98</td>\n",
       "      <td>2.444929</td>\n",
       "      <td>42.69</td>\n",
       "    </tr>\n",
       "    <tr>\n",
       "      <th>4</th>\n",
       "      <td>Grapes</td>\n",
       "      <td>9.365854</td>\n",
       "      <td>4</td>\n",
       "      <td>POLYGON Z ((-13339076.40436587 4383454.6129433...</td>\n",
       "      <td>Fresno</td>\n",
       "      <td>SE</td>\n",
       "      <td>trees-vines</td>\n",
       "      <td>15833.67278</td>\n",
       "      <td>1.0</td>\n",
       "      <td>15833.67278</td>\n",
       "      <td>148295.87</td>\n",
       "      <td>2.444929</td>\n",
       "      <td>22.90</td>\n",
       "    </tr>\n",
       "  </tbody>\n",
       "</table>\n",
       "</div>"
      ],
      "text/plain": [
       "             Crop2014      Acres  FID  \\\n",
       "0              Grapes  43.474109    0   \n",
       "1              Grapes  93.723265    1   \n",
       "2  Peaches/Nectarines   6.409884    2   \n",
       "3              Grapes  17.461519    3   \n",
       "4              Grapes   9.365854    4   \n",
       "\n",
       "                                            geometry  County PPIC_Regio  \\\n",
       "0  POLYGON Z ((-13355020.09666443 4407864.0678736...  Fresno         SE   \n",
       "1  POLYGON Z ((-13331506.86330624 4374173.2907541...  Fresno         SE   \n",
       "2  POLYGON Z ((-13304207.15885581 4380620.8643907...  Fresno         SE   \n",
       "3  POLYGON Z ((-13331417.48071155 4381217.4603662...  Fresno         SE   \n",
       "4  POLYGON Z ((-13339076.40436587 4383454.6129433...  Fresno         SE   \n",
       "\n",
       "     Crop_PPIC        Price  Rotations  AdjustedPrice  FieldCropPrice  \\\n",
       "0  trees-vines  15833.67278        1.0    15833.67278       688354.81   \n",
       "1  trees-vines  15833.67278        1.0    15833.67278      1483983.52   \n",
       "2  trees-vines  15869.78488        1.0    15869.78488       101723.48   \n",
       "3  trees-vines  15833.67278        1.0    15833.67278       276479.98   \n",
       "4  trees-vines  15833.67278        1.0    15833.67278       148295.87   \n",
       "\n",
       "   WaterConsumption  SavedWater  \n",
       "0          2.444929      106.29  \n",
       "1          2.444929      229.15  \n",
       "2          3.795877       24.33  \n",
       "3          2.444929       42.69  \n",
       "4          2.444929       22.90  "
      ]
     },
     "execution_count": 27,
     "metadata": {},
     "output_type": "execute_result"
    }
   ],
   "source": [
    "fields.head()"
   ]
  },
  {
   "cell_type": "markdown",
   "metadata": {},
   "source": [
    "#### Normalize SavedWater"
   ]
  },
  {
   "cell_type": "code",
   "execution_count": 28,
   "metadata": {},
   "outputs": [
    {
     "data": {
      "text/html": [
       "<div>\n",
       "<style scoped>\n",
       "    .dataframe tbody tr th:only-of-type {\n",
       "        vertical-align: middle;\n",
       "    }\n",
       "\n",
       "    .dataframe tbody tr th {\n",
       "        vertical-align: top;\n",
       "    }\n",
       "\n",
       "    .dataframe thead th {\n",
       "        text-align: right;\n",
       "    }\n",
       "</style>\n",
       "<table border=\"1\" class=\"dataframe\">\n",
       "  <thead>\n",
       "    <tr style=\"text-align: right;\">\n",
       "      <th></th>\n",
       "      <th>Crop2014</th>\n",
       "      <th>Acres</th>\n",
       "      <th>FID</th>\n",
       "      <th>geometry</th>\n",
       "      <th>County</th>\n",
       "      <th>PPIC_Regio</th>\n",
       "      <th>Crop_PPIC</th>\n",
       "      <th>Price</th>\n",
       "      <th>Rotations</th>\n",
       "      <th>AdjustedPrice</th>\n",
       "      <th>FieldCropPrice</th>\n",
       "      <th>WaterConsumption</th>\n",
       "      <th>SavedWater</th>\n",
       "      <th>SavedWater_Norm</th>\n",
       "    </tr>\n",
       "  </thead>\n",
       "  <tbody>\n",
       "    <tr>\n",
       "      <th>0</th>\n",
       "      <td>Grapes</td>\n",
       "      <td>43.474109</td>\n",
       "      <td>0</td>\n",
       "      <td>POLYGON Z ((-13355020.09666443 4407864.0678736...</td>\n",
       "      <td>Fresno</td>\n",
       "      <td>SE</td>\n",
       "      <td>trees-vines</td>\n",
       "      <td>15833.67278</td>\n",
       "      <td>1.0</td>\n",
       "      <td>15833.67278</td>\n",
       "      <td>688354.81</td>\n",
       "      <td>2.444929</td>\n",
       "      <td>106.29</td>\n",
       "      <td>5.037369</td>\n",
       "    </tr>\n",
       "    <tr>\n",
       "      <th>1</th>\n",
       "      <td>Grapes</td>\n",
       "      <td>93.723265</td>\n",
       "      <td>1</td>\n",
       "      <td>POLYGON Z ((-13331506.86330624 4374173.2907541...</td>\n",
       "      <td>Fresno</td>\n",
       "      <td>SE</td>\n",
       "      <td>trees-vines</td>\n",
       "      <td>15833.67278</td>\n",
       "      <td>1.0</td>\n",
       "      <td>15833.67278</td>\n",
       "      <td>1483983.52</td>\n",
       "      <td>2.444929</td>\n",
       "      <td>229.15</td>\n",
       "      <td>10.860035</td>\n",
       "    </tr>\n",
       "    <tr>\n",
       "      <th>2</th>\n",
       "      <td>Peaches/Nectarines</td>\n",
       "      <td>6.409884</td>\n",
       "      <td>2</td>\n",
       "      <td>POLYGON Z ((-13304207.15885581 4380620.8643907...</td>\n",
       "      <td>Fresno</td>\n",
       "      <td>SE</td>\n",
       "      <td>trees-vines</td>\n",
       "      <td>15869.78488</td>\n",
       "      <td>1.0</td>\n",
       "      <td>15869.78488</td>\n",
       "      <td>101723.48</td>\n",
       "      <td>3.795877</td>\n",
       "      <td>24.33</td>\n",
       "      <td>1.153064</td>\n",
       "    </tr>\n",
       "    <tr>\n",
       "      <th>3</th>\n",
       "      <td>Grapes</td>\n",
       "      <td>17.461519</td>\n",
       "      <td>3</td>\n",
       "      <td>POLYGON Z ((-13331417.48071155 4381217.4603662...</td>\n",
       "      <td>Fresno</td>\n",
       "      <td>SE</td>\n",
       "      <td>trees-vines</td>\n",
       "      <td>15833.67278</td>\n",
       "      <td>1.0</td>\n",
       "      <td>15833.67278</td>\n",
       "      <td>276479.98</td>\n",
       "      <td>2.444929</td>\n",
       "      <td>42.69</td>\n",
       "      <td>2.023194</td>\n",
       "    </tr>\n",
       "    <tr>\n",
       "      <th>4</th>\n",
       "      <td>Grapes</td>\n",
       "      <td>9.365854</td>\n",
       "      <td>4</td>\n",
       "      <td>POLYGON Z ((-13339076.40436587 4383454.6129433...</td>\n",
       "      <td>Fresno</td>\n",
       "      <td>SE</td>\n",
       "      <td>trees-vines</td>\n",
       "      <td>15833.67278</td>\n",
       "      <td>1.0</td>\n",
       "      <td>15833.67278</td>\n",
       "      <td>148295.87</td>\n",
       "      <td>2.444929</td>\n",
       "      <td>22.90</td>\n",
       "      <td>1.085293</td>\n",
       "    </tr>\n",
       "  </tbody>\n",
       "</table>\n",
       "</div>"
      ],
      "text/plain": [
       "             Crop2014      Acres  FID  \\\n",
       "0              Grapes  43.474109    0   \n",
       "1              Grapes  93.723265    1   \n",
       "2  Peaches/Nectarines   6.409884    2   \n",
       "3              Grapes  17.461519    3   \n",
       "4              Grapes   9.365854    4   \n",
       "\n",
       "                                            geometry  County PPIC_Regio  \\\n",
       "0  POLYGON Z ((-13355020.09666443 4407864.0678736...  Fresno         SE   \n",
       "1  POLYGON Z ((-13331506.86330624 4374173.2907541...  Fresno         SE   \n",
       "2  POLYGON Z ((-13304207.15885581 4380620.8643907...  Fresno         SE   \n",
       "3  POLYGON Z ((-13331417.48071155 4381217.4603662...  Fresno         SE   \n",
       "4  POLYGON Z ((-13339076.40436587 4383454.6129433...  Fresno         SE   \n",
       "\n",
       "     Crop_PPIC        Price  Rotations  AdjustedPrice  FieldCropPrice  \\\n",
       "0  trees-vines  15833.67278        1.0    15833.67278       688354.81   \n",
       "1  trees-vines  15833.67278        1.0    15833.67278      1483983.52   \n",
       "2  trees-vines  15869.78488        1.0    15869.78488       101723.48   \n",
       "3  trees-vines  15833.67278        1.0    15833.67278       276479.98   \n",
       "4  trees-vines  15833.67278        1.0    15833.67278       148295.87   \n",
       "\n",
       "   WaterConsumption  SavedWater  SavedWater_Norm  \n",
       "0          2.444929      106.29         5.037369  \n",
       "1          2.444929      229.15        10.860035  \n",
       "2          3.795877       24.33         1.153064  \n",
       "3          2.444929       42.69         2.023194  \n",
       "4          2.444929       22.90         1.085293  "
      ]
     },
     "execution_count": 28,
     "metadata": {},
     "output_type": "execute_result"
    }
   ],
   "source": [
    "norm_columns = ['SavedWater']\n",
    "for column in norm_columns:\n",
    "    new_col = str(column + '_Norm')\n",
    "    fields[new_col] = fields[column] / fields[column].max() * 100\n",
    "    eco_service_cols = np.append(eco_service_cols, column)\n",
    "fields.head()"
   ]
  },
  {
   "cell_type": "markdown",
   "metadata": {},
   "source": [
    "### Join Conservation Factor Table"
   ]
  },
  {
   "cell_type": "code",
   "execution_count": 29,
   "metadata": {},
   "outputs": [],
   "source": [
    "fields = fields.join(df.set_index(['County', 'FID']), on=['County', 'FID'])"
   ]
  },
  {
   "cell_type": "code",
   "execution_count": 30,
   "metadata": {},
   "outputs": [
    {
     "data": {
      "text/plain": [
       "array(['SavedWater', 'TNC', 'Krat', 'Kitfox', 'Corridors', 'CPAD'],\n",
       "      dtype=object)"
      ]
     },
     "execution_count": 30,
     "metadata": {},
     "output_type": "execute_result"
    }
   ],
   "source": [
    "eco_service_cols = np.append(eco_service_cols, df.columns.values[1:-1]) #Exclude FID and County\n",
    "eco_service_cols"
   ]
  },
  {
   "cell_type": "markdown",
   "metadata": {},
   "source": [
    "#### Calculate area-weighted ecosystem service values"
   ]
  },
  {
   "cell_type": "code",
   "execution_count": 31,
   "metadata": {},
   "outputs": [],
   "source": [
    "for eco_service in eco_service_cols[1:]: # exclude Saved Water\n",
    "    new_col = f'{eco_service}_Total'\n",
    "    fields[new_col] = fields[eco_service] / 100 * fields['Acres']"
   ]
  },
  {
   "cell_type": "code",
   "execution_count": 32,
   "metadata": {},
   "outputs": [
    {
     "data": {
      "text/html": [
       "<div>\n",
       "<style scoped>\n",
       "    .dataframe tbody tr th:only-of-type {\n",
       "        vertical-align: middle;\n",
       "    }\n",
       "\n",
       "    .dataframe tbody tr th {\n",
       "        vertical-align: top;\n",
       "    }\n",
       "\n",
       "    .dataframe thead th {\n",
       "        text-align: right;\n",
       "    }\n",
       "</style>\n",
       "<table border=\"1\" class=\"dataframe\">\n",
       "  <thead>\n",
       "    <tr style=\"text-align: right;\">\n",
       "      <th></th>\n",
       "      <th>Crop2014</th>\n",
       "      <th>Acres</th>\n",
       "      <th>FID</th>\n",
       "      <th>geometry</th>\n",
       "      <th>County</th>\n",
       "      <th>PPIC_Regio</th>\n",
       "      <th>Crop_PPIC</th>\n",
       "      <th>Price</th>\n",
       "      <th>Rotations</th>\n",
       "      <th>AdjustedPrice</th>\n",
       "      <th>...</th>\n",
       "      <th>TNC</th>\n",
       "      <th>Krat</th>\n",
       "      <th>Kitfox</th>\n",
       "      <th>Corridors</th>\n",
       "      <th>CPAD</th>\n",
       "      <th>TNC_Total</th>\n",
       "      <th>Krat_Total</th>\n",
       "      <th>Kitfox_Total</th>\n",
       "      <th>Corridors_Total</th>\n",
       "      <th>CPAD_Total</th>\n",
       "    </tr>\n",
       "  </thead>\n",
       "  <tbody>\n",
       "    <tr>\n",
       "      <th>0</th>\n",
       "      <td>Grapes</td>\n",
       "      <td>43.474109</td>\n",
       "      <td>0</td>\n",
       "      <td>POLYGON Z ((-13355020.09666443 4407864.0678736...</td>\n",
       "      <td>Fresno</td>\n",
       "      <td>SE</td>\n",
       "      <td>trees-vines</td>\n",
       "      <td>15833.67278</td>\n",
       "      <td>1.0</td>\n",
       "      <td>15833.67278</td>\n",
       "      <td>...</td>\n",
       "      <td>0.0</td>\n",
       "      <td>0.0</td>\n",
       "      <td>0.0</td>\n",
       "      <td>0.0</td>\n",
       "      <td>0.0</td>\n",
       "      <td>0.0</td>\n",
       "      <td>0.0</td>\n",
       "      <td>0.0</td>\n",
       "      <td>0.0</td>\n",
       "      <td>0.0</td>\n",
       "    </tr>\n",
       "    <tr>\n",
       "      <th>1</th>\n",
       "      <td>Grapes</td>\n",
       "      <td>93.723265</td>\n",
       "      <td>1</td>\n",
       "      <td>POLYGON Z ((-13331506.86330624 4374173.2907541...</td>\n",
       "      <td>Fresno</td>\n",
       "      <td>SE</td>\n",
       "      <td>trees-vines</td>\n",
       "      <td>15833.67278</td>\n",
       "      <td>1.0</td>\n",
       "      <td>15833.67278</td>\n",
       "      <td>...</td>\n",
       "      <td>0.0</td>\n",
       "      <td>0.0</td>\n",
       "      <td>0.0</td>\n",
       "      <td>0.0</td>\n",
       "      <td>0.0</td>\n",
       "      <td>0.0</td>\n",
       "      <td>0.0</td>\n",
       "      <td>0.0</td>\n",
       "      <td>0.0</td>\n",
       "      <td>0.0</td>\n",
       "    </tr>\n",
       "    <tr>\n",
       "      <th>2</th>\n",
       "      <td>Peaches/Nectarines</td>\n",
       "      <td>6.409884</td>\n",
       "      <td>2</td>\n",
       "      <td>POLYGON Z ((-13304207.15885581 4380620.8643907...</td>\n",
       "      <td>Fresno</td>\n",
       "      <td>SE</td>\n",
       "      <td>trees-vines</td>\n",
       "      <td>15869.78488</td>\n",
       "      <td>1.0</td>\n",
       "      <td>15869.78488</td>\n",
       "      <td>...</td>\n",
       "      <td>0.0</td>\n",
       "      <td>0.0</td>\n",
       "      <td>0.0</td>\n",
       "      <td>0.0</td>\n",
       "      <td>0.0</td>\n",
       "      <td>0.0</td>\n",
       "      <td>0.0</td>\n",
       "      <td>0.0</td>\n",
       "      <td>0.0</td>\n",
       "      <td>0.0</td>\n",
       "    </tr>\n",
       "    <tr>\n",
       "      <th>3</th>\n",
       "      <td>Grapes</td>\n",
       "      <td>17.461519</td>\n",
       "      <td>3</td>\n",
       "      <td>POLYGON Z ((-13331417.48071155 4381217.4603662...</td>\n",
       "      <td>Fresno</td>\n",
       "      <td>SE</td>\n",
       "      <td>trees-vines</td>\n",
       "      <td>15833.67278</td>\n",
       "      <td>1.0</td>\n",
       "      <td>15833.67278</td>\n",
       "      <td>...</td>\n",
       "      <td>0.0</td>\n",
       "      <td>0.0</td>\n",
       "      <td>0.0</td>\n",
       "      <td>0.0</td>\n",
       "      <td>0.0</td>\n",
       "      <td>0.0</td>\n",
       "      <td>0.0</td>\n",
       "      <td>0.0</td>\n",
       "      <td>0.0</td>\n",
       "      <td>0.0</td>\n",
       "    </tr>\n",
       "    <tr>\n",
       "      <th>4</th>\n",
       "      <td>Grapes</td>\n",
       "      <td>9.365854</td>\n",
       "      <td>4</td>\n",
       "      <td>POLYGON Z ((-13339076.40436587 4383454.6129433...</td>\n",
       "      <td>Fresno</td>\n",
       "      <td>SE</td>\n",
       "      <td>trees-vines</td>\n",
       "      <td>15833.67278</td>\n",
       "      <td>1.0</td>\n",
       "      <td>15833.67278</td>\n",
       "      <td>...</td>\n",
       "      <td>0.0</td>\n",
       "      <td>0.0</td>\n",
       "      <td>0.0</td>\n",
       "      <td>0.0</td>\n",
       "      <td>0.0</td>\n",
       "      <td>0.0</td>\n",
       "      <td>0.0</td>\n",
       "      <td>0.0</td>\n",
       "      <td>0.0</td>\n",
       "      <td>0.0</td>\n",
       "    </tr>\n",
       "  </tbody>\n",
       "</table>\n",
       "<p>5 rows × 24 columns</p>\n",
       "</div>"
      ],
      "text/plain": [
       "             Crop2014      Acres  FID  \\\n",
       "0              Grapes  43.474109    0   \n",
       "1              Grapes  93.723265    1   \n",
       "2  Peaches/Nectarines   6.409884    2   \n",
       "3              Grapes  17.461519    3   \n",
       "4              Grapes   9.365854    4   \n",
       "\n",
       "                                            geometry  County PPIC_Regio  \\\n",
       "0  POLYGON Z ((-13355020.09666443 4407864.0678736...  Fresno         SE   \n",
       "1  POLYGON Z ((-13331506.86330624 4374173.2907541...  Fresno         SE   \n",
       "2  POLYGON Z ((-13304207.15885581 4380620.8643907...  Fresno         SE   \n",
       "3  POLYGON Z ((-13331417.48071155 4381217.4603662...  Fresno         SE   \n",
       "4  POLYGON Z ((-13339076.40436587 4383454.6129433...  Fresno         SE   \n",
       "\n",
       "     Crop_PPIC        Price  Rotations  AdjustedPrice  ...  TNC  Krat  Kitfox  \\\n",
       "0  trees-vines  15833.67278        1.0    15833.67278  ...  0.0   0.0     0.0   \n",
       "1  trees-vines  15833.67278        1.0    15833.67278  ...  0.0   0.0     0.0   \n",
       "2  trees-vines  15869.78488        1.0    15869.78488  ...  0.0   0.0     0.0   \n",
       "3  trees-vines  15833.67278        1.0    15833.67278  ...  0.0   0.0     0.0   \n",
       "4  trees-vines  15833.67278        1.0    15833.67278  ...  0.0   0.0     0.0   \n",
       "\n",
       "   Corridors  CPAD  TNC_Total  Krat_Total  Kitfox_Total  Corridors_Total  \\\n",
       "0        0.0   0.0        0.0         0.0           0.0              0.0   \n",
       "1        0.0   0.0        0.0         0.0           0.0              0.0   \n",
       "2        0.0   0.0        0.0         0.0           0.0              0.0   \n",
       "3        0.0   0.0        0.0         0.0           0.0              0.0   \n",
       "4        0.0   0.0        0.0         0.0           0.0              0.0   \n",
       "\n",
       "   CPAD_Total  \n",
       "0         0.0  \n",
       "1         0.0  \n",
       "2         0.0  \n",
       "3         0.0  \n",
       "4         0.0  \n",
       "\n",
       "[5 rows x 24 columns]"
      ]
     },
     "execution_count": 32,
     "metadata": {},
     "output_type": "execute_result"
    }
   ],
   "source": [
    "fields.head()"
   ]
  },
  {
   "cell_type": "code",
   "execution_count": 33,
   "metadata": {},
   "outputs": [],
   "source": [
    "fields.to_file(out_shp)"
   ]
  },
  {
   "cell_type": "code",
   "execution_count": 34,
   "metadata": {},
   "outputs": [
    {
     "data": {
      "text/plain": [
       "Index(['Crop2014', 'Acres', 'FID', 'geometry', 'County', 'PPIC_Regio',\n",
       "       'Crop_PPIC', 'Price', 'Rotations', 'AdjustedPrice', 'FieldCropPrice',\n",
       "       'WaterConsumption', 'SavedWater', 'SavedWater_Norm', 'TNC', 'Krat',\n",
       "       'Kitfox', 'Corridors', 'CPAD', 'TNC_Total', 'Krat_Total',\n",
       "       'Kitfox_Total', 'Corridors_Total', 'CPAD_Total'],\n",
       "      dtype='object')"
      ]
     },
     "execution_count": 34,
     "metadata": {},
     "output_type": "execute_result"
    }
   ],
   "source": [
    "fields.columns"
   ]
  },
  {
   "cell_type": "markdown",
   "metadata": {},
   "source": [
    "## Explore results "
   ]
  },
  {
   "cell_type": "markdown",
   "metadata": {},
   "source": [
    "#### Compare inputs to PPIC report\n",
    "|Region|Land <br>(1,000s acres) <br>|Applied Water<br>(1,000s of acre-ft)<br>|Revenue <br>(2010 $, millions)<br>|\n",
    "|:----:|:-------------:|:-----------------:|:----------------:|\n",
    "|KR    |827           |2,958              |3,948|\n",
    "|SE    |1,134         |3,662              |5,930|\n",
    "|SW    |1,112         |3,177              |3,917|"
   ]
  },
  {
   "cell_type": "code",
   "execution_count": 35,
   "metadata": {},
   "outputs": [
    {
     "name": "stdout",
     "output_type": "stream",
     "text": [
      "$17,975,027,885.17 in annual revenue\n"
     ]
    }
   ],
   "source": [
    "total_revenue = fields['FieldCropPrice'].sum()\n",
    "print (f'${total_revenue:,.2f} in annual revenue')"
   ]
  },
  {
   "cell_type": "code",
   "execution_count": 36,
   "metadata": {},
   "outputs": [
    {
     "name": "stdout",
     "output_type": "stream",
     "text": [
      "3,280,532 acres of cropland\n"
     ]
    }
   ],
   "source": [
    "cropland = fields['Acres'].sum()\n",
    "print(f'{cropland:,.0f} acres of cropland')"
   ]
  },
  {
   "cell_type": "code",
   "execution_count": 37,
   "metadata": {},
   "outputs": [],
   "source": [
    "applied_water = fields['SavedWater'].sum()\n",
    "applied_water_s = (f'{applied_water:,.0f} acre-feet of applied water')"
   ]
  },
  {
   "cell_type": "markdown",
   "metadata": {
    "variables": {
     "applied_water_s": "6,473,002 acre-feet of applied water"
    }
   },
   "source": [
    "This example {{applied_water_s}} should work"
   ]
  },
  {
   "cell_type": "code",
   "execution_count": 38,
   "metadata": {
    "scrolled": true
   },
   "outputs": [
    {
     "ename": "NameError",
     "evalue": "name 'region_code' is not defined",
     "output_type": "error",
     "traceback": [
      "\u001b[1;31m---------------------------------------------------------------------------\u001b[0m",
      "\u001b[1;31mNameError\u001b[0m                                 Traceback (most recent call last)",
      "\u001b[1;32m<ipython-input-38-940c5e7661a0>\u001b[0m in \u001b[0;36m<module>\u001b[1;34m\u001b[0m\n\u001b[1;32m----> 1\u001b[1;33m \u001b[0mpd\u001b[0m\u001b[1;33m.\u001b[0m\u001b[0mDataFrame\u001b[0m\u001b[1;33m(\u001b[0m\u001b[1;33m{\u001b[0m\u001b[1;34m'Region'\u001b[0m\u001b[1;33m:\u001b[0m \u001b[1;33m[\u001b[0m\u001b[0mregion_code\u001b[0m\u001b[1;33m]\u001b[0m\u001b[1;33m,\u001b[0m \u001b[1;34m'Land'\u001b[0m\u001b[1;33m:\u001b[0m\u001b[1;33m[\u001b[0m\u001b[1;34mf'{cropland:,.0f}'\u001b[0m\u001b[1;33m]\u001b[0m\u001b[1;33m,\u001b[0m \u001b[1;34m'Water'\u001b[0m\u001b[1;33m:\u001b[0m\u001b[1;33m[\u001b[0m\u001b[1;34mf'{applied_water:,.0f}'\u001b[0m\u001b[1;33m]\u001b[0m\u001b[1;33m,\u001b[0m \u001b[1;34m'Revenue'\u001b[0m\u001b[1;33m:\u001b[0m\u001b[1;33m[\u001b[0m\u001b[1;34mf'${total_revenue:,.0f}'\u001b[0m\u001b[1;33m]\u001b[0m\u001b[1;33m}\u001b[0m\u001b[1;33m)\u001b[0m\u001b[1;33m\u001b[0m\u001b[1;33m\u001b[0m\u001b[0m\n\u001b[0m",
      "\u001b[1;31mNameError\u001b[0m: name 'region_code' is not defined"
     ]
    }
   ],
   "source": [
    "pd.DataFrame({'Region': [region_code], 'Land':[f'{cropland:,.0f}'], 'Water':[f'{applied_water:,.0f}'], 'Revenue':[f'${total_revenue:,.0f}']})"
   ]
  }
 ],
 "metadata": {
  "kernelspec": {
   "display_name": "Python 3",
   "language": "python",
   "name": "python3"
  },
  "language_info": {
   "codemirror_mode": {
    "name": "ipython",
    "version": 3
   },
   "file_extension": ".py",
   "mimetype": "text/x-python",
   "name": "python",
   "nbconvert_exporter": "python",
   "pygments_lexer": "ipython3",
   "version": "3.6.8"
  }
 },
 "nbformat": 4,
 "nbformat_minor": 2
}
