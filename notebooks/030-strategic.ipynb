{
 "cells": [
  {
   "cell_type": "markdown",
   "metadata": {},
   "source": [
    "# Optimized Outcomes\n"
   ]
  },
  {
   "cell_type": "markdown",
   "metadata": {},
   "source": [
    "This section of the notebook calculates the optimal outcome for ecosystem services produced by fallowed land to meet SGMA targets by ranking parcels within each crop type by a weighted average ecosystem services metric and selecting the top ranked parcels by crop type to meet fallowing targets set by the [PPIC.](https://www.ppic.org/publication/water-and-the-future-of-the-san-joaquin-valley/) \n",
    "\n",
    "Weights may be adjusted before running the notebook. By default, all ecosystem services are equally weighted."
   ]
  },
  {
   "cell_type": "code",
   "execution_count": 1,
   "metadata": {},
   "outputs": [],
   "source": [
    "region_code = 'KR'"
   ]
  },
  {
   "cell_type": "code",
   "execution_count": 2,
   "metadata": {},
   "outputs": [],
   "source": [
    "import pandas as pd\n",
    "import numpy as np\n",
    "from collections import OrderedDict\n",
    "import matplotlib.pyplot as plt\n",
    "import seaborn as sns"
   ]
  },
  {
   "cell_type": "code",
   "execution_count": 3,
   "metadata": {},
   "outputs": [],
   "source": [
    "# Input from 010-data-prep\n",
    "df = pd.read_csv('../outputs/df_' + region_code +'.csv')"
   ]
  },
  {
   "cell_type": "code",
   "execution_count": 4,
   "metadata": {},
   "outputs": [],
   "source": [
    "# Path to output, use as input to future notebooks\n",
    "outname = '../outputs/' + 'optimal_' + region_code +'.csv'"
   ]
  },
  {
   "cell_type": "code",
   "execution_count": 5,
   "metadata": {},
   "outputs": [
    {
     "data": {
      "text/html": [
       "<div>\n",
       "<style scoped>\n",
       "    .dataframe tbody tr th:only-of-type {\n",
       "        vertical-align: middle;\n",
       "    }\n",
       "\n",
       "    .dataframe tbody tr th {\n",
       "        vertical-align: top;\n",
       "    }\n",
       "\n",
       "    .dataframe thead th {\n",
       "        text-align: right;\n",
       "    }\n",
       "</style>\n",
       "<table border=\"1\" class=\"dataframe\">\n",
       "  <thead>\n",
       "    <tr style=\"text-align: right;\">\n",
       "      <th></th>\n",
       "      <th>Unnamed: 0</th>\n",
       "      <th>FID</th>\n",
       "      <th>Area</th>\n",
       "      <th>Crop</th>\n",
       "      <th>FieldCropPrice</th>\n",
       "      <th>SavedWater</th>\n",
       "      <th>Recharge</th>\n",
       "      <th>Kitfox</th>\n",
       "      <th>TiptonKRat</th>\n",
       "      <th>GiantGarterSnake</th>\n",
       "      <th>...</th>\n",
       "      <th>TiptonKRat_Total</th>\n",
       "      <th>GiantGarterSnake_Total</th>\n",
       "      <th>TNC_Total</th>\n",
       "      <th>HabCorridors_Total</th>\n",
       "      <th>ConservationAreas_Total</th>\n",
       "      <th>ImpBirdAreas_Total</th>\n",
       "      <th>Nitrate_Total</th>\n",
       "      <th>ModSAGBI_Total</th>\n",
       "      <th>Prox2Wetlands_Total</th>\n",
       "      <th>Depth2GroundWater_Norm_Total</th>\n",
       "    </tr>\n",
       "  </thead>\n",
       "  <tbody>\n",
       "    <tr>\n",
       "      <th>0</th>\n",
       "      <td>0</td>\n",
       "      <td>45</td>\n",
       "      <td>70.791382</td>\n",
       "      <td>AlfalfaandAlfalfaMixtures</td>\n",
       "      <td>78836.822440</td>\n",
       "      <td>359.620220</td>\n",
       "      <td>12283.604020</td>\n",
       "      <td>100.0</td>\n",
       "      <td>100.0</td>\n",
       "      <td>0.0</td>\n",
       "      <td>...</td>\n",
       "      <td>70.791382</td>\n",
       "      <td>0.000000</td>\n",
       "      <td>66.543899</td>\n",
       "      <td>0.00000</td>\n",
       "      <td>70.791382</td>\n",
       "      <td>0.000000</td>\n",
       "      <td>0.000000</td>\n",
       "      <td>29.732380</td>\n",
       "      <td>0.000000</td>\n",
       "      <td>70.791382</td>\n",
       "    </tr>\n",
       "    <tr>\n",
       "      <th>1</th>\n",
       "      <td>1</td>\n",
       "      <td>72</td>\n",
       "      <td>81.343317</td>\n",
       "      <td>AlfalfaandAlfalfaMixtures</td>\n",
       "      <td>90587.985160</td>\n",
       "      <td>413.224051</td>\n",
       "      <td>1975.754272</td>\n",
       "      <td>100.0</td>\n",
       "      <td>100.0</td>\n",
       "      <td>100.0</td>\n",
       "      <td>...</td>\n",
       "      <td>81.343317</td>\n",
       "      <td>81.343317</td>\n",
       "      <td>0.000000</td>\n",
       "      <td>0.00000</td>\n",
       "      <td>81.343317</td>\n",
       "      <td>0.000000</td>\n",
       "      <td>81.343317</td>\n",
       "      <td>0.000000</td>\n",
       "      <td>81.343317</td>\n",
       "      <td>20.335829</td>\n",
       "    </tr>\n",
       "    <tr>\n",
       "      <th>2</th>\n",
       "      <td>2</td>\n",
       "      <td>91</td>\n",
       "      <td>28.286742</td>\n",
       "      <td>AlfalfaandAlfalfaMixtures</td>\n",
       "      <td>31501.529700</td>\n",
       "      <td>143.696647</td>\n",
       "      <td>3311.302980</td>\n",
       "      <td>100.0</td>\n",
       "      <td>100.0</td>\n",
       "      <td>0.0</td>\n",
       "      <td>...</td>\n",
       "      <td>28.286742</td>\n",
       "      <td>0.000000</td>\n",
       "      <td>0.000000</td>\n",
       "      <td>0.00000</td>\n",
       "      <td>13.011901</td>\n",
       "      <td>25.740935</td>\n",
       "      <td>26.400959</td>\n",
       "      <td>27.721007</td>\n",
       "      <td>0.000000</td>\n",
       "      <td>28.286742</td>\n",
       "    </tr>\n",
       "    <tr>\n",
       "      <th>3</th>\n",
       "      <td>3</td>\n",
       "      <td>116</td>\n",
       "      <td>6.073612</td>\n",
       "      <td>AlfalfaandAlfalfaMixtures</td>\n",
       "      <td>6763.878538</td>\n",
       "      <td>30.853951</td>\n",
       "      <td>417.364790</td>\n",
       "      <td>100.0</td>\n",
       "      <td>100.0</td>\n",
       "      <td>0.0</td>\n",
       "      <td>...</td>\n",
       "      <td>6.073612</td>\n",
       "      <td>0.000000</td>\n",
       "      <td>0.000000</td>\n",
       "      <td>0.00000</td>\n",
       "      <td>6.073612</td>\n",
       "      <td>0.000000</td>\n",
       "      <td>5.061344</td>\n",
       "      <td>4.585577</td>\n",
       "      <td>0.000000</td>\n",
       "      <td>3.492327</td>\n",
       "    </tr>\n",
       "    <tr>\n",
       "      <th>4</th>\n",
       "      <td>4</td>\n",
       "      <td>143</td>\n",
       "      <td>97.932855</td>\n",
       "      <td>AlfalfaandAlfalfaMixtures</td>\n",
       "      <td>109062.924200</td>\n",
       "      <td>497.498904</td>\n",
       "      <td>11437.290070</td>\n",
       "      <td>100.0</td>\n",
       "      <td>100.0</td>\n",
       "      <td>4.0</td>\n",
       "      <td>...</td>\n",
       "      <td>97.932855</td>\n",
       "      <td>3.917314</td>\n",
       "      <td>0.000000</td>\n",
       "      <td>81.28427</td>\n",
       "      <td>97.932855</td>\n",
       "      <td>0.000000</td>\n",
       "      <td>0.000000</td>\n",
       "      <td>94.994870</td>\n",
       "      <td>97.932855</td>\n",
       "      <td>97.932855</td>\n",
       "    </tr>\n",
       "  </tbody>\n",
       "</table>\n",
       "<p>5 rows × 34 columns</p>\n",
       "</div>"
      ],
      "text/plain": [
       "   Unnamed: 0  FID       Area                       Crop  FieldCropPrice  \\\n",
       "0           0   45  70.791382  AlfalfaandAlfalfaMixtures    78836.822440   \n",
       "1           1   72  81.343317  AlfalfaandAlfalfaMixtures    90587.985160   \n",
       "2           2   91  28.286742  AlfalfaandAlfalfaMixtures    31501.529700   \n",
       "3           3  116   6.073612  AlfalfaandAlfalfaMixtures     6763.878538   \n",
       "4           4  143  97.932855  AlfalfaandAlfalfaMixtures   109062.924200   \n",
       "\n",
       "   SavedWater      Recharge  Kitfox  TiptonKRat  GiantGarterSnake  ...  \\\n",
       "0  359.620220  12283.604020   100.0       100.0               0.0  ...   \n",
       "1  413.224051   1975.754272   100.0       100.0             100.0  ...   \n",
       "2  143.696647   3311.302980   100.0       100.0               0.0  ...   \n",
       "3   30.853951    417.364790   100.0       100.0               0.0  ...   \n",
       "4  497.498904  11437.290070   100.0       100.0               4.0  ...   \n",
       "\n",
       "   TiptonKRat_Total  GiantGarterSnake_Total  TNC_Total  HabCorridors_Total  \\\n",
       "0         70.791382                0.000000  66.543899             0.00000   \n",
       "1         81.343317               81.343317   0.000000             0.00000   \n",
       "2         28.286742                0.000000   0.000000             0.00000   \n",
       "3          6.073612                0.000000   0.000000             0.00000   \n",
       "4         97.932855                3.917314   0.000000            81.28427   \n",
       "\n",
       "   ConservationAreas_Total  ImpBirdAreas_Total  Nitrate_Total  ModSAGBI_Total  \\\n",
       "0                70.791382            0.000000       0.000000       29.732380   \n",
       "1                81.343317            0.000000      81.343317        0.000000   \n",
       "2                13.011901           25.740935      26.400959       27.721007   \n",
       "3                 6.073612            0.000000       5.061344        4.585577   \n",
       "4                97.932855            0.000000       0.000000       94.994870   \n",
       "\n",
       "  Prox2Wetlands_Total  Depth2GroundWater_Norm_Total  \n",
       "0            0.000000                     70.791382  \n",
       "1           81.343317                     20.335829  \n",
       "2            0.000000                     28.286742  \n",
       "3            0.000000                      3.492327  \n",
       "4           97.932855                     97.932855  \n",
       "\n",
       "[5 rows x 34 columns]"
      ]
     },
     "execution_count": 5,
     "metadata": {},
     "output_type": "execute_result"
    }
   ],
   "source": [
    "df.head()"
   ]
  },
  {
   "cell_type": "code",
   "execution_count": 6,
   "metadata": {},
   "outputs": [],
   "source": [
    "eco_services = ['SavedWater_Norm', 'Recharge_Norm', 'Kitfox',\n",
    "                'TiptonKRat', 'GiantGarterSnake', 'TNC', 'HabCorridors',\n",
    "                'ConservationAreas', 'ImpBirdAreas', 'Nitrate', 'ModSAGBI',\n",
    "                'Prox2Wetlands', 'Depth2GroundWater_Norm']\n",
    "crop_types = "
   ]
  },
  {
   "cell_type": "code",
   "execution_count": 7,
   "metadata": {},
   "outputs": [],
   "source": [
    "# Create weights table with equal weights\n",
    "# weight_vals = [1/len(eco_services)] * len(eco_services)\n",
    "# out = OrderedDict(list(zip(eco_services, weight_vals)))\n",
    "# out_df = pd.DataFrame(weight_vals, index = eco_services, columns = ['weights'])\n",
    "# out_df.to_csv('../data/weights.csv')"
   ]
  },
  {
   "cell_type": "code",
   "execution_count": 8,
   "metadata": {},
   "outputs": [
    {
     "data": {
      "text/html": [
       "<div>\n",
       "<style scoped>\n",
       "    .dataframe tbody tr th:only-of-type {\n",
       "        vertical-align: middle;\n",
       "    }\n",
       "\n",
       "    .dataframe tbody tr th {\n",
       "        vertical-align: top;\n",
       "    }\n",
       "\n",
       "    .dataframe thead th {\n",
       "        text-align: right;\n",
       "    }\n",
       "</style>\n",
       "<table border=\"1\" class=\"dataframe\">\n",
       "  <thead>\n",
       "    <tr style=\"text-align: right;\">\n",
       "      <th></th>\n",
       "      <th>weights</th>\n",
       "    </tr>\n",
       "  </thead>\n",
       "  <tbody>\n",
       "    <tr>\n",
       "      <th>SavedWater_Norm</th>\n",
       "      <td>0.0</td>\n",
       "    </tr>\n",
       "    <tr>\n",
       "      <th>Recharge_Norm</th>\n",
       "      <td>0.0</td>\n",
       "    </tr>\n",
       "    <tr>\n",
       "      <th>Kitfox</th>\n",
       "      <td>0.2</td>\n",
       "    </tr>\n",
       "    <tr>\n",
       "      <th>TiptonKRat</th>\n",
       "      <td>0.2</td>\n",
       "    </tr>\n",
       "    <tr>\n",
       "      <th>GiantGarterSnake</th>\n",
       "      <td>0.0</td>\n",
       "    </tr>\n",
       "    <tr>\n",
       "      <th>TNC</th>\n",
       "      <td>0.2</td>\n",
       "    </tr>\n",
       "    <tr>\n",
       "      <th>HabCorridors</th>\n",
       "      <td>0.2</td>\n",
       "    </tr>\n",
       "    <tr>\n",
       "      <th>ConservationAreas</th>\n",
       "      <td>0.2</td>\n",
       "    </tr>\n",
       "    <tr>\n",
       "      <th>ImpBirdAreas</th>\n",
       "      <td>0.0</td>\n",
       "    </tr>\n",
       "    <tr>\n",
       "      <th>Nitrate</th>\n",
       "      <td>0.0</td>\n",
       "    </tr>\n",
       "    <tr>\n",
       "      <th>ModSAGBI</th>\n",
       "      <td>0.0</td>\n",
       "    </tr>\n",
       "    <tr>\n",
       "      <th>Prox2Wetlands</th>\n",
       "      <td>0.0</td>\n",
       "    </tr>\n",
       "    <tr>\n",
       "      <th>Depth2GroundWater_Norm</th>\n",
       "      <td>0.0</td>\n",
       "    </tr>\n",
       "  </tbody>\n",
       "</table>\n",
       "</div>"
      ],
      "text/plain": [
       "                        weights\n",
       "SavedWater_Norm             0.0\n",
       "Recharge_Norm               0.0\n",
       "Kitfox                      0.2\n",
       "TiptonKRat                  0.2\n",
       "GiantGarterSnake            0.0\n",
       "TNC                         0.2\n",
       "HabCorridors                0.2\n",
       "ConservationAreas           0.2\n",
       "ImpBirdAreas                0.0\n",
       "Nitrate                     0.0\n",
       "ModSAGBI                    0.0\n",
       "Prox2Wetlands               0.0\n",
       "Depth2GroundWater_Norm      0.0"
      ]
     },
     "execution_count": 8,
     "metadata": {},
     "output_type": "execute_result"
    }
   ],
   "source": [
    "weight_table = pd.read_csv('../data/weights.csv', index_col=0)\n",
    "weight_table"
   ]
  },
  {
   "cell_type": "code",
   "execution_count": 9,
   "metadata": {},
   "outputs": [
    {
     "data": {
      "text/plain": [
       "array([0. , 0. , 0.2, 0.2, 0. , 0.2, 0.2, 0.2, 0. , 0. , 0. , 0. , 0. ])"
      ]
     },
     "execution_count": 9,
     "metadata": {},
     "output_type": "execute_result"
    }
   ],
   "source": [
    "weights = np.array(weight_table['weights'])\n",
    "weights"
   ]
  },
  {
   "cell_type": "code",
   "execution_count": 10,
   "metadata": {},
   "outputs": [
    {
     "data": {
      "text/plain": [
       "True"
      ]
     },
     "execution_count": 10,
     "metadata": {},
     "output_type": "execute_result"
    }
   ],
   "source": [
    "weights.shape[0] == df[eco_services].shape[1]"
   ]
  },
  {
   "cell_type": "code",
   "execution_count": 11,
   "metadata": {},
   "outputs": [
    {
     "data": {
      "text/plain": [
       "array([ True,  True,  True,  True,  True,  True,  True,  True,  True,\n",
       "        True,  True,  True,  True])"
      ]
     },
     "execution_count": 11,
     "metadata": {},
     "output_type": "execute_result"
    }
   ],
   "source": [
    "weight_table.index.values == df[eco_services].columns.values"
   ]
  },
  {
   "cell_type": "code",
   "execution_count": 12,
   "metadata": {},
   "outputs": [
    {
     "data": {
      "text/html": [
       "<div>\n",
       "<style scoped>\n",
       "    .dataframe tbody tr th:only-of-type {\n",
       "        vertical-align: middle;\n",
       "    }\n",
       "\n",
       "    .dataframe tbody tr th {\n",
       "        vertical-align: top;\n",
       "    }\n",
       "\n",
       "    .dataframe thead th {\n",
       "        text-align: right;\n",
       "    }\n",
       "</style>\n",
       "<table border=\"1\" class=\"dataframe\">\n",
       "  <thead>\n",
       "    <tr style=\"text-align: right;\">\n",
       "      <th></th>\n",
       "      <th>Unnamed: 0</th>\n",
       "      <th>FID</th>\n",
       "      <th>Area</th>\n",
       "      <th>Crop</th>\n",
       "      <th>FieldCropPrice</th>\n",
       "      <th>SavedWater</th>\n",
       "      <th>Recharge</th>\n",
       "      <th>Kitfox</th>\n",
       "      <th>TiptonKRat</th>\n",
       "      <th>GiantGarterSnake</th>\n",
       "      <th>...</th>\n",
       "      <th>GiantGarterSnake_Total</th>\n",
       "      <th>TNC_Total</th>\n",
       "      <th>HabCorridors_Total</th>\n",
       "      <th>ConservationAreas_Total</th>\n",
       "      <th>ImpBirdAreas_Total</th>\n",
       "      <th>Nitrate_Total</th>\n",
       "      <th>ModSAGBI_Total</th>\n",
       "      <th>Prox2Wetlands_Total</th>\n",
       "      <th>Depth2GroundWater_Norm_Total</th>\n",
       "      <th>outcome</th>\n",
       "    </tr>\n",
       "  </thead>\n",
       "  <tbody>\n",
       "    <tr>\n",
       "      <th>0</th>\n",
       "      <td>0</td>\n",
       "      <td>45</td>\n",
       "      <td>70.791382</td>\n",
       "      <td>AlfalfaandAlfalfaMixtures</td>\n",
       "      <td>78836.822440</td>\n",
       "      <td>359.620220</td>\n",
       "      <td>12283.604020</td>\n",
       "      <td>100.0</td>\n",
       "      <td>100.0</td>\n",
       "      <td>0.0</td>\n",
       "      <td>...</td>\n",
       "      <td>0.000000</td>\n",
       "      <td>66.543899</td>\n",
       "      <td>0.00000</td>\n",
       "      <td>70.791382</td>\n",
       "      <td>0.000000</td>\n",
       "      <td>0.000000</td>\n",
       "      <td>29.732380</td>\n",
       "      <td>0.000000</td>\n",
       "      <td>70.791382</td>\n",
       "      <td>78.8</td>\n",
       "    </tr>\n",
       "    <tr>\n",
       "      <th>1</th>\n",
       "      <td>1</td>\n",
       "      <td>72</td>\n",
       "      <td>81.343317</td>\n",
       "      <td>AlfalfaandAlfalfaMixtures</td>\n",
       "      <td>90587.985160</td>\n",
       "      <td>413.224051</td>\n",
       "      <td>1975.754272</td>\n",
       "      <td>100.0</td>\n",
       "      <td>100.0</td>\n",
       "      <td>100.0</td>\n",
       "      <td>...</td>\n",
       "      <td>81.343317</td>\n",
       "      <td>0.000000</td>\n",
       "      <td>0.00000</td>\n",
       "      <td>81.343317</td>\n",
       "      <td>0.000000</td>\n",
       "      <td>81.343317</td>\n",
       "      <td>0.000000</td>\n",
       "      <td>81.343317</td>\n",
       "      <td>20.335829</td>\n",
       "      <td>60.0</td>\n",
       "    </tr>\n",
       "    <tr>\n",
       "      <th>2</th>\n",
       "      <td>2</td>\n",
       "      <td>91</td>\n",
       "      <td>28.286742</td>\n",
       "      <td>AlfalfaandAlfalfaMixtures</td>\n",
       "      <td>31501.529700</td>\n",
       "      <td>143.696647</td>\n",
       "      <td>3311.302980</td>\n",
       "      <td>100.0</td>\n",
       "      <td>100.0</td>\n",
       "      <td>0.0</td>\n",
       "      <td>...</td>\n",
       "      <td>0.000000</td>\n",
       "      <td>0.000000</td>\n",
       "      <td>0.00000</td>\n",
       "      <td>13.011901</td>\n",
       "      <td>25.740935</td>\n",
       "      <td>26.400959</td>\n",
       "      <td>27.721007</td>\n",
       "      <td>0.000000</td>\n",
       "      <td>28.286742</td>\n",
       "      <td>49.2</td>\n",
       "    </tr>\n",
       "    <tr>\n",
       "      <th>3</th>\n",
       "      <td>3</td>\n",
       "      <td>116</td>\n",
       "      <td>6.073612</td>\n",
       "      <td>AlfalfaandAlfalfaMixtures</td>\n",
       "      <td>6763.878538</td>\n",
       "      <td>30.853951</td>\n",
       "      <td>417.364790</td>\n",
       "      <td>100.0</td>\n",
       "      <td>100.0</td>\n",
       "      <td>0.0</td>\n",
       "      <td>...</td>\n",
       "      <td>0.000000</td>\n",
       "      <td>0.000000</td>\n",
       "      <td>0.00000</td>\n",
       "      <td>6.073612</td>\n",
       "      <td>0.000000</td>\n",
       "      <td>5.061344</td>\n",
       "      <td>4.585577</td>\n",
       "      <td>0.000000</td>\n",
       "      <td>3.492327</td>\n",
       "      <td>60.0</td>\n",
       "    </tr>\n",
       "    <tr>\n",
       "      <th>4</th>\n",
       "      <td>4</td>\n",
       "      <td>143</td>\n",
       "      <td>97.932855</td>\n",
       "      <td>AlfalfaandAlfalfaMixtures</td>\n",
       "      <td>109062.924200</td>\n",
       "      <td>497.498904</td>\n",
       "      <td>11437.290070</td>\n",
       "      <td>100.0</td>\n",
       "      <td>100.0</td>\n",
       "      <td>4.0</td>\n",
       "      <td>...</td>\n",
       "      <td>3.917314</td>\n",
       "      <td>0.000000</td>\n",
       "      <td>81.28427</td>\n",
       "      <td>97.932855</td>\n",
       "      <td>0.000000</td>\n",
       "      <td>0.000000</td>\n",
       "      <td>94.994870</td>\n",
       "      <td>97.932855</td>\n",
       "      <td>97.932855</td>\n",
       "      <td>76.6</td>\n",
       "    </tr>\n",
       "  </tbody>\n",
       "</table>\n",
       "<p>5 rows × 35 columns</p>\n",
       "</div>"
      ],
      "text/plain": [
       "   Unnamed: 0  FID       Area                       Crop  FieldCropPrice  \\\n",
       "0           0   45  70.791382  AlfalfaandAlfalfaMixtures    78836.822440   \n",
       "1           1   72  81.343317  AlfalfaandAlfalfaMixtures    90587.985160   \n",
       "2           2   91  28.286742  AlfalfaandAlfalfaMixtures    31501.529700   \n",
       "3           3  116   6.073612  AlfalfaandAlfalfaMixtures     6763.878538   \n",
       "4           4  143  97.932855  AlfalfaandAlfalfaMixtures   109062.924200   \n",
       "\n",
       "   SavedWater      Recharge  Kitfox  TiptonKRat  GiantGarterSnake  ...  \\\n",
       "0  359.620220  12283.604020   100.0       100.0               0.0  ...   \n",
       "1  413.224051   1975.754272   100.0       100.0             100.0  ...   \n",
       "2  143.696647   3311.302980   100.0       100.0               0.0  ...   \n",
       "3   30.853951    417.364790   100.0       100.0               0.0  ...   \n",
       "4  497.498904  11437.290070   100.0       100.0               4.0  ...   \n",
       "\n",
       "   GiantGarterSnake_Total  TNC_Total  HabCorridors_Total  \\\n",
       "0                0.000000  66.543899             0.00000   \n",
       "1               81.343317   0.000000             0.00000   \n",
       "2                0.000000   0.000000             0.00000   \n",
       "3                0.000000   0.000000             0.00000   \n",
       "4                3.917314   0.000000            81.28427   \n",
       "\n",
       "   ConservationAreas_Total  ImpBirdAreas_Total  Nitrate_Total  ModSAGBI_Total  \\\n",
       "0                70.791382            0.000000       0.000000       29.732380   \n",
       "1                81.343317            0.000000      81.343317        0.000000   \n",
       "2                13.011901           25.740935      26.400959       27.721007   \n",
       "3                 6.073612            0.000000       5.061344        4.585577   \n",
       "4                97.932855            0.000000       0.000000       94.994870   \n",
       "\n",
       "   Prox2Wetlands_Total Depth2GroundWater_Norm_Total  outcome  \n",
       "0             0.000000                    70.791382     78.8  \n",
       "1            81.343317                    20.335829     60.0  \n",
       "2             0.000000                    28.286742     49.2  \n",
       "3             0.000000                     3.492327     60.0  \n",
       "4            97.932855                    97.932855     76.6  \n",
       "\n",
       "[5 rows x 35 columns]"
      ]
     },
     "execution_count": 12,
     "metadata": {},
     "output_type": "execute_result"
    }
   ],
   "source": [
    "df['outcome'] = pd.Series(np.average(df[eco_services], weights=weights, axis=1))\n",
    "df.head()"
   ]
  },
  {
   "cell_type": "code",
   "execution_count": 13,
   "metadata": {},
   "outputs": [
    {
     "ename": "NameError",
     "evalue": "name 'crop_types' is not defined",
     "output_type": "error",
     "traceback": [
      "\u001b[1;31m---------------------------------------------------------------------------\u001b[0m",
      "\u001b[1;31mNameError\u001b[0m                                 Traceback (most recent call last)",
      "\u001b[1;32m<ipython-input-13-b484a52a2d2f>\u001b[0m in \u001b[0;36m<module>\u001b[1;34m\u001b[0m\n\u001b[0;32m      1\u001b[0m \u001b[0mdf_optimal\u001b[0m \u001b[1;33m=\u001b[0m \u001b[0mpd\u001b[0m\u001b[1;33m.\u001b[0m\u001b[0mDataFrame\u001b[0m\u001b[1;33m(\u001b[0m\u001b[0mcolumns\u001b[0m\u001b[1;33m=\u001b[0m\u001b[0mdf\u001b[0m\u001b[1;33m.\u001b[0m\u001b[0mcolumns\u001b[0m\u001b[1;33m)\u001b[0m\u001b[1;33m\u001b[0m\u001b[1;33m\u001b[0m\u001b[0m\n\u001b[1;32m----> 2\u001b[1;33m \u001b[1;32mfor\u001b[0m \u001b[0mcrop\u001b[0m \u001b[1;32min\u001b[0m \u001b[0mcrop_types\u001b[0m\u001b[1;33m:\u001b[0m\u001b[1;33m\u001b[0m\u001b[1;33m\u001b[0m\u001b[0m\n\u001b[0m\u001b[0;32m      3\u001b[0m     \u001b[0mdf_crop\u001b[0m \u001b[1;33m=\u001b[0m \u001b[0mdf\u001b[0m\u001b[1;33m[\u001b[0m\u001b[0mdf\u001b[0m\u001b[1;33m[\u001b[0m\u001b[1;34m'Crop_PPIC'\u001b[0m\u001b[1;33m]\u001b[0m \u001b[1;33m==\u001b[0m \u001b[0mcrop\u001b[0m\u001b[1;33m]\u001b[0m\u001b[1;33m\u001b[0m\u001b[1;33m\u001b[0m\u001b[0m\n\u001b[0;32m      4\u001b[0m     \u001b[0mtarget\u001b[0m \u001b[1;33m=\u001b[0m \u001b[0mtargets\u001b[0m\u001b[1;33m.\u001b[0m\u001b[0mloc\u001b[0m\u001b[1;33m[\u001b[0m\u001b[0mregion\u001b[0m\u001b[1;33m,\u001b[0m \u001b[0mcrop\u001b[0m\u001b[1;33m]\u001b[0m\u001b[1;33m\u001b[0m\u001b[1;33m\u001b[0m\u001b[0m\n\u001b[0;32m      5\u001b[0m     \u001b[0mdf_crop_sorted\u001b[0m \u001b[1;33m=\u001b[0m \u001b[0mdf_crop\u001b[0m\u001b[1;33m.\u001b[0m\u001b[0msort_values\u001b[0m\u001b[1;33m(\u001b[0m\u001b[1;33m[\u001b[0m\u001b[1;34m'PricePerAcre'\u001b[0m\u001b[1;33m,\u001b[0m\u001b[1;34m'outcome'\u001b[0m\u001b[1;33m]\u001b[0m\u001b[1;33m,\u001b[0m \u001b[0mascending\u001b[0m\u001b[1;33m=\u001b[0m\u001b[1;33m[\u001b[0m\u001b[1;32mTrue\u001b[0m\u001b[1;33m,\u001b[0m\u001b[1;32mFalse\u001b[0m\u001b[1;33m]\u001b[0m\u001b[1;33m)\u001b[0m\u001b[1;33m\u001b[0m\u001b[1;33m\u001b[0m\u001b[0m\n",
      "\u001b[1;31mNameError\u001b[0m: name 'crop_types' is not defined"
     ]
    }
   ],
   "source": [
    "df_optimal = pd.DataFrame(columns=df.columns)\n",
    "for crop in crop_types:\n",
    "    df_crop = df[df['Crop_PPIC'] == crop]\n",
    "    target = targets.loc[region, crop]\n",
    "    df_crop_sorted = df_crop.sort_values(['PricePerAcre','outcome'], ascending=[True,False])\n",
    "    # Identify fields up to target\n",
    "    df_fallow_bool = df_crop_sorted['Area'].cumsum() < target\n",
    "    # Get one additional field by updating value from False to True where \n",
    "    # first instance of False is located\n",
    "    if not df_fallow_bool[df_fallow_bool!=True].empty:\n",
    "        index = df_fallow_bool[df_fallow_bool!=True].index[0]\n",
    "        df_fallow_bool.at[index]=True        \n",
    "    df_crop_fallow = df_crop_sorted[df_fallow_bool]\n",
    "    df_optimal = df_optimal.append(df_crop_fallow, ignore_index=True)\n",
    "outcomes = pd.DataFrame(df_optimal[outcome_cols].sum()).T\n",
    "areas = df_optimal[['Area','Crop_PPIC']].groupby('Crop_PPIC').sum().T\n",
    "areas.reset_index(drop=True, inplace=True)\n",
    "output = pd.concat([outcomes, areas], axis=1, sort=False)"
   ]
  },
  {
   "cell_type": "code",
   "execution_count": null,
   "metadata": {},
   "outputs": [],
   "source": [
    "df_optimal.head(10)"
   ]
  },
  {
   "cell_type": "code",
   "execution_count": null,
   "metadata": {},
   "outputs": [],
   "source": [
    "df_optimal.to_csv(out_name)"
   ]
  },
  {
   "cell_type": "code",
   "execution_count": null,
   "metadata": {
    "scrolled": true
   },
   "outputs": [],
   "source": [
    "plot_cols = outcome_cols[:1] + outcome_cols[2:] #Exclude FieldCropPrice\n",
    "optimal = df_optimal[plot_cols].sum()\n",
    "as_usual = trials[plot_cols].mean()\n",
    "pct_chg = (optimal - as_usual)/as_usual\n",
    "sns.barplot(x = pct_chg, y = df_optimal[plot_cols].columns)"
   ]
  },
  {
   "cell_type": "code",
   "execution_count": null,
   "metadata": {},
   "outputs": [],
   "source": [
    "optimal_cost = df_optimal['FieldCropPrice'].sum()\n",
    "print(f'${optimal_cost.sum():,.2f}')"
   ]
  },
  {
   "cell_type": "code",
   "execution_count": null,
   "metadata": {},
   "outputs": [],
   "source": [
    "average_cost = trials['FieldCropPrice'].mean()\n",
    "print(f'${average_cost:,.2f}')"
   ]
  },
  {
   "cell_type": "code",
   "execution_count": null,
   "metadata": {},
   "outputs": [],
   "source": [
    "cost = df_optimal['FieldCropPrice'].sum() - trials['FieldCropPrice'].mean()\n",
    "print (f'The cost of this optimization is ${cost:,.0f}')"
   ]
  },
  {
   "cell_type": "code",
   "execution_count": null,
   "metadata": {},
   "outputs": [],
   "source": [
    "for crop in crop_types:\n",
    "    area_diff = df_optimal[df_optimal['Crop_PPIC']==crop]['Area'].sum() - trials[crop].mean()\n",
    "    print (f'{area_diff:,.2f} acres of {crop}')"
   ]
  },
  {
   "cell_type": "code",
   "execution_count": null,
   "metadata": {},
   "outputs": [],
   "source": [
    "df.columns"
   ]
  },
  {
   "cell_type": "code",
   "execution_count": null,
   "metadata": {},
   "outputs": [],
   "source": [
    "sns.regplot(y=df_optimal['outcome'], x=df_optimal['PricePerAcre'])"
   ]
  },
  {
   "cell_type": "code",
   "execution_count": null,
   "metadata": {},
   "outputs": [],
   "source": [
    "sns.distplot(trials['FieldCropPrice'], rug=True)\n",
    "plt.axvline(x = df_optimal['FieldCropPrice'].sum(), color='red')\n",
    "plt.axvline(x = trials['FieldCropPrice'].mean())\n",
    "sns.despine()"
   ]
  },
  {
   "cell_type": "code",
   "execution_count": null,
   "metadata": {},
   "outputs": [],
   "source": [
    "sns.distplot(df.dropna(subset=['outcome'])['outcome'])"
   ]
  },
  {
   "cell_type": "code",
   "execution_count": null,
   "metadata": {},
   "outputs": [],
   "source": [
    "sns.distplot(df_optimal.dropna(subset=['outcome'])['outcome'])"
   ]
  },
  {
   "cell_type": "code",
   "execution_count": null,
   "metadata": {},
   "outputs": [],
   "source": [
    "sub_crops = df['Crop'].unique()\n",
    "sub_crops"
   ]
  },
  {
   "cell_type": "code",
   "execution_count": null,
   "metadata": {},
   "outputs": [],
   "source": [
    "len(sub_crops)"
   ]
  },
  {
   "cell_type": "code",
   "execution_count": null,
   "metadata": {},
   "outputs": [],
   "source": [
    "data = df_optimal[df_optimal['Crop']=='AlfalfaandAlfalfaMixtures']\n",
    "x = data['PricePerAcre']\n",
    "y = data['outcome']"
   ]
  },
  {
   "cell_type": "code",
   "execution_count": null,
   "metadata": {},
   "outputs": [],
   "source": [
    "df_by_crop = df_optimal.groupby(['Crop']).mean()\n",
    "df_by_crop"
   ]
  },
  {
   "cell_type": "code",
   "execution_count": null,
   "metadata": {},
   "outputs": [],
   "source": [
    "crop_mean_outcome = df_optimal['outcome'].mean()\n",
    "sns.barplot(data=df_optimal, x='outcome', y='Crop', estimator = (lambda x: np.mean(x)-crop_mean_outcome), ci=90)"
   ]
  },
  {
   "cell_type": "markdown",
   "metadata": {},
   "source": [
    "# Mapping"
   ]
  },
  {
   "cell_type": "code",
   "execution_count": null,
   "metadata": {},
   "outputs": [],
   "source": [
    "import geopandas as gpd"
   ]
  },
  {
   "cell_type": "code",
   "execution_count": null,
   "metadata": {},
   "outputs": [],
   "source": [
    "fields = gpd.read_file('kern.json')"
   ]
  },
  {
   "cell_type": "code",
   "execution_count": null,
   "metadata": {},
   "outputs": [],
   "source": [
    "fields_to_map = fields.set_index('FID_1').join(df_optimal.set_index('FID'), how='inner')"
   ]
  },
  {
   "cell_type": "code",
   "execution_count": null,
   "metadata": {},
   "outputs": [],
   "source": [
    "plt.rcParams[\"figure.figsize\"] = (20,10)"
   ]
  },
  {
   "cell_type": "code",
   "execution_count": null,
   "metadata": {},
   "outputs": [],
   "source": [
    "base = fields.plot(color = 'grey')\n",
    "fields_to_map.plot(ax=base, column='outcome', cmap='plasma', legend=True)"
   ]
  },
  {
   "cell_type": "code",
   "execution_count": null,
   "metadata": {},
   "outputs": [],
   "source": []
  },
  {
   "cell_type": "code",
   "execution_count": null,
   "metadata": {},
   "outputs": [],
   "source": []
  }
 ],
 "metadata": {
  "kernelspec": {
   "display_name": "Python 3",
   "language": "python",
   "name": "python3"
  },
  "language_info": {
   "codemirror_mode": {
    "name": "ipython",
    "version": 3
   },
   "file_extension": ".py",
   "mimetype": "text/x-python",
   "name": "python",
   "nbconvert_exporter": "python",
   "pygments_lexer": "ipython3",
   "version": "3.6.8"
  }
 },
 "nbformat": 4,
 "nbformat_minor": 2
}
