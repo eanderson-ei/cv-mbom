{
 "cells": [
  {
   "cell_type": "code",
   "execution_count": 2,
   "metadata": {},
   "outputs": [],
   "source": [
    "import pandas as pd\n",
    "import numpy as np\n",
    "import matplotlib.pyplot as plt\n",
    "import seaborn as sns\n",
    "sns.set_style(\"white\")"
   ]
  },
  {
   "cell_type": "markdown",
   "metadata": {},
   "source": [
    "## Kern County"
   ]
  },
  {
   "cell_type": "markdown",
   "metadata": {},
   "source": [
    "### Read in data"
   ]
  },
  {
   "cell_type": "code",
   "execution_count": 3,
   "metadata": {},
   "outputs": [
    {
     "data": {
      "text/html": [
       "<div>\n",
       "<style scoped>\n",
       "    .dataframe tbody tr th:only-of-type {\n",
       "        vertical-align: middle;\n",
       "    }\n",
       "\n",
       "    .dataframe tbody tr th {\n",
       "        vertical-align: top;\n",
       "    }\n",
       "\n",
       "    .dataframe thead th {\n",
       "        text-align: right;\n",
       "    }\n",
       "</style>\n",
       "<table border=\"1\" class=\"dataframe\">\n",
       "  <thead>\n",
       "    <tr style=\"text-align: right;\">\n",
       "      <th></th>\n",
       "      <th>FID</th>\n",
       "      <th>Area</th>\n",
       "      <th>Crop</th>\n",
       "      <th>CropX</th>\n",
       "      <th>FieldCropPrice</th>\n",
       "      <th>PricePerAcre</th>\n",
       "      <th>SavedWater</th>\n",
       "      <th>Recharge</th>\n",
       "      <th>Kitfox</th>\n",
       "      <th>KitfoxAcres</th>\n",
       "      <th>...</th>\n",
       "      <th>GiantGarterSnake</th>\n",
       "      <th>GGSAcres</th>\n",
       "      <th>TNC</th>\n",
       "      <th>HabCorridors</th>\n",
       "      <th>ConservationAreas</th>\n",
       "      <th>ImpBirdAreas</th>\n",
       "      <th>Nitrate</th>\n",
       "      <th>ModSAGBI</th>\n",
       "      <th>Prox2Wetlands</th>\n",
       "      <th>Depth2GroundWater</th>\n",
       "    </tr>\n",
       "  </thead>\n",
       "  <tbody>\n",
       "    <tr>\n",
       "      <th>0</th>\n",
       "      <td>45</td>\n",
       "      <td>70.791382</td>\n",
       "      <td>AlfalfaandAlfalfaMixtures</td>\n",
       "      <td>alfalfa-pasture</td>\n",
       "      <td>78836.822442</td>\n",
       "      <td>1113.65</td>\n",
       "      <td>359.620220</td>\n",
       "      <td>12283.604016</td>\n",
       "      <td>100.0</td>\n",
       "      <td>70.791382</td>\n",
       "      <td>...</td>\n",
       "      <td>0.0</td>\n",
       "      <td>0.000000</td>\n",
       "      <td>94.0</td>\n",
       "      <td>0.0</td>\n",
       "      <td>100.0</td>\n",
       "      <td>0.0</td>\n",
       "      <td>0.000000</td>\n",
       "      <td>42.0</td>\n",
       "      <td>0.0</td>\n",
       "      <td>20.0</td>\n",
       "    </tr>\n",
       "    <tr>\n",
       "      <th>1</th>\n",
       "      <td>72</td>\n",
       "      <td>81.343317</td>\n",
       "      <td>AlfalfaandAlfalfaMixtures</td>\n",
       "      <td>alfalfa-pasture</td>\n",
       "      <td>90587.985155</td>\n",
       "      <td>1113.65</td>\n",
       "      <td>413.224051</td>\n",
       "      <td>1975.754272</td>\n",
       "      <td>100.0</td>\n",
       "      <td>81.343317</td>\n",
       "      <td>...</td>\n",
       "      <td>100.0</td>\n",
       "      <td>81.343317</td>\n",
       "      <td>0.0</td>\n",
       "      <td>0.0</td>\n",
       "      <td>100.0</td>\n",
       "      <td>0.0</td>\n",
       "      <td>100.000000</td>\n",
       "      <td>0.0</td>\n",
       "      <td>100.0</td>\n",
       "      <td>5.0</td>\n",
       "    </tr>\n",
       "    <tr>\n",
       "      <th>2</th>\n",
       "      <td>91</td>\n",
       "      <td>28.286742</td>\n",
       "      <td>AlfalfaandAlfalfaMixtures</td>\n",
       "      <td>alfalfa-pasture</td>\n",
       "      <td>31501.529705</td>\n",
       "      <td>1113.65</td>\n",
       "      <td>143.696647</td>\n",
       "      <td>3311.302980</td>\n",
       "      <td>100.0</td>\n",
       "      <td>28.286742</td>\n",
       "      <td>...</td>\n",
       "      <td>0.0</td>\n",
       "      <td>0.000000</td>\n",
       "      <td>0.0</td>\n",
       "      <td>0.0</td>\n",
       "      <td>46.0</td>\n",
       "      <td>91.0</td>\n",
       "      <td>93.333333</td>\n",
       "      <td>98.0</td>\n",
       "      <td>0.0</td>\n",
       "      <td>20.0</td>\n",
       "    </tr>\n",
       "    <tr>\n",
       "      <th>3</th>\n",
       "      <td>116</td>\n",
       "      <td>6.073612</td>\n",
       "      <td>AlfalfaandAlfalfaMixtures</td>\n",
       "      <td>alfalfa-pasture</td>\n",
       "      <td>6763.878538</td>\n",
       "      <td>1113.65</td>\n",
       "      <td>30.853951</td>\n",
       "      <td>417.364790</td>\n",
       "      <td>100.0</td>\n",
       "      <td>6.073612</td>\n",
       "      <td>...</td>\n",
       "      <td>0.0</td>\n",
       "      <td>0.000000</td>\n",
       "      <td>0.0</td>\n",
       "      <td>0.0</td>\n",
       "      <td>100.0</td>\n",
       "      <td>0.0</td>\n",
       "      <td>83.333333</td>\n",
       "      <td>75.5</td>\n",
       "      <td>0.0</td>\n",
       "      <td>11.5</td>\n",
       "    </tr>\n",
       "    <tr>\n",
       "      <th>4</th>\n",
       "      <td>143</td>\n",
       "      <td>97.932855</td>\n",
       "      <td>AlfalfaandAlfalfaMixtures</td>\n",
       "      <td>alfalfa-pasture</td>\n",
       "      <td>109062.924182</td>\n",
       "      <td>1113.65</td>\n",
       "      <td>497.498904</td>\n",
       "      <td>11437.290065</td>\n",
       "      <td>100.0</td>\n",
       "      <td>97.932855</td>\n",
       "      <td>...</td>\n",
       "      <td>4.0</td>\n",
       "      <td>3.917314</td>\n",
       "      <td>0.0</td>\n",
       "      <td>83.0</td>\n",
       "      <td>100.0</td>\n",
       "      <td>0.0</td>\n",
       "      <td>0.000000</td>\n",
       "      <td>97.0</td>\n",
       "      <td>100.0</td>\n",
       "      <td>20.0</td>\n",
       "    </tr>\n",
       "  </tbody>\n",
       "</table>\n",
       "<p>5 rows × 21 columns</p>\n",
       "</div>"
      ],
      "text/plain": [
       "   FID       Area                       Crop            CropX  FieldCropPrice  \\\n",
       "0   45  70.791382  AlfalfaandAlfalfaMixtures  alfalfa-pasture    78836.822442   \n",
       "1   72  81.343317  AlfalfaandAlfalfaMixtures  alfalfa-pasture    90587.985155   \n",
       "2   91  28.286742  AlfalfaandAlfalfaMixtures  alfalfa-pasture    31501.529705   \n",
       "3  116   6.073612  AlfalfaandAlfalfaMixtures  alfalfa-pasture     6763.878538   \n",
       "4  143  97.932855  AlfalfaandAlfalfaMixtures  alfalfa-pasture   109062.924182   \n",
       "\n",
       "   PricePerAcre  SavedWater      Recharge  Kitfox  KitfoxAcres  ...  \\\n",
       "0       1113.65  359.620220  12283.604016   100.0    70.791382  ...   \n",
       "1       1113.65  413.224051   1975.754272   100.0    81.343317  ...   \n",
       "2       1113.65  143.696647   3311.302980   100.0    28.286742  ...   \n",
       "3       1113.65   30.853951    417.364790   100.0     6.073612  ...   \n",
       "4       1113.65  497.498904  11437.290065   100.0    97.932855  ...   \n",
       "\n",
       "   GiantGarterSnake   GGSAcres   TNC  HabCorridors  ConservationAreas  \\\n",
       "0               0.0   0.000000  94.0           0.0              100.0   \n",
       "1             100.0  81.343317   0.0           0.0              100.0   \n",
       "2               0.0   0.000000   0.0           0.0               46.0   \n",
       "3               0.0   0.000000   0.0           0.0              100.0   \n",
       "4               4.0   3.917314   0.0          83.0              100.0   \n",
       "\n",
       "   ImpBirdAreas     Nitrate  ModSAGBI  Prox2Wetlands  Depth2GroundWater  \n",
       "0           0.0    0.000000      42.0            0.0               20.0  \n",
       "1           0.0  100.000000       0.0          100.0                5.0  \n",
       "2          91.0   93.333333      98.0            0.0               20.0  \n",
       "3           0.0   83.333333      75.5            0.0               11.5  \n",
       "4           0.0    0.000000      97.0          100.0               20.0  \n",
       "\n",
       "[5 rows x 21 columns]"
      ]
     },
     "execution_count": 3,
     "metadata": {},
     "output_type": "execute_result"
    }
   ],
   "source": [
    "df = pd.read_excel('../data/MasterDF_Kern.xlsx', sheet_name='data')\n",
    "df.head()"
   ]
  },
  {
   "cell_type": "code",
   "execution_count": 4,
   "metadata": {
    "scrolled": true
   },
   "outputs": [
    {
     "data": {
      "text/html": [
       "<div>\n",
       "<style scoped>\n",
       "    .dataframe tbody tr th:only-of-type {\n",
       "        vertical-align: middle;\n",
       "    }\n",
       "\n",
       "    .dataframe tbody tr th {\n",
       "        vertical-align: top;\n",
       "    }\n",
       "\n",
       "    .dataframe thead th {\n",
       "        text-align: right;\n",
       "    }\n",
       "</style>\n",
       "<table border=\"1\" class=\"dataframe\">\n",
       "  <thead>\n",
       "    <tr style=\"text-align: right;\">\n",
       "      <th></th>\n",
       "      <th>alfalfa-pasture</th>\n",
       "      <th>corn</th>\n",
       "      <th>field-crops-grains</th>\n",
       "      <th>veg-fruits</th>\n",
       "      <th>trees-vines</th>\n",
       "    </tr>\n",
       "    <tr>\n",
       "      <th>region</th>\n",
       "      <th></th>\n",
       "      <th></th>\n",
       "      <th></th>\n",
       "      <th></th>\n",
       "      <th></th>\n",
       "    </tr>\n",
       "  </thead>\n",
       "  <tbody>\n",
       "    <tr>\n",
       "      <th>NW</th>\n",
       "      <td>21320.0</td>\n",
       "      <td>8400.0</td>\n",
       "      <td>85920.0</td>\n",
       "      <td>3880.0</td>\n",
       "      <td>3880.0</td>\n",
       "    </tr>\n",
       "    <tr>\n",
       "      <th>NE</th>\n",
       "      <td>56850.0</td>\n",
       "      <td>7750.0</td>\n",
       "      <td>23580.0</td>\n",
       "      <td>2260.0</td>\n",
       "      <td>16800.0</td>\n",
       "    </tr>\n",
       "    <tr>\n",
       "      <th>SW</th>\n",
       "      <td>36820.0</td>\n",
       "      <td>3880.0</td>\n",
       "      <td>72350.0</td>\n",
       "      <td>8400.0</td>\n",
       "      <td>7750.0</td>\n",
       "    </tr>\n",
       "    <tr>\n",
       "      <th>SE</th>\n",
       "      <td>38760.0</td>\n",
       "      <td>16150.0</td>\n",
       "      <td>124030.0</td>\n",
       "      <td>650.0</td>\n",
       "      <td>9690.0</td>\n",
       "    </tr>\n",
       "    <tr>\n",
       "      <th>KR</th>\n",
       "      <td>88500.0</td>\n",
       "      <td>54910.0</td>\n",
       "      <td>42640.0</td>\n",
       "      <td>3230.0</td>\n",
       "      <td>11630.0</td>\n",
       "    </tr>\n",
       "  </tbody>\n",
       "</table>\n",
       "</div>"
      ],
      "text/plain": [
       "        alfalfa-pasture     corn  field-crops-grains  veg-fruits  trees-vines\n",
       "region                                                                       \n",
       "NW              21320.0   8400.0             85920.0      3880.0       3880.0\n",
       "NE              56850.0   7750.0             23580.0      2260.0      16800.0\n",
       "SW              36820.0   3880.0             72350.0      8400.0       7750.0\n",
       "SE              38760.0  16150.0            124030.0       650.0       9690.0\n",
       "KR              88500.0  54910.0             42640.0      3230.0      11630.0"
      ]
     },
     "execution_count": 4,
     "metadata": {},
     "output_type": "execute_result"
    }
   ],
   "source": [
    "targets = pd.read_csv('../data/targets.csv', index_col='region', thousands=',')\n",
    "targets"
   ]
  },
  {
   "cell_type": "markdown",
   "metadata": {},
   "source": [
    "### Area-weight all ecosystem services columns\n",
    "TO DO: Need to confirm that measures are not yet area weighted\n",
    "\n",
    "TO DO: Adjust outcome_cols in bootstrap module"
   ]
  },
  {
   "cell_type": "markdown",
   "metadata": {},
   "source": [
    "### Model Business as Usual Case"
   ]
  },
  {
   "cell_type": "code",
   "execution_count": 103,
   "metadata": {},
   "outputs": [],
   "source": [
    "# specify region, list of crop types, and list of ecosystem service outcomes to track\n",
    "# set up dataframe to store outcomes of each trial\n",
    "# for 1000 tries:\n",
    "#    set up master df (shape = 0 x number of columns of df)\n",
    "#    for crop in crop type:\n",
    "#        subset dataset, get target, check that sufficient area is available\n",
    "#        randomly sort the df\n",
    "#        subset to meet target\n",
    "#        append to master df\n",
    "#    calculate total ecosystem services accumulated and acres faLLowed in master df\n",
    "#    append outcomes to trials dataframe\n",
    "\n",
    "region = 'KR'\n",
    "crop_types = targets.columns\n",
    "outcome_cols = ['Area','KitfoxAcres', 'GGSAcres']\n",
    "trials = pd.DataFrame(columns=outcome_cols)\n",
    "\n",
    "for i in range(10):\n",
    "    df_fallow = pd.DataFrame(columns=df.columns)\n",
    "    for crop in crop_types:\n",
    "        df_crop = df[df['CropX'] == crop]\n",
    "        target = targets.loc[region, crop]\n",
    "        df_crop_shuffle = df_crop.sample(n=df_crop.shape[0])\n",
    "        df_crop_shuffle.sort_values('PricePerAcre', inplace=True)\n",
    "        # Identify fields up to target\n",
    "        df_fallow_bool = df_crop_shuffle['Area'].cumsum() < target\n",
    "        # Get one additional field by updating value from False to True where \n",
    "        # first instance of False is located\n",
    "        if not df_fallow_bool[df_fallow_bool!=True].empty:\n",
    "            index = df_fallow_bool[df_fallow_bool!=True].index[0]\n",
    "            df_fallow_bool.at[index]=True        \n",
    "        df_crop_fallow = df_crop_shuffle[df_fallow_bool]\n",
    "        df_fallow = df_fallow.append(df_crop_fallow, ignore_index=True)\n",
    "    outcomes = pd.DataFrame(df_fallow[outcome_cols].sum()).T\n",
    "    areas = df_fallow[['Area','CropX']].groupby('CropX').sum().T\n",
    "    areas.reset_index(drop=True, inplace=True)\n",
    "    output = pd.concat([outcomes, areas], axis=1, sort=False)\n",
    "    trials = trials.append(output, ignore_index=True, sort=False)"
   ]
  },
  {
   "cell_type": "code",
   "execution_count": 104,
   "metadata": {},
   "outputs": [
    {
     "data": {
      "text/html": [
       "<div>\n",
       "<style scoped>\n",
       "    .dataframe tbody tr th:only-of-type {\n",
       "        vertical-align: middle;\n",
       "    }\n",
       "\n",
       "    .dataframe tbody tr th {\n",
       "        vertical-align: top;\n",
       "    }\n",
       "\n",
       "    .dataframe thead th {\n",
       "        text-align: right;\n",
       "    }\n",
       "</style>\n",
       "<table border=\"1\" class=\"dataframe\">\n",
       "  <thead>\n",
       "    <tr style=\"text-align: right;\">\n",
       "      <th></th>\n",
       "      <th>Area</th>\n",
       "      <th>KitfoxAcres</th>\n",
       "      <th>GGSAcres</th>\n",
       "      <th>alfalfa-pasture</th>\n",
       "      <th>corn</th>\n",
       "      <th>field-crops-grains</th>\n",
       "      <th>trees-vines</th>\n",
       "      <th>veg-fruits</th>\n",
       "    </tr>\n",
       "  </thead>\n",
       "  <tbody>\n",
       "    <tr>\n",
       "      <th>0</th>\n",
       "      <td>162052.893594</td>\n",
       "      <td>161906.107618</td>\n",
       "      <td>53706.626679</td>\n",
       "      <td>80767.856997</td>\n",
       "      <td>23740.216326</td>\n",
       "      <td>42647.846969</td>\n",
       "      <td>11630.997292</td>\n",
       "      <td>3265.976010</td>\n",
       "    </tr>\n",
       "    <tr>\n",
       "      <th>1</th>\n",
       "      <td>162044.305986</td>\n",
       "      <td>161897.520010</td>\n",
       "      <td>53025.677314</td>\n",
       "      <td>80767.856997</td>\n",
       "      <td>23740.216326</td>\n",
       "      <td>42665.815737</td>\n",
       "      <td>11632.112371</td>\n",
       "      <td>3238.304556</td>\n",
       "    </tr>\n",
       "    <tr>\n",
       "      <th>2</th>\n",
       "      <td>162136.621475</td>\n",
       "      <td>161989.835499</td>\n",
       "      <td>53228.993563</td>\n",
       "      <td>80767.856997</td>\n",
       "      <td>23740.216326</td>\n",
       "      <td>42709.720128</td>\n",
       "      <td>11652.852013</td>\n",
       "      <td>3265.976010</td>\n",
       "    </tr>\n",
       "    <tr>\n",
       "      <th>3</th>\n",
       "      <td>162190.936378</td>\n",
       "      <td>162044.150402</td>\n",
       "      <td>53451.902595</td>\n",
       "      <td>80767.856997</td>\n",
       "      <td>23740.216326</td>\n",
       "      <td>42800.142110</td>\n",
       "      <td>11643.782327</td>\n",
       "      <td>3238.938618</td>\n",
       "    </tr>\n",
       "    <tr>\n",
       "      <th>4</th>\n",
       "      <td>162141.204916</td>\n",
       "      <td>161994.418940</td>\n",
       "      <td>52926.435032</td>\n",
       "      <td>80767.856997</td>\n",
       "      <td>23740.216326</td>\n",
       "      <td>42750.930414</td>\n",
       "      <td>11630.674175</td>\n",
       "      <td>3251.527004</td>\n",
       "    </tr>\n",
       "    <tr>\n",
       "      <th>5</th>\n",
       "      <td>162019.686291</td>\n",
       "      <td>161872.900316</td>\n",
       "      <td>53108.840308</td>\n",
       "      <td>80767.856997</td>\n",
       "      <td>23740.216326</td>\n",
       "      <td>42641.553179</td>\n",
       "      <td>11630.266836</td>\n",
       "      <td>3239.792954</td>\n",
       "    </tr>\n",
       "    <tr>\n",
       "      <th>6</th>\n",
       "      <td>162079.851280</td>\n",
       "      <td>161933.065304</td>\n",
       "      <td>52929.931724</td>\n",
       "      <td>80767.856997</td>\n",
       "      <td>23740.216326</td>\n",
       "      <td>42646.135552</td>\n",
       "      <td>11659.666395</td>\n",
       "      <td>3265.976010</td>\n",
       "    </tr>\n",
       "    <tr>\n",
       "      <th>7</th>\n",
       "      <td>162062.158237</td>\n",
       "      <td>161915.372261</td>\n",
       "      <td>52947.133642</td>\n",
       "      <td>80767.856997</td>\n",
       "      <td>23740.216326</td>\n",
       "      <td>42674.203069</td>\n",
       "      <td>11641.577290</td>\n",
       "      <td>3238.304556</td>\n",
       "    </tr>\n",
       "    <tr>\n",
       "      <th>8</th>\n",
       "      <td>162126.178000</td>\n",
       "      <td>161979.392024</td>\n",
       "      <td>53053.638504</td>\n",
       "      <td>80767.856997</td>\n",
       "      <td>23740.216326</td>\n",
       "      <td>42733.566878</td>\n",
       "      <td>11645.696960</td>\n",
       "      <td>3238.840839</td>\n",
       "    </tr>\n",
       "    <tr>\n",
       "      <th>9</th>\n",
       "      <td>162123.683555</td>\n",
       "      <td>161976.897580</td>\n",
       "      <td>53672.834986</td>\n",
       "      <td>80767.856997</td>\n",
       "      <td>23740.216326</td>\n",
       "      <td>42709.029167</td>\n",
       "      <td>11640.923109</td>\n",
       "      <td>3265.657958</td>\n",
       "    </tr>\n",
       "  </tbody>\n",
       "</table>\n",
       "</div>"
      ],
      "text/plain": [
       "            Area    KitfoxAcres      GGSAcres  alfalfa-pasture          corn  \\\n",
       "0  162052.893594  161906.107618  53706.626679     80767.856997  23740.216326   \n",
       "1  162044.305986  161897.520010  53025.677314     80767.856997  23740.216326   \n",
       "2  162136.621475  161989.835499  53228.993563     80767.856997  23740.216326   \n",
       "3  162190.936378  162044.150402  53451.902595     80767.856997  23740.216326   \n",
       "4  162141.204916  161994.418940  52926.435032     80767.856997  23740.216326   \n",
       "5  162019.686291  161872.900316  53108.840308     80767.856997  23740.216326   \n",
       "6  162079.851280  161933.065304  52929.931724     80767.856997  23740.216326   \n",
       "7  162062.158237  161915.372261  52947.133642     80767.856997  23740.216326   \n",
       "8  162126.178000  161979.392024  53053.638504     80767.856997  23740.216326   \n",
       "9  162123.683555  161976.897580  53672.834986     80767.856997  23740.216326   \n",
       "\n",
       "   field-crops-grains   trees-vines   veg-fruits  \n",
       "0        42647.846969  11630.997292  3265.976010  \n",
       "1        42665.815737  11632.112371  3238.304556  \n",
       "2        42709.720128  11652.852013  3265.976010  \n",
       "3        42800.142110  11643.782327  3238.938618  \n",
       "4        42750.930414  11630.674175  3251.527004  \n",
       "5        42641.553179  11630.266836  3239.792954  \n",
       "6        42646.135552  11659.666395  3265.976010  \n",
       "7        42674.203069  11641.577290  3238.304556  \n",
       "8        42733.566878  11645.696960  3238.840839  \n",
       "9        42709.029167  11640.923109  3265.657958  "
      ]
     },
     "execution_count": 104,
     "metadata": {},
     "output_type": "execute_result"
    }
   ],
   "source": [
    "trials"
   ]
  },
  {
   "cell_type": "markdown",
   "metadata": {},
   "source": [
    "### Visualize results"
   ]
  },
  {
   "cell_type": "markdown",
   "metadata": {},
   "source": [
    "#### Ensure sufficient acreage fallowed"
   ]
  },
  {
   "cell_type": "code",
   "execution_count": 108,
   "metadata": {},
   "outputs": [],
   "source": [
    "# Bar chart with each crop type on x-axis, acreage fallowed as bars, and targets as dots. Visualize difference between\n",
    "# acreage fallowed and target for each crop type in one chart.\n"
   ]
  },
  {
   "cell_type": "code",
   "execution_count": 107,
   "metadata": {},
   "outputs": [
    {
     "data": {
      "image/png": "[encoded data removed]",
      "text/plain": [
       "<Figure size 432x288 with 1 Axes>"
      ]
     },
     "metadata": {
      "needs_background": "light"
     },
     "output_type": "display_data"
    }
   ],
   "source": [
    "crop_type = 'veg-fruits'\n",
    "sns.distplot(trials[crop_type]-targets.loc[region, crop_type], rug=True)\n",
    "sns.despine()"
   ]
  },
  {
   "cell_type": "code",
   "execution_count": 150,
   "metadata": {},
   "outputs": [
    {
     "data": {
      "image/png": "[encoded data removed]",
      "text/plain": [
       "<Figure size 432x288 with 1 Axes>"
      ]
     },
     "metadata": {
      "needs_background": "light"
     },
     "output_type": "display_data"
    }
   ],
   "source": [
    "sns.distplot(trials['GGSAcres'], rug=True)\n",
    "sns.despine()"
   ]
  },
  {
   "cell_type": "markdown",
   "metadata": {},
   "source": [
    "### Exploration"
   ]
  },
  {
   "cell_type": "code",
   "execution_count": 97,
   "metadata": {},
   "outputs": [],
   "source": [
    "df2 = df_crop_shuffle['Area'].cumsum() < target"
   ]
  },
  {
   "cell_type": "code",
   "execution_count": 98,
   "metadata": {},
   "outputs": [
    {
     "data": {
      "text/plain": [
       "3155"
      ]
     },
     "execution_count": 98,
     "metadata": {},
     "output_type": "execute_result"
    }
   ],
   "source": [
    "index = df2[df2!=True].index[0]\n",
    "index"
   ]
  },
  {
   "cell_type": "code",
   "execution_count": 99,
   "metadata": {},
   "outputs": [
    {
     "data": {
      "text/plain": [
       "False"
      ]
     },
     "execution_count": 99,
     "metadata": {},
     "output_type": "execute_result"
    }
   ],
   "source": [
    "df2.loc[index]"
   ]
  },
  {
   "cell_type": "code",
   "execution_count": 100,
   "metadata": {},
   "outputs": [],
   "source": [
    "df2.at[index]=True"
   ]
  },
  {
   "cell_type": "code",
   "execution_count": 56,
   "metadata": {},
   "outputs": [],
   "source": [
    "# df2.at[df2[df2!=True].index[0]]=True"
   ]
  },
  {
   "cell_type": "code",
   "execution_count": 102,
   "metadata": {},
   "outputs": [
    {
     "data": {
      "text/plain": [
       "True"
      ]
     },
     "execution_count": 102,
     "metadata": {},
     "output_type": "execute_result"
    }
   ],
   "source": [
    "df2.loc[index]"
   ]
  },
  {
   "cell_type": "code",
   "execution_count": 8,
   "metadata": {},
   "outputs": [
    {
     "name": "stdout",
     "output_type": "stream",
     "text": [
      "False, crop area is equal to 80,767.86 and target is 88,500.00\n"
     ]
    }
   ],
   "source": [
    "#Subset df by crop type\n",
    "crop_type = 'alfalfa-pasture'\n",
    "\n",
    "df_alfalfa = df[df['CropX'] == crop_type]\n",
    "\n",
    "#Specify the target\n",
    "target = targets_kr[crop_type]\n",
    "\n",
    "# Check that sufficient area is available to meet target\n",
    "print(\"{}, crop area is equal to {:,.2f} and target is {:,.2f}\".format(df_alfalfa.Area.sum() > target, df_alfalfa.Area.sum(), target))"
   ]
  },
  {
   "cell_type": "code",
   "execution_count": 9,
   "metadata": {},
   "outputs": [
    {
     "data": {
      "text/plain": [
       "80767.85699677002"
      ]
     },
     "execution_count": 9,
     "metadata": {},
     "output_type": "execute_result"
    }
   ],
   "source": [
    "#Randomly sort the data\n",
    "df_alfalfa_random = df_alfalfa.sample(n=df_alfalfa.shape[0])\n",
    "\n",
    "#Select fields until target is reached.\n",
    "df_alfalfa_fallow = df_alfalfa_random[df_alfalfa_random['Area'].cumsum() < target]\n",
    "\n",
    "#Check that target is met\n",
    "df_alfalfa_fallow.Area.sum()"
   ]
  },
  {
   "cell_type": "code",
   "execution_count": 10,
   "metadata": {},
   "outputs": [
    {
     "data": {
      "text/html": [
       "<div>\n",
       "<style scoped>\n",
       "    .dataframe tbody tr th:only-of-type {\n",
       "        vertical-align: middle;\n",
       "    }\n",
       "\n",
       "    .dataframe tbody tr th {\n",
       "        vertical-align: top;\n",
       "    }\n",
       "\n",
       "    .dataframe thead th {\n",
       "        text-align: right;\n",
       "    }\n",
       "</style>\n",
       "<table border=\"1\" class=\"dataframe\">\n",
       "  <thead>\n",
       "    <tr style=\"text-align: right;\">\n",
       "      <th></th>\n",
       "      <th>FID</th>\n",
       "      <th>Area</th>\n",
       "      <th>Crop</th>\n",
       "      <th>CropX</th>\n",
       "      <th>FieldCropPrice</th>\n",
       "      <th>SavedWater</th>\n",
       "      <th>Recharge</th>\n",
       "      <th>Kitfox</th>\n",
       "      <th>KitfoxAcres</th>\n",
       "      <th>TiptonKRat</th>\n",
       "      <th>GiantGarterSnake</th>\n",
       "      <th>GGSAcres</th>\n",
       "      <th>TNC</th>\n",
       "      <th>HabCorridors</th>\n",
       "      <th>ConservationAreas</th>\n",
       "      <th>ImpBirdAreas</th>\n",
       "      <th>Nitrate</th>\n",
       "      <th>ModSAGBI</th>\n",
       "      <th>Prox2Wetlands</th>\n",
       "      <th>Depth2GroundWater</th>\n",
       "    </tr>\n",
       "  </thead>\n",
       "  <tbody>\n",
       "    <tr>\n",
       "      <th>388</th>\n",
       "      <td>6167</td>\n",
       "      <td>73.583013</td>\n",
       "      <td>AlfalfaandAlfalfaMixtures</td>\n",
       "      <td>alfalfa-pasture</td>\n",
       "      <td>81945.721915</td>\n",
       "      <td>373.801704</td>\n",
       "      <td>5193.151323</td>\n",
       "      <td>100.0</td>\n",
       "      <td>73.583013</td>\n",
       "      <td>100.0</td>\n",
       "      <td>0.0</td>\n",
       "      <td>0.000000</td>\n",
       "      <td>0.0</td>\n",
       "      <td>0.0</td>\n",
       "      <td>18.666667</td>\n",
       "      <td>0.0</td>\n",
       "      <td>97.777778</td>\n",
       "      <td>17.333333</td>\n",
       "      <td>39.333333</td>\n",
       "      <td>10.0</td>\n",
       "    </tr>\n",
       "    <tr>\n",
       "      <th>446</th>\n",
       "      <td>7056</td>\n",
       "      <td>60.724463</td>\n",
       "      <td>AlfalfaandAlfalfaMixtures</td>\n",
       "      <td>alfalfa-pasture</td>\n",
       "      <td>67625.798610</td>\n",
       "      <td>308.480274</td>\n",
       "      <td>6259.313794</td>\n",
       "      <td>100.0</td>\n",
       "      <td>60.724463</td>\n",
       "      <td>100.0</td>\n",
       "      <td>0.0</td>\n",
       "      <td>0.000000</td>\n",
       "      <td>0.0</td>\n",
       "      <td>0.0</td>\n",
       "      <td>0.000000</td>\n",
       "      <td>0.0</td>\n",
       "      <td>71.111111</td>\n",
       "      <td>0.000000</td>\n",
       "      <td>0.000000</td>\n",
       "      <td>20.0</td>\n",
       "    </tr>\n",
       "    <tr>\n",
       "      <th>47</th>\n",
       "      <td>761</td>\n",
       "      <td>45.041234</td>\n",
       "      <td>AlfalfaandAlfalfaMixtures</td>\n",
       "      <td>alfalfa-pasture</td>\n",
       "      <td>50160.170745</td>\n",
       "      <td>228.809471</td>\n",
       "      <td>5207.508907</td>\n",
       "      <td>100.0</td>\n",
       "      <td>45.041234</td>\n",
       "      <td>100.0</td>\n",
       "      <td>0.0</td>\n",
       "      <td>0.000000</td>\n",
       "      <td>0.0</td>\n",
       "      <td>0.0</td>\n",
       "      <td>0.000000</td>\n",
       "      <td>0.0</td>\n",
       "      <td>86.666667</td>\n",
       "      <td>95.000000</td>\n",
       "      <td>0.000000</td>\n",
       "      <td>20.0</td>\n",
       "    </tr>\n",
       "    <tr>\n",
       "      <th>362</th>\n",
       "      <td>5664</td>\n",
       "      <td>13.695583</td>\n",
       "      <td>AlfalfaandAlfalfaMixtures</td>\n",
       "      <td>alfalfa-pasture</td>\n",
       "      <td>15252.085863</td>\n",
       "      <td>69.573561</td>\n",
       "      <td>332.653097</td>\n",
       "      <td>100.0</td>\n",
       "      <td>13.695583</td>\n",
       "      <td>100.0</td>\n",
       "      <td>100.0</td>\n",
       "      <td>13.695583</td>\n",
       "      <td>0.0</td>\n",
       "      <td>100.0</td>\n",
       "      <td>100.000000</td>\n",
       "      <td>100.0</td>\n",
       "      <td>86.666667</td>\n",
       "      <td>0.000000</td>\n",
       "      <td>100.000000</td>\n",
       "      <td>10.0</td>\n",
       "    </tr>\n",
       "    <tr>\n",
       "      <th>1067</th>\n",
       "      <td>15912</td>\n",
       "      <td>63.793587</td>\n",
       "      <td>AlfalfaandAlfalfaMixtures</td>\n",
       "      <td>alfalfa-pasture</td>\n",
       "      <td>71043.728207</td>\n",
       "      <td>324.071422</td>\n",
       "      <td>5502.933085</td>\n",
       "      <td>100.0</td>\n",
       "      <td>63.793587</td>\n",
       "      <td>100.0</td>\n",
       "      <td>0.0</td>\n",
       "      <td>0.000000</td>\n",
       "      <td>0.0</td>\n",
       "      <td>0.0</td>\n",
       "      <td>0.000000</td>\n",
       "      <td>0.0</td>\n",
       "      <td>81.111111</td>\n",
       "      <td>35.000000</td>\n",
       "      <td>0.000000</td>\n",
       "      <td>20.0</td>\n",
       "    </tr>\n",
       "  </tbody>\n",
       "</table>\n",
       "</div>"
      ],
      "text/plain": [
       "        FID       Area                       Crop            CropX  \\\n",
       "388    6167  73.583013  AlfalfaandAlfalfaMixtures  alfalfa-pasture   \n",
       "446    7056  60.724463  AlfalfaandAlfalfaMixtures  alfalfa-pasture   \n",
       "47      761  45.041234  AlfalfaandAlfalfaMixtures  alfalfa-pasture   \n",
       "362    5664  13.695583  AlfalfaandAlfalfaMixtures  alfalfa-pasture   \n",
       "1067  15912  63.793587  AlfalfaandAlfalfaMixtures  alfalfa-pasture   \n",
       "\n",
       "      FieldCropPrice  SavedWater     Recharge  Kitfox  KitfoxAcres  \\\n",
       "388     81945.721915  373.801704  5193.151323   100.0    73.583013   \n",
       "446     67625.798610  308.480274  6259.313794   100.0    60.724463   \n",
       "47      50160.170745  228.809471  5207.508907   100.0    45.041234   \n",
       "362     15252.085863   69.573561   332.653097   100.0    13.695583   \n",
       "1067    71043.728207  324.071422  5502.933085   100.0    63.793587   \n",
       "\n",
       "      TiptonKRat  GiantGarterSnake   GGSAcres  TNC  HabCorridors  \\\n",
       "388        100.0               0.0   0.000000  0.0           0.0   \n",
       "446        100.0               0.0   0.000000  0.0           0.0   \n",
       "47         100.0               0.0   0.000000  0.0           0.0   \n",
       "362        100.0             100.0  13.695583  0.0         100.0   \n",
       "1067       100.0               0.0   0.000000  0.0           0.0   \n",
       "\n",
       "      ConservationAreas  ImpBirdAreas    Nitrate   ModSAGBI  Prox2Wetlands  \\\n",
       "388           18.666667           0.0  97.777778  17.333333      39.333333   \n",
       "446            0.000000           0.0  71.111111   0.000000       0.000000   \n",
       "47             0.000000           0.0  86.666667  95.000000       0.000000   \n",
       "362          100.000000         100.0  86.666667   0.000000     100.000000   \n",
       "1067           0.000000           0.0  81.111111  35.000000       0.000000   \n",
       "\n",
       "      Depth2GroundWater  \n",
       "388                10.0  \n",
       "446                20.0  \n",
       "47                 20.0  \n",
       "362                10.0  \n",
       "1067               20.0  "
      ]
     },
     "execution_count": 10,
     "metadata": {},
     "output_type": "execute_result"
    }
   ],
   "source": [
    "df_alfalfa_fallow.head()"
   ]
  },
  {
   "cell_type": "code",
   "execution_count": 11,
   "metadata": {},
   "outputs": [
    {
     "data": {
      "text/plain": [
       "80621.07102097"
      ]
     },
     "execution_count": 11,
     "metadata": {},
     "output_type": "execute_result"
    }
   ],
   "source": [
    "#Sum the ecosystem services gained\n",
    "kitfox = df_alfalfa_fallow.KitfoxAcres.sum()\n",
    "kitfox"
   ]
  },
  {
   "cell_type": "code",
   "execution_count": 12,
   "metadata": {},
   "outputs": [],
   "source": [
    "outcomes = pd.DataFrame(df_fallow[outcome_cols].sum()).T\n",
    "    areas = df_fallow[['Area','CropX']].groupby('CropX').sum().T\n",
    "    areas.reset_index(drop=True, inplace=True)\n",
    "    output = pd.concat([outcomes, areas], axis=1, sort=False)\n",
    "    trials = trials.append(output, ignore_index=True, sort=False)"
   ]
  }
 ],
 "metadata": {
  "kernelspec": {
   "display_name": "Python 3",
   "language": "python",
   "name": "python3"
  },
  "language_info": {
   "codemirror_mode": {
    "name": "ipython",
    "version": 3
   },
   "file_extension": ".py",
   "mimetype": "text/x-python",
   "name": "python",
   "nbconvert_exporter": "python",
   "pygments_lexer": "ipython3",
   "version": "3.7.3"
  }
 },
 "nbformat": 4,
 "nbformat_minor": 2
}
