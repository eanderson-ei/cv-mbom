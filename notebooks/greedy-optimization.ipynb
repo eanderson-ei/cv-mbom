{
 "cells": [
  {
   "cell_type": "code",
   "execution_count": 1,
   "metadata": {},
   "outputs": [],
   "source": [
    "import pandas as pd\n",
    "import numpy as np\n",
    "from collections import OrderedDict\n",
    "import matplotlib.pyplot as plt\n",
    "import seaborn as sns\n",
    "sns.set_style(\"white\")"
   ]
  },
  {
   "cell_type": "markdown",
   "metadata": {},
   "source": [
    "## Per Region Business As Usual Case"
   ]
  },
  {
   "cell_type": "markdown",
   "metadata": {},
   "source": [
    "### Read in Data"
   ]
  },
  {
   "cell_type": "code",
   "execution_count": 2,
   "metadata": {},
   "outputs": [
    {
     "data": {
      "text/html": [
       "<div>\n",
       "<style scoped>\n",
       "    .dataframe tbody tr th:only-of-type {\n",
       "        vertical-align: middle;\n",
       "    }\n",
       "\n",
       "    .dataframe tbody tr th {\n",
       "        vertical-align: top;\n",
       "    }\n",
       "\n",
       "    .dataframe thead th {\n",
       "        text-align: right;\n",
       "    }\n",
       "</style>\n",
       "<table border=\"1\" class=\"dataframe\">\n",
       "  <thead>\n",
       "    <tr style=\"text-align: right;\">\n",
       "      <th></th>\n",
       "      <th>FID</th>\n",
       "      <th>Area</th>\n",
       "      <th>Crop</th>\n",
       "      <th>FieldCropPrice</th>\n",
       "      <th>SavedWater</th>\n",
       "      <th>Recharge</th>\n",
       "      <th>Kitfox</th>\n",
       "      <th>TiptonKRat</th>\n",
       "      <th>GiantGarterSnake</th>\n",
       "      <th>TNC</th>\n",
       "      <th>HabCorridors</th>\n",
       "      <th>ConservationAreas</th>\n",
       "      <th>ImpBirdAreas</th>\n",
       "      <th>Nitrate</th>\n",
       "      <th>ModSAGBI</th>\n",
       "      <th>Prox2Wetlands</th>\n",
       "      <th>Depth2GroundWater</th>\n",
       "    </tr>\n",
       "  </thead>\n",
       "  <tbody>\n",
       "    <tr>\n",
       "      <th>0</th>\n",
       "      <td>45</td>\n",
       "      <td>70.791382</td>\n",
       "      <td>AlfalfaandAlfalfaMixtures</td>\n",
       "      <td>78836.822440</td>\n",
       "      <td>359.620220</td>\n",
       "      <td>12283.604020</td>\n",
       "      <td>100.0</td>\n",
       "      <td>100.0</td>\n",
       "      <td>0.0</td>\n",
       "      <td>94.0</td>\n",
       "      <td>0.0</td>\n",
       "      <td>100.0</td>\n",
       "      <td>0.0</td>\n",
       "      <td>0.000000</td>\n",
       "      <td>42.0</td>\n",
       "      <td>0.0</td>\n",
       "      <td>20.0</td>\n",
       "    </tr>\n",
       "    <tr>\n",
       "      <th>1</th>\n",
       "      <td>72</td>\n",
       "      <td>81.343317</td>\n",
       "      <td>AlfalfaandAlfalfaMixtures</td>\n",
       "      <td>90587.985160</td>\n",
       "      <td>413.224051</td>\n",
       "      <td>1975.754272</td>\n",
       "      <td>100.0</td>\n",
       "      <td>100.0</td>\n",
       "      <td>100.0</td>\n",
       "      <td>0.0</td>\n",
       "      <td>0.0</td>\n",
       "      <td>100.0</td>\n",
       "      <td>0.0</td>\n",
       "      <td>100.000000</td>\n",
       "      <td>0.0</td>\n",
       "      <td>100.0</td>\n",
       "      <td>5.0</td>\n",
       "    </tr>\n",
       "    <tr>\n",
       "      <th>2</th>\n",
       "      <td>91</td>\n",
       "      <td>28.286742</td>\n",
       "      <td>AlfalfaandAlfalfaMixtures</td>\n",
       "      <td>31501.529700</td>\n",
       "      <td>143.696647</td>\n",
       "      <td>3311.302980</td>\n",
       "      <td>100.0</td>\n",
       "      <td>100.0</td>\n",
       "      <td>0.0</td>\n",
       "      <td>0.0</td>\n",
       "      <td>0.0</td>\n",
       "      <td>46.0</td>\n",
       "      <td>91.0</td>\n",
       "      <td>93.333333</td>\n",
       "      <td>98.0</td>\n",
       "      <td>0.0</td>\n",
       "      <td>20.0</td>\n",
       "    </tr>\n",
       "    <tr>\n",
       "      <th>3</th>\n",
       "      <td>116</td>\n",
       "      <td>6.073612</td>\n",
       "      <td>AlfalfaandAlfalfaMixtures</td>\n",
       "      <td>6763.878538</td>\n",
       "      <td>30.853951</td>\n",
       "      <td>417.364790</td>\n",
       "      <td>100.0</td>\n",
       "      <td>100.0</td>\n",
       "      <td>0.0</td>\n",
       "      <td>0.0</td>\n",
       "      <td>0.0</td>\n",
       "      <td>100.0</td>\n",
       "      <td>0.0</td>\n",
       "      <td>83.333333</td>\n",
       "      <td>75.5</td>\n",
       "      <td>0.0</td>\n",
       "      <td>11.5</td>\n",
       "    </tr>\n",
       "    <tr>\n",
       "      <th>4</th>\n",
       "      <td>143</td>\n",
       "      <td>97.932855</td>\n",
       "      <td>AlfalfaandAlfalfaMixtures</td>\n",
       "      <td>109062.924200</td>\n",
       "      <td>497.498904</td>\n",
       "      <td>11437.290070</td>\n",
       "      <td>100.0</td>\n",
       "      <td>100.0</td>\n",
       "      <td>4.0</td>\n",
       "      <td>0.0</td>\n",
       "      <td>83.0</td>\n",
       "      <td>100.0</td>\n",
       "      <td>0.0</td>\n",
       "      <td>0.000000</td>\n",
       "      <td>97.0</td>\n",
       "      <td>100.0</td>\n",
       "      <td>20.0</td>\n",
       "    </tr>\n",
       "  </tbody>\n",
       "</table>\n",
       "</div>"
      ],
      "text/plain": [
       "   FID       Area                       Crop  FieldCropPrice  SavedWater  \\\n",
       "0   45  70.791382  AlfalfaandAlfalfaMixtures    78836.822440  359.620220   \n",
       "1   72  81.343317  AlfalfaandAlfalfaMixtures    90587.985160  413.224051   \n",
       "2   91  28.286742  AlfalfaandAlfalfaMixtures    31501.529700  143.696647   \n",
       "3  116   6.073612  AlfalfaandAlfalfaMixtures     6763.878538   30.853951   \n",
       "4  143  97.932855  AlfalfaandAlfalfaMixtures   109062.924200  497.498904   \n",
       "\n",
       "       Recharge  Kitfox  TiptonKRat  GiantGarterSnake   TNC  HabCorridors  \\\n",
       "0  12283.604020   100.0       100.0               0.0  94.0           0.0   \n",
       "1   1975.754272   100.0       100.0             100.0   0.0           0.0   \n",
       "2   3311.302980   100.0       100.0               0.0   0.0           0.0   \n",
       "3    417.364790   100.0       100.0               0.0   0.0           0.0   \n",
       "4  11437.290070   100.0       100.0               4.0   0.0          83.0   \n",
       "\n",
       "   ConservationAreas  ImpBirdAreas     Nitrate  ModSAGBI  Prox2Wetlands  \\\n",
       "0              100.0           0.0    0.000000      42.0            0.0   \n",
       "1              100.0           0.0  100.000000       0.0          100.0   \n",
       "2               46.0          91.0   93.333333      98.0            0.0   \n",
       "3              100.0           0.0   83.333333      75.5            0.0   \n",
       "4              100.0           0.0    0.000000      97.0          100.0   \n",
       "\n",
       "   Depth2GroundWater  \n",
       "0               20.0  \n",
       "1                5.0  \n",
       "2               20.0  \n",
       "3               11.5  \n",
       "4               20.0  "
      ]
     },
     "execution_count": 2,
     "metadata": {},
     "output_type": "execute_result"
    }
   ],
   "source": [
    "df = pd.read_csv('../data/data_kern.csv')\n",
    "eco_service_cols = df.columns[-13:]\n",
    "df.head()"
   ]
  },
  {
   "cell_type": "markdown",
   "metadata": {},
   "source": [
    "#### Compare inputs to PPIC report\n",
    "|Region|Land (1,000s acres)|Applied Water (1,000s of acre-ft)|Revenue (2010 $, millions)|\n",
    "|--------------------------|---------------------------------|--------------------------|\n",
    "|KR\\"
   ]
  },
  {
   "cell_type": "code",
   "execution_count": 32,
   "metadata": {},
   "outputs": [
    {
     "name": "stdout",
     "output_type": "stream",
     "text": [
      "$7,298,194,072.79 in annual revenue\n"
     ]
    }
   ],
   "source": [
    "total_revenue = df['FieldCropPrice'].sum()\n",
    "print (f'${total_revenue:,.2f} in annual revenue')"
   ]
  },
  {
   "cell_type": "code",
   "execution_count": 33,
   "metadata": {},
   "outputs": [
    {
     "name": "stdout",
     "output_type": "stream",
     "text": [
      "856,945 acres of cropland\n"
     ]
    }
   ],
   "source": [
    "cropland = df['Area'].sum()\n",
    "print(f'{cropland:,.0f} acres of cropland')"
   ]
  },
  {
   "cell_type": "code",
   "execution_count": 34,
   "metadata": {},
   "outputs": [
    {
     "name": "stdout",
     "output_type": "stream",
     "text": [
      "2,844,471 acre-feet of applied water\n"
     ]
    }
   ],
   "source": [
    "applied_water = df['SavedWater'].sum()\n",
    "print (f'{applied_water:,.0f} acre-feet of applied water')"
   ]
  },
  {
   "cell_type": "code",
   "execution_count": 3,
   "metadata": {},
   "outputs": [
    {
     "data": {
      "text/html": [
       "<div>\n",
       "<style scoped>\n",
       "    .dataframe tbody tr th:only-of-type {\n",
       "        vertical-align: middle;\n",
       "    }\n",
       "\n",
       "    .dataframe tbody tr th {\n",
       "        vertical-align: top;\n",
       "    }\n",
       "\n",
       "    .dataframe thead th {\n",
       "        text-align: right;\n",
       "    }\n",
       "</style>\n",
       "<table border=\"1\" class=\"dataframe\">\n",
       "  <thead>\n",
       "    <tr style=\"text-align: right;\">\n",
       "      <th></th>\n",
       "      <th>Crop</th>\n",
       "      <th>Crop_PPIC</th>\n",
       "    </tr>\n",
       "  </thead>\n",
       "  <tbody>\n",
       "    <tr>\n",
       "      <th>0</th>\n",
       "      <td>AlfalfaandAlfalfaMixtures</td>\n",
       "      <td>alfalfa-pasture</td>\n",
       "    </tr>\n",
       "    <tr>\n",
       "      <th>1</th>\n",
       "      <td>Almonds</td>\n",
       "      <td>trees-vines</td>\n",
       "    </tr>\n",
       "    <tr>\n",
       "      <th>2</th>\n",
       "      <td>Apples</td>\n",
       "      <td>veg-fruits</td>\n",
       "    </tr>\n",
       "    <tr>\n",
       "      <th>3</th>\n",
       "      <td>Avocados</td>\n",
       "      <td>veg-fruits</td>\n",
       "    </tr>\n",
       "    <tr>\n",
       "      <th>4</th>\n",
       "      <td>Beans(Dry)</td>\n",
       "      <td>field-crops-grains</td>\n",
       "    </tr>\n",
       "  </tbody>\n",
       "</table>\n",
       "</div>"
      ],
      "text/plain": [
       "                        Crop           Crop_PPIC\n",
       "0  AlfalfaandAlfalfaMixtures     alfalfa-pasture\n",
       "1                    Almonds         trees-vines\n",
       "2                     Apples          veg-fruits\n",
       "3                   Avocados          veg-fruits\n",
       "4                 Beans(Dry)  field-crops-grains"
      ]
     },
     "execution_count": 3,
     "metadata": {},
     "output_type": "execute_result"
    }
   ],
   "source": [
    "crop_x = pd.read_csv('../data/crop_x.csv')\n",
    "crop_x.head()"
   ]
  },
  {
   "cell_type": "code",
   "execution_count": 4,
   "metadata": {
    "scrolled": true
   },
   "outputs": [
    {
     "data": {
      "text/html": [
       "<div>\n",
       "<style scoped>\n",
       "    .dataframe tbody tr th:only-of-type {\n",
       "        vertical-align: middle;\n",
       "    }\n",
       "\n",
       "    .dataframe tbody tr th {\n",
       "        vertical-align: top;\n",
       "    }\n",
       "\n",
       "    .dataframe thead th {\n",
       "        text-align: right;\n",
       "    }\n",
       "</style>\n",
       "<table border=\"1\" class=\"dataframe\">\n",
       "  <thead>\n",
       "    <tr style=\"text-align: right;\">\n",
       "      <th></th>\n",
       "      <th>alfalfa-pasture</th>\n",
       "      <th>corn</th>\n",
       "      <th>field-crops-grains</th>\n",
       "      <th>veg-fruits</th>\n",
       "      <th>trees-vines</th>\n",
       "    </tr>\n",
       "    <tr>\n",
       "      <th>region</th>\n",
       "      <th></th>\n",
       "      <th></th>\n",
       "      <th></th>\n",
       "      <th></th>\n",
       "      <th></th>\n",
       "    </tr>\n",
       "  </thead>\n",
       "  <tbody>\n",
       "    <tr>\n",
       "      <th>NW</th>\n",
       "      <td>21320.0</td>\n",
       "      <td>8400.0</td>\n",
       "      <td>85920.0</td>\n",
       "      <td>3880.0</td>\n",
       "      <td>3880.0</td>\n",
       "    </tr>\n",
       "    <tr>\n",
       "      <th>NE</th>\n",
       "      <td>56850.0</td>\n",
       "      <td>7750.0</td>\n",
       "      <td>23580.0</td>\n",
       "      <td>2260.0</td>\n",
       "      <td>16800.0</td>\n",
       "    </tr>\n",
       "    <tr>\n",
       "      <th>SW</th>\n",
       "      <td>36820.0</td>\n",
       "      <td>3880.0</td>\n",
       "      <td>72350.0</td>\n",
       "      <td>8400.0</td>\n",
       "      <td>7750.0</td>\n",
       "    </tr>\n",
       "    <tr>\n",
       "      <th>SE</th>\n",
       "      <td>38760.0</td>\n",
       "      <td>16150.0</td>\n",
       "      <td>124030.0</td>\n",
       "      <td>650.0</td>\n",
       "      <td>9690.0</td>\n",
       "    </tr>\n",
       "    <tr>\n",
       "      <th>KR</th>\n",
       "      <td>88500.0</td>\n",
       "      <td>54910.0</td>\n",
       "      <td>42640.0</td>\n",
       "      <td>3230.0</td>\n",
       "      <td>11630.0</td>\n",
       "    </tr>\n",
       "  </tbody>\n",
       "</table>\n",
       "</div>"
      ],
      "text/plain": [
       "        alfalfa-pasture     corn  field-crops-grains  veg-fruits  trees-vines\n",
       "region                                                                       \n",
       "NW              21320.0   8400.0             85920.0      3880.0       3880.0\n",
       "NE              56850.0   7750.0             23580.0      2260.0      16800.0\n",
       "SW              36820.0   3880.0             72350.0      8400.0       7750.0\n",
       "SE              38760.0  16150.0            124030.0       650.0       9690.0\n",
       "KR              88500.0  54910.0             42640.0      3230.0      11630.0"
      ]
     },
     "execution_count": 4,
     "metadata": {},
     "output_type": "execute_result"
    }
   ],
   "source": [
    "targets = pd.read_csv('../data/targets.csv', index_col='region', thousands=',')\n",
    "targets"
   ]
  },
  {
   "cell_type": "markdown",
   "metadata": {},
   "source": [
    "### Set Up Analysis\n",
    "#### Cross-walk crop type to PPIC crop type"
   ]
  },
  {
   "cell_type": "code",
   "execution_count": 5,
   "metadata": {},
   "outputs": [],
   "source": [
    "df = df.join(crop_x.set_index('Crop'), on='Crop')"
   ]
  },
  {
   "cell_type": "markdown",
   "metadata": {},
   "source": [
    "#### Calculate PricePerAcre column\n",
    "Will be used to sort crop types within each PPIC crop type to select lowest revenue crops first when fallowing fields"
   ]
  },
  {
   "cell_type": "code",
   "execution_count": 6,
   "metadata": {},
   "outputs": [],
   "source": [
    "df['PricePerAcre'] = round(df['FieldCropPrice'] / df['Area'],2)"
   ]
  },
  {
   "cell_type": "markdown",
   "metadata": {},
   "source": [
    "#### Calculate area-weighted ecosystem service values"
   ]
  },
  {
   "cell_type": "code",
   "execution_count": 7,
   "metadata": {},
   "outputs": [],
   "source": [
    "for eco_service in eco_service_cols[2:]: # exclude Recharge and Saved Water\n",
    "    new_col = str(eco_service + '_PerAcre')\n",
    "    df[new_col] = df[eco_service] / 100 * df['Area']"
   ]
  },
  {
   "cell_type": "markdown",
   "metadata": {},
   "source": [
    "TO DO: Need to confirm that measures are not yet area weighted"
   ]
  },
  {
   "cell_type": "markdown",
   "metadata": {},
   "source": [
    "### Model Business as Usual Case"
   ]
  },
  {
   "cell_type": "code",
   "execution_count": 8,
   "metadata": {},
   "outputs": [
    {
     "data": {
      "text/plain": [
       "['Area',\n",
       " 'FieldCropPrice',\n",
       " 'SavedWater',\n",
       " 'Recharge',\n",
       " 'Kitfox_PerAcre',\n",
       " 'TiptonKRat_PerAcre',\n",
       " 'GiantGarterSnake_PerAcre',\n",
       " 'TNC_PerAcre',\n",
       " 'HabCorridors_PerAcre',\n",
       " 'ConservationAreas_PerAcre',\n",
       " 'ImpBirdAreas_PerAcre',\n",
       " 'Nitrate_PerAcre',\n",
       " 'ModSAGBI_PerAcre',\n",
       " 'Prox2Wetlands_PerAcre',\n",
       " 'Depth2GroundWater_PerAcre']"
      ]
     },
     "execution_count": 8,
     "metadata": {},
     "output_type": "execute_result"
    }
   ],
   "source": [
    "# Get list of columns to track for each repetition\n",
    "outcome_cols = (['Area', 'FieldCropPrice'] \n",
    "                + [str(eco_service) for eco_service in eco_service_cols[:2]] \n",
    "                + [str(eco_service + '_PerAcre') for eco_service in eco_service_cols[2:]])\n",
    "outcome_cols"
   ]
  },
  {
   "cell_type": "code",
   "execution_count": 9,
   "metadata": {},
   "outputs": [],
   "source": [
    "# specify region, list of crop types, and list of ecosystem service outcomes to track\n",
    "# set up dataframe to store outcomes of each trial\n",
    "# for 1000 tries:\n",
    "#    set up master df (shape = 0 x number of columns of df)\n",
    "#    for crop in crop type:\n",
    "#        subset dataset, get target, check that sufficient area is available\n",
    "#        randomly sort the df\n",
    "#        subset to meet target\n",
    "#        append to master df\n",
    "#    calculate total ecosystem services accumulated and acres faLLowed in master df\n",
    "#    append outcomes to trials dataframe\n",
    "\n",
    "region = 'KR'\n",
    "crop_types = targets.columns\n",
    "trials = pd.DataFrame(columns=outcome_cols)\n",
    "\n",
    "for i in range(100):\n",
    "    df_fallow = pd.DataFrame(columns=df.columns)\n",
    "    for crop in crop_types:\n",
    "        df_crop = df[df['Crop_PPIC'] == crop]\n",
    "        target = targets.loc[region, crop]\n",
    "        df_crop_shuffle = df_crop.sample(n=df_crop.shape[0])\n",
    "        df_crop_shuffle.sort_values('PricePerAcre', inplace=True)\n",
    "        # Identify fields up to target\n",
    "        df_fallow_bool = df_crop_shuffle['Area'].cumsum() < target\n",
    "        # Get one additional field by updating value from False to True where \n",
    "        # first instance of False is located\n",
    "        if not df_fallow_bool[df_fallow_bool!=True].empty:\n",
    "            index = df_fallow_bool[df_fallow_bool!=True].index[0]\n",
    "            df_fallow_bool.at[index]=True        \n",
    "        df_crop_fallow = df_crop_shuffle[df_fallow_bool]\n",
    "        df_fallow = df_fallow.append(df_crop_fallow, ignore_index=True)\n",
    "    outcomes = pd.DataFrame(df_fallow[outcome_cols].sum()).T\n",
    "    areas = df_fallow[['Area','Crop_PPIC']].groupby('Crop_PPIC').sum().T\n",
    "    areas.reset_index(drop=True, inplace=True)\n",
    "    output = pd.concat([outcomes, areas], axis=1, sort=False)\n",
    "    trials = trials.append(output, ignore_index=True, sort=False)"
   ]
  },
  {
   "cell_type": "code",
   "execution_count": 10,
   "metadata": {},
   "outputs": [
    {
     "data": {
      "text/html": [
       "<div>\n",
       "<style scoped>\n",
       "    .dataframe tbody tr th:only-of-type {\n",
       "        vertical-align: middle;\n",
       "    }\n",
       "\n",
       "    .dataframe tbody tr th {\n",
       "        vertical-align: top;\n",
       "    }\n",
       "\n",
       "    .dataframe thead th {\n",
       "        text-align: right;\n",
       "    }\n",
       "</style>\n",
       "<table border=\"1\" class=\"dataframe\">\n",
       "  <thead>\n",
       "    <tr style=\"text-align: right;\">\n",
       "      <th></th>\n",
       "      <th>Area</th>\n",
       "      <th>FieldCropPrice</th>\n",
       "      <th>SavedWater</th>\n",
       "      <th>Recharge</th>\n",
       "      <th>Kitfox_PerAcre</th>\n",
       "      <th>TiptonKRat_PerAcre</th>\n",
       "      <th>GiantGarterSnake_PerAcre</th>\n",
       "      <th>TNC_PerAcre</th>\n",
       "      <th>HabCorridors_PerAcre</th>\n",
       "      <th>ConservationAreas_PerAcre</th>\n",
       "      <th>ImpBirdAreas_PerAcre</th>\n",
       "      <th>Nitrate_PerAcre</th>\n",
       "      <th>ModSAGBI_PerAcre</th>\n",
       "      <th>Prox2Wetlands_PerAcre</th>\n",
       "      <th>Depth2GroundWater_PerAcre</th>\n",
       "      <th>alfalfa-pasture</th>\n",
       "      <th>corn</th>\n",
       "      <th>field-crops-grains</th>\n",
       "      <th>trees-vines</th>\n",
       "      <th>veg-fruits</th>\n",
       "    </tr>\n",
       "  </thead>\n",
       "  <tbody>\n",
       "    <tr>\n",
       "      <th>0</th>\n",
       "      <td>162066.946622</td>\n",
       "      <td>2.648002e+08</td>\n",
       "      <td>612421.524752</td>\n",
       "      <td>1.431822e+07</td>\n",
       "      <td>161920.160646</td>\n",
       "      <td>142933.613499</td>\n",
       "      <td>53623.205890</td>\n",
       "      <td>26286.340021</td>\n",
       "      <td>4821.419074</td>\n",
       "      <td>110316.843992</td>\n",
       "      <td>33568.796850</td>\n",
       "      <td>122821.585415</td>\n",
       "      <td>64983.793772</td>\n",
       "      <td>90052.508989</td>\n",
       "      <td>24209.926161</td>\n",
       "      <td>80767.856997</td>\n",
       "      <td>23740.216326</td>\n",
       "      <td>42672.892433</td>\n",
       "      <td>11645.006978</td>\n",
       "      <td>3240.973888</td>\n",
       "    </tr>\n",
       "    <tr>\n",
       "      <th>1</th>\n",
       "      <td>162126.210343</td>\n",
       "      <td>2.650437e+08</td>\n",
       "      <td>612637.653927</td>\n",
       "      <td>1.428572e+07</td>\n",
       "      <td>161979.424367</td>\n",
       "      <td>143719.580217</td>\n",
       "      <td>54391.349260</td>\n",
       "      <td>26972.764538</td>\n",
       "      <td>4772.183410</td>\n",
       "      <td>110131.779587</td>\n",
       "      <td>33576.170832</td>\n",
       "      <td>122519.839876</td>\n",
       "      <td>64974.326438</td>\n",
       "      <td>91107.377232</td>\n",
       "      <td>24261.936738</td>\n",
       "      <td>80767.856997</td>\n",
       "      <td>23740.216326</td>\n",
       "      <td>42694.083027</td>\n",
       "      <td>11685.091914</td>\n",
       "      <td>3238.962079</td>\n",
       "    </tr>\n",
       "    <tr>\n",
       "      <th>2</th>\n",
       "      <td>162053.505913</td>\n",
       "      <td>2.648049e+08</td>\n",
       "      <td>612403.774494</td>\n",
       "      <td>1.427869e+07</td>\n",
       "      <td>161906.719937</td>\n",
       "      <td>142996.294409</td>\n",
       "      <td>53723.963354</td>\n",
       "      <td>26962.435177</td>\n",
       "      <td>4377.541262</td>\n",
       "      <td>110935.726202</td>\n",
       "      <td>34459.375309</td>\n",
       "      <td>122464.574508</td>\n",
       "      <td>65139.247773</td>\n",
       "      <td>90679.675811</td>\n",
       "      <td>24272.733049</td>\n",
       "      <td>80767.856997</td>\n",
       "      <td>23740.216326</td>\n",
       "      <td>42656.332508</td>\n",
       "      <td>11647.548048</td>\n",
       "      <td>3241.552034</td>\n",
       "    </tr>\n",
       "    <tr>\n",
       "      <th>3</th>\n",
       "      <td>162132.527742</td>\n",
       "      <td>2.650591e+08</td>\n",
       "      <td>612668.299159</td>\n",
       "      <td>1.423015e+07</td>\n",
       "      <td>161985.741766</td>\n",
       "      <td>142991.671041</td>\n",
       "      <td>53472.174177</td>\n",
       "      <td>26571.515416</td>\n",
       "      <td>4546.288833</td>\n",
       "      <td>111776.132327</td>\n",
       "      <td>34190.320495</td>\n",
       "      <td>123099.980009</td>\n",
       "      <td>64917.390426</td>\n",
       "      <td>91307.876243</td>\n",
       "      <td>24269.273669</td>\n",
       "      <td>80767.856997</td>\n",
       "      <td>23740.216326</td>\n",
       "      <td>42696.605072</td>\n",
       "      <td>11693.430664</td>\n",
       "      <td>3234.418683</td>\n",
       "    </tr>\n",
       "    <tr>\n",
       "      <th>4</th>\n",
       "      <td>162157.627826</td>\n",
       "      <td>2.650878e+08</td>\n",
       "      <td>612724.043051</td>\n",
       "      <td>1.425129e+07</td>\n",
       "      <td>162010.841850</td>\n",
       "      <td>143732.184512</td>\n",
       "      <td>53513.675920</td>\n",
       "      <td>26967.337193</td>\n",
       "      <td>4585.705367</td>\n",
       "      <td>111019.349852</td>\n",
       "      <td>34097.105300</td>\n",
       "      <td>123341.971233</td>\n",
       "      <td>65933.194122</td>\n",
       "      <td>90561.305176</td>\n",
       "      <td>24336.819187</td>\n",
       "      <td>80767.856997</td>\n",
       "      <td>23740.216326</td>\n",
       "      <td>42719.751731</td>\n",
       "      <td>11697.375004</td>\n",
       "      <td>3232.427768</td>\n",
       "    </tr>\n",
       "    <tr>\n",
       "      <th>5</th>\n",
       "      <td>162060.416350</td>\n",
       "      <td>2.649716e+08</td>\n",
       "      <td>612419.043824</td>\n",
       "      <td>1.428133e+07</td>\n",
       "      <td>161913.630374</td>\n",
       "      <td>142570.928445</td>\n",
       "      <td>53272.094577</td>\n",
       "      <td>26693.657039</td>\n",
       "      <td>4557.730143</td>\n",
       "      <td>110800.757458</td>\n",
       "      <td>34356.958989</td>\n",
       "      <td>122928.368744</td>\n",
       "      <td>65437.070245</td>\n",
       "      <td>90426.886484</td>\n",
       "      <td>24239.072287</td>\n",
       "      <td>80767.856997</td>\n",
       "      <td>23740.216326</td>\n",
       "      <td>42642.989346</td>\n",
       "      <td>11640.789289</td>\n",
       "      <td>3268.564392</td>\n",
       "    </tr>\n",
       "    <tr>\n",
       "      <th>6</th>\n",
       "      <td>162070.836525</td>\n",
       "      <td>2.649596e+08</td>\n",
       "      <td>612536.539248</td>\n",
       "      <td>1.434633e+07</td>\n",
       "      <td>161924.050549</td>\n",
       "      <td>142645.530846</td>\n",
       "      <td>53907.658472</td>\n",
       "      <td>26712.994601</td>\n",
       "      <td>4391.670354</td>\n",
       "      <td>111367.575390</td>\n",
       "      <td>34055.950885</td>\n",
       "      <td>122667.907296</td>\n",
       "      <td>64728.009297</td>\n",
       "      <td>91603.113269</td>\n",
       "      <td>24311.103163</td>\n",
       "      <td>80767.856997</td>\n",
       "      <td>23740.216326</td>\n",
       "      <td>42642.566050</td>\n",
       "      <td>11687.598070</td>\n",
       "      <td>3232.599082</td>\n",
       "    </tr>\n",
       "    <tr>\n",
       "      <th>7</th>\n",
       "      <td>162309.465403</td>\n",
       "      <td>2.661640e+08</td>\n",
       "      <td>613012.798520</td>\n",
       "      <td>1.436133e+07</td>\n",
       "      <td>162162.679427</td>\n",
       "      <td>142993.782145</td>\n",
       "      <td>53560.162809</td>\n",
       "      <td>26396.794997</td>\n",
       "      <td>4773.586886</td>\n",
       "      <td>111643.137361</td>\n",
       "      <td>33709.874928</td>\n",
       "      <td>122522.567251</td>\n",
       "      <td>65668.948340</td>\n",
       "      <td>91831.704642</td>\n",
       "      <td>24242.107585</td>\n",
       "      <td>80767.856997</td>\n",
       "      <td>23740.216326</td>\n",
       "      <td>42754.426076</td>\n",
       "      <td>11654.298712</td>\n",
       "      <td>3392.667293</td>\n",
       "    </tr>\n",
       "    <tr>\n",
       "      <th>8</th>\n",
       "      <td>162071.433653</td>\n",
       "      <td>2.647766e+08</td>\n",
       "      <td>612437.772293</td>\n",
       "      <td>1.425711e+07</td>\n",
       "      <td>161924.647677</td>\n",
       "      <td>142934.981197</td>\n",
       "      <td>54064.937824</td>\n",
       "      <td>26403.919801</td>\n",
       "      <td>4197.515217</td>\n",
       "      <td>110017.433638</td>\n",
       "      <td>33513.656720</td>\n",
       "      <td>122585.603976</td>\n",
       "      <td>65163.966459</td>\n",
       "      <td>90511.068831</td>\n",
       "      <td>24347.261810</td>\n",
       "      <td>80767.856997</td>\n",
       "      <td>23740.216326</td>\n",
       "      <td>42679.728658</td>\n",
       "      <td>11650.052316</td>\n",
       "      <td>3233.579357</td>\n",
       "    </tr>\n",
       "    <tr>\n",
       "      <th>9</th>\n",
       "      <td>162069.579342</td>\n",
       "      <td>2.648301e+08</td>\n",
       "      <td>612420.887200</td>\n",
       "      <td>1.428883e+07</td>\n",
       "      <td>161922.793367</td>\n",
       "      <td>142871.285143</td>\n",
       "      <td>54396.792274</td>\n",
       "      <td>25691.362565</td>\n",
       "      <td>4813.481742</td>\n",
       "      <td>109575.245724</td>\n",
       "      <td>33293.990725</td>\n",
       "      <td>122718.244031</td>\n",
       "      <td>64930.159421</td>\n",
       "      <td>90761.839821</td>\n",
       "      <td>24217.204076</td>\n",
       "      <td>80767.856997</td>\n",
       "      <td>23740.216326</td>\n",
       "      <td>42672.875232</td>\n",
       "      <td>11641.075544</td>\n",
       "      <td>3247.555244</td>\n",
       "    </tr>\n",
       "  </tbody>\n",
       "</table>\n",
       "</div>"
      ],
      "text/plain": [
       "            Area  FieldCropPrice     SavedWater      Recharge  Kitfox_PerAcre  \\\n",
       "0  162066.946622    2.648002e+08  612421.524752  1.431822e+07   161920.160646   \n",
       "1  162126.210343    2.650437e+08  612637.653927  1.428572e+07   161979.424367   \n",
       "2  162053.505913    2.648049e+08  612403.774494  1.427869e+07   161906.719937   \n",
       "3  162132.527742    2.650591e+08  612668.299159  1.423015e+07   161985.741766   \n",
       "4  162157.627826    2.650878e+08  612724.043051  1.425129e+07   162010.841850   \n",
       "5  162060.416350    2.649716e+08  612419.043824  1.428133e+07   161913.630374   \n",
       "6  162070.836525    2.649596e+08  612536.539248  1.434633e+07   161924.050549   \n",
       "7  162309.465403    2.661640e+08  613012.798520  1.436133e+07   162162.679427   \n",
       "8  162071.433653    2.647766e+08  612437.772293  1.425711e+07   161924.647677   \n",
       "9  162069.579342    2.648301e+08  612420.887200  1.428883e+07   161922.793367   \n",
       "\n",
       "   TiptonKRat_PerAcre  GiantGarterSnake_PerAcre   TNC_PerAcre  \\\n",
       "0       142933.613499              53623.205890  26286.340021   \n",
       "1       143719.580217              54391.349260  26972.764538   \n",
       "2       142996.294409              53723.963354  26962.435177   \n",
       "3       142991.671041              53472.174177  26571.515416   \n",
       "4       143732.184512              53513.675920  26967.337193   \n",
       "5       142570.928445              53272.094577  26693.657039   \n",
       "6       142645.530846              53907.658472  26712.994601   \n",
       "7       142993.782145              53560.162809  26396.794997   \n",
       "8       142934.981197              54064.937824  26403.919801   \n",
       "9       142871.285143              54396.792274  25691.362565   \n",
       "\n",
       "   HabCorridors_PerAcre  ConservationAreas_PerAcre  ImpBirdAreas_PerAcre  \\\n",
       "0           4821.419074              110316.843992          33568.796850   \n",
       "1           4772.183410              110131.779587          33576.170832   \n",
       "2           4377.541262              110935.726202          34459.375309   \n",
       "3           4546.288833              111776.132327          34190.320495   \n",
       "4           4585.705367              111019.349852          34097.105300   \n",
       "5           4557.730143              110800.757458          34356.958989   \n",
       "6           4391.670354              111367.575390          34055.950885   \n",
       "7           4773.586886              111643.137361          33709.874928   \n",
       "8           4197.515217              110017.433638          33513.656720   \n",
       "9           4813.481742              109575.245724          33293.990725   \n",
       "\n",
       "   Nitrate_PerAcre  ModSAGBI_PerAcre  Prox2Wetlands_PerAcre  \\\n",
       "0    122821.585415      64983.793772           90052.508989   \n",
       "1    122519.839876      64974.326438           91107.377232   \n",
       "2    122464.574508      65139.247773           90679.675811   \n",
       "3    123099.980009      64917.390426           91307.876243   \n",
       "4    123341.971233      65933.194122           90561.305176   \n",
       "5    122928.368744      65437.070245           90426.886484   \n",
       "6    122667.907296      64728.009297           91603.113269   \n",
       "7    122522.567251      65668.948340           91831.704642   \n",
       "8    122585.603976      65163.966459           90511.068831   \n",
       "9    122718.244031      64930.159421           90761.839821   \n",
       "\n",
       "   Depth2GroundWater_PerAcre  alfalfa-pasture          corn  \\\n",
       "0               24209.926161     80767.856997  23740.216326   \n",
       "1               24261.936738     80767.856997  23740.216326   \n",
       "2               24272.733049     80767.856997  23740.216326   \n",
       "3               24269.273669     80767.856997  23740.216326   \n",
       "4               24336.819187     80767.856997  23740.216326   \n",
       "5               24239.072287     80767.856997  23740.216326   \n",
       "6               24311.103163     80767.856997  23740.216326   \n",
       "7               24242.107585     80767.856997  23740.216326   \n",
       "8               24347.261810     80767.856997  23740.216326   \n",
       "9               24217.204076     80767.856997  23740.216326   \n",
       "\n",
       "   field-crops-grains   trees-vines   veg-fruits  \n",
       "0        42672.892433  11645.006978  3240.973888  \n",
       "1        42694.083027  11685.091914  3238.962079  \n",
       "2        42656.332508  11647.548048  3241.552034  \n",
       "3        42696.605072  11693.430664  3234.418683  \n",
       "4        42719.751731  11697.375004  3232.427768  \n",
       "5        42642.989346  11640.789289  3268.564392  \n",
       "6        42642.566050  11687.598070  3232.599082  \n",
       "7        42754.426076  11654.298712  3392.667293  \n",
       "8        42679.728658  11650.052316  3233.579357  \n",
       "9        42672.875232  11641.075544  3247.555244  "
      ]
     },
     "execution_count": 10,
     "metadata": {},
     "output_type": "execute_result"
    }
   ],
   "source": [
    "trials.head(10)"
   ]
  },
  {
   "cell_type": "markdown",
   "metadata": {},
   "source": [
    "#### Save output"
   ]
  },
  {
   "cell_type": "code",
   "execution_count": 37,
   "metadata": {},
   "outputs": [],
   "source": [
    "outname = '../outputs/' + 'trials' + region +'.xlsx'\n",
    "trials.to_excel(outname)"
   ]
  },
  {
   "cell_type": "markdown",
   "metadata": {},
   "source": [
    "### Visualize results"
   ]
  },
  {
   "cell_type": "markdown",
   "metadata": {},
   "source": [
    "#### Ensure sufficient acreage fallowed"
   ]
  },
  {
   "cell_type": "code",
   "execution_count": 26,
   "metadata": {},
   "outputs": [
    {
     "name": "stdout",
     "output_type": "stream",
     "text": [
      "$265,114,542.13\n"
     ]
    }
   ],
   "source": [
    "# Average revenue loss\n",
    "value = trials['FieldCropPrice'].mean()\n",
    "print (f'${value:,.2f}')"
   ]
  },
  {
   "cell_type": "code",
   "execution_count": 11,
   "metadata": {},
   "outputs": [],
   "source": [
    "# Bar chart with each crop type on x-axis, acreage fallowed as bars, and targets as dots. Visualize difference between\n",
    "# acreage fallowed and target for each crop type in one chart.\n"
   ]
  },
  {
   "cell_type": "code",
   "execution_count": 12,
   "metadata": {},
   "outputs": [
    {
     "name": "stderr",
     "output_type": "stream",
     "text": [
      "C:\\Users\\Erik\\Anaconda3\\lib\\site-packages\\seaborn\\distributions.py:214: MatplotlibDeprecationWarning: \n",
      "The 'normed' kwarg was deprecated in Matplotlib 2.1 and will be removed in 3.1. Use 'density' instead.\n",
      "  color=hist_color, **hist_kws)\n"
     ]
    },
    {
     "data": {
      "image/png": "[encoded data removed]",
      "text/plain": [
       "<Figure size 432x288 with 1 Axes>"
      ]
     },
     "metadata": {
      "needs_background": "light"
     },
     "output_type": "display_data"
    }
   ],
   "source": [
    "crop_type = 'veg-fruits'\n",
    "sns.distplot(trials[crop_type]-targets.loc[region, crop_type], rug=True)\n",
    "sns.despine()"
   ]
  },
  {
   "cell_type": "code",
   "execution_count": 13,
   "metadata": {},
   "outputs": [
    {
     "data": {
      "image/png": "[encoded data removed]",
      "text/plain": [
       "<Figure size 432x288 with 1 Axes>"
      ]
     },
     "metadata": {
      "needs_background": "light"
     },
     "output_type": "display_data"
    }
   ],
   "source": [
    "sns.distplot(trials['GiantGarterSnake_PerAcre'], rug=True)\n",
    "sns.despine()"
   ]
  }
 ],
 "metadata": {
  "kernelspec": {
   "display_name": "Python 3",
   "language": "python",
   "name": "python3"
  },
  "language_info": {
   "codemirror_mode": {
    "name": "ipython",
    "version": 3
   },
   "file_extension": ".py",
   "mimetype": "text/x-python",
   "name": "python",
   "nbconvert_exporter": "python",
   "pygments_lexer": "ipython3",
   "version": "3.6.8"
  }
 },
 "nbformat": 4,
 "nbformat_minor": 2
}
