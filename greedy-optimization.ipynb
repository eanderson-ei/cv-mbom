{
 "cells": [
  {
   "cell_type": "markdown",
   "metadata": {},
   "source": [
    "## Research Questions\n",
    "1. What amount of ecosystem services (species habitat, water benefits) can be accrued under the business as usual case?\n",
    "2. What amount of ecosystem services could be acquired with augmented budgets?"
   ]
  },
  {
   "cell_type": "markdown",
   "metadata": {},
   "source": [
    "## Approach\n",
    "### 1. Setup\n",
    "**Input:** \n",
    "\n",
    "For each PPIC region (e.g., Kern County), a table of fields as records and features including crop type, size in acres, and ecosystem services features (e.g., suitability-weighted acreage of individual species habitat).\n",
    "\n",
    "**Feature engineering:** \n",
    "* Features that aggregate the ecosystem services must be calculated to facilitate the greedy algorithm. Multiple scenarios can be run (e.g., most habitat, most water recharge), but the 'optimal' solution needs a single ecosystem service feature to optimize for. Weightings and aggregation approach must be proposed.\n",
    "* Crop types must be modified to match the PPIC crop type categories. A cross-reference table must be built.\n",
    "\n",
    "### 2. Business as usual case\n",
    "To begin, we must understand the business as usual case. Use a bootstrap approach to model a distribution of potential ecosystem service outcomes (i.e., amount of ecosystem services acquired). This will provide baseline for probabilistic comparison of the optimal outcome (i.e., if left to chance, what is the probability we would get 90% of the ecosystem services acquired through strategic acquisistion?).\n",
    "1. For each crop type, select random fields until the acreage target is hit.\n",
    "2. Store the field ID in a list\n",
    "3. Sum the ecosystem service values for each field acquired in a value store for each ecosystem service (including aggregate features)\n",
    "4. Repeat 1,000 iterations and store outcomes of each iteration in a unique list of outcomes for each ecosystem service (including aggregate features); store the list of field IDs in a table (append n/a as field ID list will be variable length)\n",
    "\n",
    "### 3. Strategic acquisition\n",
    "1. For each crop type, sort the table based on the aggregate ecosystem service feature or ecosystem service of interest\n",
    "2. Acquire fields in order until acreage target for the crop type is satisfied\n",
    "3. Store the field ID in a list\n",
    "4. Sum the ecosystem service values for each field acquired in a value store for each ecosystem service (including aggregate features)\n",
    "5. Repeat with additional ecosystem services as desired.\n",
    "\n",
    "### 4. Budget augmentation\n",
    "TBD"
   ]
  },
  {
   "cell_type": "markdown",
   "metadata": {},
   "source": [
    "## Outputs\n",
    "The business as usual case can be visualized as a histogram of the bootstrap attempts and the outcome in terms of the top-tier aggregate ecosystem service output. Include a pointer for the strategic acquisition optimum and the 90% of optimum solution. This will illustrate the distance between the business as usual and optimal outcomes with some acknowledgement that the optimum is unlikely due to landowner preferences, network effects, etc.\n",
    "\n",
    "The strategic acquisition case can be visualized spatially. Display a map of the acquired fields and some visualization of the ecosystems services provided."
   ]
  },
  {
   "cell_type": "code",
   "execution_count": null,
   "metadata": {},
   "outputs": [],
   "source": []
  }
 ],
 "metadata": {
  "kernelspec": {
   "display_name": "Python 3",
   "language": "python",
   "name": "python3"
  },
  "language_info": {
   "codemirror_mode": {
    "name": "ipython",
    "version": 3
   },
   "file_extension": ".py",
   "mimetype": "text/x-python",
   "name": "python",
   "nbconvert_exporter": "python",
   "pygments_lexer": "ipython3",
   "version": "3.6.8"
  }
 },
 "nbformat": 4,
 "nbformat_minor": 2
}
